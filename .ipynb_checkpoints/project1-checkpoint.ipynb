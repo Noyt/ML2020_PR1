{
 "cells": [
  {
   "cell_type": "code",
   "execution_count": 1,
   "metadata": {},
   "outputs": [],
   "source": [
    "# Useful starting lines\n",
    "%matplotlib inline\n",
    "import numpy as np\n",
    "import matplotlib.pyplot as plt\n",
    "%load_ext autoreload\n",
    "%autoreload 2"
   ]
  },
  {
   "cell_type": "markdown",
   "metadata": {},
   "source": [
    "# EPFL Machine Learning Higgs"
   ]
  },
  {
   "cell_type": "markdown",
   "metadata": {},
   "source": [
    "TODO description"
   ]
  },
  {
   "cell_type": "markdown",
   "metadata": {},
   "source": [
    "## 1. Load the training data into feature matrix, class labels, and event ids:"
   ]
  },
  {
   "cell_type": "code",
   "execution_count": 2,
   "metadata": {
    "collapsed": false,
    "jupyter": {
     "outputs_hidden": false
    }
   },
   "outputs": [],
   "source": [
    "from proj1_helpers import *\n",
    "from implementations import *\n",
    "from cross_validation import *\n",
    "from plots import *"
   ]
  },
  {
   "cell_type": "code",
   "execution_count": 118,
   "metadata": {},
   "outputs": [],
   "source": [
    "DATA_TRAIN_PATH = 'data/train.csv' \n",
    "y, tX, ids = load_csv_data(DATA_TRAIN_PATH)"
   ]
  },
  {
   "cell_type": "markdown",
   "metadata": {},
   "source": [
    "## 2. Data pre-processing\n",
    "\n",
    "Before any attempt to prediction, we perform some data cleaning (TODO) and preprocessing. We start by standardising our training dataset."
   ]
  },
  {
   "cell_type": "code",
   "execution_count": 231,
   "metadata": {},
   "outputs": [
    {
     "data": {
      "text/plain": [
       "array([[ 1.        , -0.47725215,  0.06833197, ...,  1.5668    ,\n",
       "         1.55858439,  0.4125105 ],\n",
       "       [ 1.        , -0.4201596 ,  0.55250482, ..., -0.63936657,\n",
       "        -0.63936694, -0.27381996],\n",
       "       [ 1.        , -0.38697374,  3.19515553, ..., -0.63936657,\n",
       "        -0.63936694, -0.29396985],\n",
       "       ...,\n",
       "       [ 1.        , -0.4618196 ,  0.31931645, ..., -0.63936657,\n",
       "        -0.63936694, -0.31701723],\n",
       "       [ 1.        , -0.43512203, -0.84532397, ..., -0.63936657,\n",
       "        -0.63936694, -0.74543941],\n",
       "       [ 1.        ,  2.34479741,  0.66533608, ..., -0.63936657,\n",
       "        -0.63936694, -0.74543941]])"
      ]
     },
     "execution_count": 231,
     "metadata": {},
     "output_type": "execute_result"
    }
   ],
   "source": [
    "tx = mass_abs(tX)\n",
    "tx, mean_tX, std_tX = standardise(tx)\n",
    "tx_phi = np.delete(tx, [15, 18, 20], axis = 1) \n",
    "tx_phi = np.c_[np.ones(len(tx[:,0])), tx_phi]\n",
    "tx = np.c_[np.ones(len(tx[:,0])), tx]\n",
    "# add constant term\n",
    "nb_features=tx.shape[1]\n",
    "nb_features_phi=tx_phi.shape[1]\n",
    "tx_phi"
   ]
  },
  {
   "cell_type": "code",
   "execution_count": 5,
   "metadata": {},
   "outputs": [
    {
     "name": "stdout",
     "output_type": "stream",
     "text": [
      "Acc pour non standardisé:  0.745656 \n",
      "Acc pour standardisé:  0.74612 \n"
     ]
    }
   ],
   "source": [
    "w, loss = least_squares(y, tX)\n",
    "print('Acc pour non standardisé:  {} '.format(compute_accuracy(w, y, tX)))\n",
    "      \n",
    "w, loss = least_squares(y, tx)\n",
    "print('Acc pour standardisé:  {} '.format(compute_accuracy(w, y, tx)))"
   ]
  },
  {
   "cell_type": "code",
   "execution_count": 6,
   "metadata": {},
   "outputs": [
    {
     "name": "stderr",
     "output_type": "stream",
     "text": [
      "/home/noyt/Desktop/MA1/ML_CS433/ML2020_PR1/proj1_helpers.py:128: RuntimeWarning: overflow encountered in exp\n",
      "  ret = 1 / (1 + np.exp(-t))\n"
     ]
    }
   ],
   "source": [
    "w, loss = reg_logistic_regression(y, tx, lambda_=1, initial_w=np.random.rand(31), max_iters=50, gamma=0.1)"
   ]
  },
  {
   "cell_type": "markdown",
   "metadata": {},
   "source": [
    "## 3. Classic ML methods\n",
    "\n",
    "The following predictions are made using the functions implemented during the course labs.\n",
    "\n",
    "### 3.1 Least Squares GD"
   ]
  },
  {
   "cell_type": "code",
   "execution_count": 22,
   "metadata": {},
   "outputs": [
    {
     "data": {
      "text/plain": [
       "(0.3500343081506251, 0.34988742765649805, 0.7347786666666667, 0.734772)"
      ]
     },
     "execution_count": 22,
     "metadata": {},
     "output_type": "execute_result"
    }
   ],
   "source": [
    "#### testing answer\n",
    "\n",
    "kwargs = {}\n",
    "kwargs['initial_w'] = np.zeros(nb_features)\n",
    "kwargs['max_iters'] = 50\n",
    "kwargs['gamma'] = 0.1\n",
    "\n",
    "cross_validation(y, tx, compute_accuracy, 'least_squares_GD', k_fold=4, **kwargs)"
   ]
  },
  {
   "cell_type": "markdown",
   "metadata": {},
   "source": [
    "### 3.2 Least Squares SGD"
   ]
  },
  {
   "cell_type": "code",
   "execution_count": 23,
   "metadata": {},
   "outputs": [
    {
     "data": {
      "text/plain": [
       "(0.4750927441808538, 0.4754131099889807, 0.6377586666666667, 0.637976)"
      ]
     },
     "execution_count": 23,
     "metadata": {},
     "output_type": "execute_result"
    }
   ],
   "source": [
    "#### testing answer\n",
    "\n",
    "kwargs = {}\n",
    "kwargs['initial_w'] = np.zeros(nb_features)\n",
    "kwargs['max_iters'] = 50\n",
    "kwargs['gamma'] = 0.001\n",
    "\n",
    "cross_validation(y, tx, compute_accuracy, 'least_squares_SGD', k_fold=4, **kwargs)"
   ]
  },
  {
   "cell_type": "markdown",
   "metadata": {},
   "source": [
    "### 3.3 Least Squares, normal equations"
   ]
  },
  {
   "cell_type": "code",
   "execution_count": 179,
   "metadata": {},
   "outputs": [
    {
     "data": {
      "text/plain": [
       "(0.2946649232791637,\n",
       " 0.3382233223889486,\n",
       " 0.8016093333333333,\n",
       " 0.8012440000000001)"
      ]
     },
     "execution_count": 179,
     "metadata": {},
     "output_type": "execute_result"
    }
   ],
   "source": [
    "#### testing answer\n",
    "\n",
    "cross_validation(y, tx, compute_accuracy, 'least_squares', k_fold=4, degree=2)"
   ]
  },
  {
   "cell_type": "code",
   "execution_count": 244,
   "metadata": {},
   "outputs": [
    {
     "name": "stdout",
     "output_type": "stream",
     "text": [
      "[[200044 180997 100132   7090 129848   1308 182440  12774 157221  29873\n",
      "   67378  57041  56990  12494 154878 217418 122112 197989   5946 223122\n",
      "  242715 126067 132661 136894 144326]]\n"
     ]
    },
    {
     "ename": "ValueError",
     "evalue": "too many values to unpack (expected 4)",
     "output_type": "error",
     "traceback": [
      "\u001b[0;31m---------------------------------------------------------------------------\u001b[0m",
      "\u001b[0;31mValueError\u001b[0m                                Traceback (most recent call last)",
      "\u001b[0;32m<ipython-input-244-2175cbd18d8b>\u001b[0m in \u001b[0;36m<module>\u001b[0;34m\u001b[0m\n\u001b[1;32m      3\u001b[0m \u001b[0mtx\u001b[0m \u001b[0;34m=\u001b[0m \u001b[0mnp\u001b[0m\u001b[0;34m.\u001b[0m\u001b[0mc_\u001b[0m\u001b[0;34m[\u001b[0m\u001b[0mnp\u001b[0m\u001b[0;34m.\u001b[0m\u001b[0mones\u001b[0m\u001b[0;34m(\u001b[0m\u001b[0mlen\u001b[0m\u001b[0;34m(\u001b[0m\u001b[0mtx\u001b[0m\u001b[0;34m[\u001b[0m\u001b[0;34m:\u001b[0m\u001b[0;34m,\u001b[0m\u001b[0;36m0\u001b[0m\u001b[0;34m]\u001b[0m\u001b[0;34m)\u001b[0m\u001b[0;34m)\u001b[0m\u001b[0;34m,\u001b[0m \u001b[0mtx\u001b[0m\u001b[0;34m]\u001b[0m\u001b[0;34m\u001b[0m\u001b[0;34m\u001b[0m\u001b[0m\n\u001b[1;32m      4\u001b[0m \u001b[0;34m\u001b[0m\u001b[0m\n\u001b[0;32m----> 5\u001b[0;31m \u001b[0mcross_validation\u001b[0m\u001b[0;34m(\u001b[0m\u001b[0my\u001b[0m\u001b[0;34m,\u001b[0m \u001b[0mtx\u001b[0m\u001b[0;34m,\u001b[0m \u001b[0mcompute_accuracy\u001b[0m\u001b[0;34m,\u001b[0m \u001b[0;34m'least_squares'\u001b[0m\u001b[0;34m,\u001b[0m \u001b[0mk_fold\u001b[0m\u001b[0;34m=\u001b[0m\u001b[0;36m10000\u001b[0m\u001b[0;34m,\u001b[0m \u001b[0mdegree\u001b[0m\u001b[0;34m=\u001b[0m\u001b[0;36m5\u001b[0m\u001b[0;34m)\u001b[0m\u001b[0;34m\u001b[0m\u001b[0;34m\u001b[0m\u001b[0m\n\u001b[0m",
      "\u001b[0;32m~/Desktop/MA1/ML_CS433/ML2020_PR1/cross_validation.py\u001b[0m in \u001b[0;36mcross_validation\u001b[0;34m(y, x, metric, learning_model, k_fold, degree, **kwargs)\u001b[0m\n\u001b[1;32m     88\u001b[0m \u001b[0;34m\u001b[0m\u001b[0m\n\u001b[1;32m     89\u001b[0m     \u001b[0;32mfor\u001b[0m \u001b[0mk\u001b[0m \u001b[0;32min\u001b[0m \u001b[0mrange\u001b[0m\u001b[0;34m(\u001b[0m\u001b[0mlen\u001b[0m\u001b[0;34m(\u001b[0m\u001b[0mk_indices\u001b[0m\u001b[0;34m)\u001b[0m\u001b[0;34m)\u001b[0m\u001b[0;34m:\u001b[0m\u001b[0;34m\u001b[0m\u001b[0;34m\u001b[0m\u001b[0m\n\u001b[0;32m---> 90\u001b[0;31m         \u001b[0mloss_tr\u001b[0m\u001b[0;34m,\u001b[0m \u001b[0mloss_te\u001b[0m\u001b[0;34m,\u001b[0m \u001b[0mmetric_tr\u001b[0m\u001b[0;34m,\u001b[0m \u001b[0mmetric_te\u001b[0m \u001b[0;34m=\u001b[0m \u001b[0mcross_validation_single_fold\u001b[0m\u001b[0;34m(\u001b[0m\u001b[0my\u001b[0m\u001b[0;34m,\u001b[0m \u001b[0mpoly\u001b[0m\u001b[0;34m,\u001b[0m \u001b[0mk_indices\u001b[0m\u001b[0;34m,\u001b[0m \u001b[0mk\u001b[0m\u001b[0;34m,\u001b[0m \u001b[0mmetric\u001b[0m\u001b[0;34m,\u001b[0m \u001b[0mlearning_model\u001b[0m\u001b[0;34m,\u001b[0m \u001b[0;34m**\u001b[0m\u001b[0mkwargs\u001b[0m\u001b[0;34m)\u001b[0m\u001b[0;34m\u001b[0m\u001b[0;34m\u001b[0m\u001b[0m\n\u001b[0m\u001b[1;32m     91\u001b[0m         \u001b[0mlosses_tr\u001b[0m\u001b[0;34m.\u001b[0m\u001b[0mappend\u001b[0m\u001b[0;34m(\u001b[0m\u001b[0mloss_tr\u001b[0m\u001b[0;34m)\u001b[0m\u001b[0;34m\u001b[0m\u001b[0;34m\u001b[0m\u001b[0m\n\u001b[1;32m     92\u001b[0m         \u001b[0mlosses_te\u001b[0m\u001b[0;34m.\u001b[0m\u001b[0mappend\u001b[0m\u001b[0;34m(\u001b[0m\u001b[0mloss_te\u001b[0m\u001b[0;34m)\u001b[0m\u001b[0;34m\u001b[0m\u001b[0;34m\u001b[0m\u001b[0m\n",
      "\u001b[0;31mValueError\u001b[0m: too many values to unpack (expected 4)"
     ]
    }
   ],
   "source": [
    "tx = mass_abs(tX)\n",
    "tx, mean_tX, std_tX = standardise(tx)\n",
    "tx = np.c_[np.ones(len(tx[:,0])), tx]\n",
    "\n",
    "cross_validation(y, tx, compute_accuracy, 'least_squares', k_fold=10000, degree=5)"
   ]
  },
  {
   "cell_type": "code",
   "execution_count": 245,
   "metadata": {},
   "outputs": [],
   "source": [
    "weird_idx2 = [200044, 180997, 100132,  7090, 129848,   1308, 182440,  12774, 157221,  29873,\n",
    "   67378,  57041,  56990,  12494, 154878, 217418, 122112, 197989,   5946, 223122,\n",
    "  242715, 126067, 132661, 136894, 144326]"
   ]
  },
  {
   "cell_type": "code",
   "execution_count": 260,
   "metadata": {},
   "outputs": [
    {
     "data": {
      "text/html": [
       "<div>\n",
       "<style scoped>\n",
       "    .dataframe tbody tr th:only-of-type {\n",
       "        vertical-align: middle;\n",
       "    }\n",
       "\n",
       "    .dataframe tbody tr th {\n",
       "        vertical-align: top;\n",
       "    }\n",
       "\n",
       "    .dataframe thead th {\n",
       "        text-align: right;\n",
       "    }\n",
       "</style>\n",
       "<table border=\"1\" class=\"dataframe\">\n",
       "  <thead>\n",
       "    <tr style=\"text-align: right;\">\n",
       "      <th></th>\n",
       "      <th>0</th>\n",
       "      <th>1</th>\n",
       "      <th>2</th>\n",
       "      <th>3</th>\n",
       "      <th>4</th>\n",
       "      <th>5</th>\n",
       "      <th>6</th>\n",
       "      <th>7</th>\n",
       "      <th>8</th>\n",
       "      <th>9</th>\n",
       "      <th>...</th>\n",
       "      <th>20</th>\n",
       "      <th>21</th>\n",
       "      <th>22</th>\n",
       "      <th>23</th>\n",
       "      <th>24</th>\n",
       "      <th>25</th>\n",
       "      <th>26</th>\n",
       "      <th>27</th>\n",
       "      <th>28</th>\n",
       "      <th>29</th>\n",
       "    </tr>\n",
       "  </thead>\n",
       "  <tbody>\n",
       "    <tr>\n",
       "      <th>0</th>\n",
       "      <td>201.692</td>\n",
       "      <td>63.119</td>\n",
       "      <td>162.663</td>\n",
       "      <td>42.384</td>\n",
       "      <td>-999.000</td>\n",
       "      <td>-999.000</td>\n",
       "      <td>-999.000</td>\n",
       "      <td>3.454</td>\n",
       "      <td>3.304</td>\n",
       "      <td>104.803</td>\n",
       "      <td>...</td>\n",
       "      <td>0.015</td>\n",
       "      <td>169.982</td>\n",
       "      <td>1.0</td>\n",
       "      <td>39.366</td>\n",
       "      <td>0.517</td>\n",
       "      <td>1.479</td>\n",
       "      <td>-999.000</td>\n",
       "      <td>-999.000</td>\n",
       "      <td>-999.000</td>\n",
       "      <td>39.366</td>\n",
       "    </tr>\n",
       "    <tr>\n",
       "      <th>1</th>\n",
       "      <td>147.737</td>\n",
       "      <td>77.271</td>\n",
       "      <td>77.321</td>\n",
       "      <td>223.435</td>\n",
       "      <td>0.788</td>\n",
       "      <td>80.330</td>\n",
       "      <td>1.346</td>\n",
       "      <td>1.281</td>\n",
       "      <td>79.248</td>\n",
       "      <td>364.155</td>\n",
       "      <td>...</td>\n",
       "      <td>-1.709</td>\n",
       "      <td>568.258</td>\n",
       "      <td>3.0</td>\n",
       "      <td>94.417</td>\n",
       "      <td>-1.619</td>\n",
       "      <td>1.619</td>\n",
       "      <td>68.781</td>\n",
       "      <td>-0.831</td>\n",
       "      <td>2.043</td>\n",
       "      <td>232.641</td>\n",
       "    </tr>\n",
       "    <tr>\n",
       "      <th>2</th>\n",
       "      <td>406.810</td>\n",
       "      <td>74.098</td>\n",
       "      <td>329.273</td>\n",
       "      <td>74.691</td>\n",
       "      <td>0.350</td>\n",
       "      <td>52.581</td>\n",
       "      <td>7.773</td>\n",
       "      <td>4.060</td>\n",
       "      <td>60.866</td>\n",
       "      <td>320.489</td>\n",
       "      <td>...</td>\n",
       "      <td>-0.418</td>\n",
       "      <td>300.157</td>\n",
       "      <td>3.0</td>\n",
       "      <td>71.003</td>\n",
       "      <td>-2.969</td>\n",
       "      <td>-1.295</td>\n",
       "      <td>44.992</td>\n",
       "      <td>-2.619</td>\n",
       "      <td>-2.131</td>\n",
       "      <td>159.503</td>\n",
       "    </tr>\n",
       "    <tr>\n",
       "      <th>3</th>\n",
       "      <td>192.333</td>\n",
       "      <td>7.378</td>\n",
       "      <td>111.780</td>\n",
       "      <td>99.557</td>\n",
       "      <td>-999.000</td>\n",
       "      <td>-999.000</td>\n",
       "      <td>-999.000</td>\n",
       "      <td>3.031</td>\n",
       "      <td>0.289</td>\n",
       "      <td>153.727</td>\n",
       "      <td>...</td>\n",
       "      <td>2.779</td>\n",
       "      <td>176.896</td>\n",
       "      <td>1.0</td>\n",
       "      <td>99.367</td>\n",
       "      <td>-2.065</td>\n",
       "      <td>-0.384</td>\n",
       "      <td>-999.000</td>\n",
       "      <td>-999.000</td>\n",
       "      <td>-999.000</td>\n",
       "      <td>99.367</td>\n",
       "    </tr>\n",
       "    <tr>\n",
       "      <th>4</th>\n",
       "      <td>87.441</td>\n",
       "      <td>61.184</td>\n",
       "      <td>69.265</td>\n",
       "      <td>1.859</td>\n",
       "      <td>-999.000</td>\n",
       "      <td>-999.000</td>\n",
       "      <td>-999.000</td>\n",
       "      <td>2.653</td>\n",
       "      <td>1.859</td>\n",
       "      <td>69.946</td>\n",
       "      <td>...</td>\n",
       "      <td>2.120</td>\n",
       "      <td>66.935</td>\n",
       "      <td>0.0</td>\n",
       "      <td>-999.000</td>\n",
       "      <td>-999.000</td>\n",
       "      <td>-999.000</td>\n",
       "      <td>-999.000</td>\n",
       "      <td>-999.000</td>\n",
       "      <td>-999.000</td>\n",
       "      <td>0.000</td>\n",
       "    </tr>\n",
       "    <tr>\n",
       "      <th>5</th>\n",
       "      <td>164.126</td>\n",
       "      <td>125.145</td>\n",
       "      <td>83.946</td>\n",
       "      <td>4.785</td>\n",
       "      <td>-999.000</td>\n",
       "      <td>-999.000</td>\n",
       "      <td>-999.000</td>\n",
       "      <td>2.818</td>\n",
       "      <td>4.785</td>\n",
       "      <td>97.547</td>\n",
       "      <td>...</td>\n",
       "      <td>2.029</td>\n",
       "      <td>96.677</td>\n",
       "      <td>0.0</td>\n",
       "      <td>-999.000</td>\n",
       "      <td>-999.000</td>\n",
       "      <td>-999.000</td>\n",
       "      <td>-999.000</td>\n",
       "      <td>-999.000</td>\n",
       "      <td>-999.000</td>\n",
       "      <td>0.000</td>\n",
       "    </tr>\n",
       "    <tr>\n",
       "      <th>6</th>\n",
       "      <td>85.040</td>\n",
       "      <td>35.863</td>\n",
       "      <td>62.869</td>\n",
       "      <td>26.425</td>\n",
       "      <td>-999.000</td>\n",
       "      <td>-999.000</td>\n",
       "      <td>-999.000</td>\n",
       "      <td>2.097</td>\n",
       "      <td>26.425</td>\n",
       "      <td>71.401</td>\n",
       "      <td>...</td>\n",
       "      <td>3.056</td>\n",
       "      <td>151.096</td>\n",
       "      <td>0.0</td>\n",
       "      <td>-999.000</td>\n",
       "      <td>-999.000</td>\n",
       "      <td>-999.000</td>\n",
       "      <td>-999.000</td>\n",
       "      <td>-999.000</td>\n",
       "      <td>-999.000</td>\n",
       "      <td>0.000</td>\n",
       "    </tr>\n",
       "    <tr>\n",
       "      <th>7</th>\n",
       "      <td>88.525</td>\n",
       "      <td>0.117</td>\n",
       "      <td>64.768</td>\n",
       "      <td>115.272</td>\n",
       "      <td>-999.000</td>\n",
       "      <td>-999.000</td>\n",
       "      <td>-999.000</td>\n",
       "      <td>1.344</td>\n",
       "      <td>0.752</td>\n",
       "      <td>205.504</td>\n",
       "      <td>...</td>\n",
       "      <td>-1.441</td>\n",
       "      <td>188.548</td>\n",
       "      <td>1.0</td>\n",
       "      <td>114.637</td>\n",
       "      <td>0.454</td>\n",
       "      <td>1.792</td>\n",
       "      <td>-999.000</td>\n",
       "      <td>-999.000</td>\n",
       "      <td>-999.000</td>\n",
       "      <td>114.637</td>\n",
       "    </tr>\n",
       "    <tr>\n",
       "      <th>8</th>\n",
       "      <td>96.187</td>\n",
       "      <td>42.695</td>\n",
       "      <td>69.185</td>\n",
       "      <td>25.335</td>\n",
       "      <td>2.664</td>\n",
       "      <td>318.110</td>\n",
       "      <td>3.066</td>\n",
       "      <td>2.041</td>\n",
       "      <td>26.323</td>\n",
       "      <td>338.590</td>\n",
       "      <td>...</td>\n",
       "      <td>0.461</td>\n",
       "      <td>394.621</td>\n",
       "      <td>3.0</td>\n",
       "      <td>106.579</td>\n",
       "      <td>0.868</td>\n",
       "      <td>1.811</td>\n",
       "      <td>56.453</td>\n",
       "      <td>3.532</td>\n",
       "      <td>-1.490</td>\n",
       "      <td>257.332</td>\n",
       "    </tr>\n",
       "    <tr>\n",
       "      <th>9</th>\n",
       "      <td>130.925</td>\n",
       "      <td>15.329</td>\n",
       "      <td>86.136</td>\n",
       "      <td>1.139</td>\n",
       "      <td>-999.000</td>\n",
       "      <td>-999.000</td>\n",
       "      <td>-999.000</td>\n",
       "      <td>2.955</td>\n",
       "      <td>1.139</td>\n",
       "      <td>86.429</td>\n",
       "      <td>...</td>\n",
       "      <td>-2.781</td>\n",
       "      <td>102.596</td>\n",
       "      <td>0.0</td>\n",
       "      <td>-999.000</td>\n",
       "      <td>-999.000</td>\n",
       "      <td>-999.000</td>\n",
       "      <td>-999.000</td>\n",
       "      <td>-999.000</td>\n",
       "      <td>-999.000</td>\n",
       "      <td>0.000</td>\n",
       "    </tr>\n",
       "    <tr>\n",
       "      <th>10</th>\n",
       "      <td>85.936</td>\n",
       "      <td>4.695</td>\n",
       "      <td>59.958</td>\n",
       "      <td>40.465</td>\n",
       "      <td>-999.000</td>\n",
       "      <td>-999.000</td>\n",
       "      <td>-999.000</td>\n",
       "      <td>2.847</td>\n",
       "      <td>3.617</td>\n",
       "      <td>106.090</td>\n",
       "      <td>...</td>\n",
       "      <td>-1.211</td>\n",
       "      <td>137.172</td>\n",
       "      <td>1.0</td>\n",
       "      <td>43.814</td>\n",
       "      <td>0.025</td>\n",
       "      <td>1.830</td>\n",
       "      <td>-999.000</td>\n",
       "      <td>-999.000</td>\n",
       "      <td>-999.000</td>\n",
       "      <td>43.814</td>\n",
       "    </tr>\n",
       "    <tr>\n",
       "      <th>11</th>\n",
       "      <td>149.618</td>\n",
       "      <td>44.936</td>\n",
       "      <td>96.534</td>\n",
       "      <td>109.501</td>\n",
       "      <td>-999.000</td>\n",
       "      <td>-999.000</td>\n",
       "      <td>-999.000</td>\n",
       "      <td>2.223</td>\n",
       "      <td>14.012</td>\n",
       "      <td>199.272</td>\n",
       "      <td>...</td>\n",
       "      <td>-0.473</td>\n",
       "      <td>353.552</td>\n",
       "      <td>1.0</td>\n",
       "      <td>98.466</td>\n",
       "      <td>-0.545</td>\n",
       "      <td>2.445</td>\n",
       "      <td>-999.000</td>\n",
       "      <td>-999.000</td>\n",
       "      <td>-999.000</td>\n",
       "      <td>98.466</td>\n",
       "    </tr>\n",
       "    <tr>\n",
       "      <th>12</th>\n",
       "      <td>111.046</td>\n",
       "      <td>21.498</td>\n",
       "      <td>85.022</td>\n",
       "      <td>5.327</td>\n",
       "      <td>-999.000</td>\n",
       "      <td>-999.000</td>\n",
       "      <td>-999.000</td>\n",
       "      <td>3.433</td>\n",
       "      <td>5.327</td>\n",
       "      <td>52.943</td>\n",
       "      <td>...</td>\n",
       "      <td>1.629</td>\n",
       "      <td>101.192</td>\n",
       "      <td>0.0</td>\n",
       "      <td>-999.000</td>\n",
       "      <td>-999.000</td>\n",
       "      <td>-999.000</td>\n",
       "      <td>-999.000</td>\n",
       "      <td>-999.000</td>\n",
       "      <td>-999.000</td>\n",
       "      <td>0.000</td>\n",
       "    </tr>\n",
       "    <tr>\n",
       "      <th>13</th>\n",
       "      <td>63.171</td>\n",
       "      <td>66.158</td>\n",
       "      <td>46.173</td>\n",
       "      <td>24.742</td>\n",
       "      <td>-999.000</td>\n",
       "      <td>-999.000</td>\n",
       "      <td>-999.000</td>\n",
       "      <td>2.377</td>\n",
       "      <td>24.742</td>\n",
       "      <td>50.100</td>\n",
       "      <td>...</td>\n",
       "      <td>0.561</td>\n",
       "      <td>104.340</td>\n",
       "      <td>0.0</td>\n",
       "      <td>-999.000</td>\n",
       "      <td>-999.000</td>\n",
       "      <td>-999.000</td>\n",
       "      <td>-999.000</td>\n",
       "      <td>-999.000</td>\n",
       "      <td>-999.000</td>\n",
       "      <td>0.000</td>\n",
       "    </tr>\n",
       "    <tr>\n",
       "      <th>14</th>\n",
       "      <td>150.641</td>\n",
       "      <td>38.958</td>\n",
       "      <td>105.017</td>\n",
       "      <td>1.580</td>\n",
       "      <td>-999.000</td>\n",
       "      <td>-999.000</td>\n",
       "      <td>-999.000</td>\n",
       "      <td>3.085</td>\n",
       "      <td>1.580</td>\n",
       "      <td>104.421</td>\n",
       "      <td>...</td>\n",
       "      <td>-2.036</td>\n",
       "      <td>85.073</td>\n",
       "      <td>0.0</td>\n",
       "      <td>-999.000</td>\n",
       "      <td>-999.000</td>\n",
       "      <td>-999.000</td>\n",
       "      <td>-999.000</td>\n",
       "      <td>-999.000</td>\n",
       "      <td>-999.000</td>\n",
       "      <td>0.000</td>\n",
       "    </tr>\n",
       "    <tr>\n",
       "      <th>15</th>\n",
       "      <td>-999.000</td>\n",
       "      <td>158.990</td>\n",
       "      <td>92.233</td>\n",
       "      <td>35.828</td>\n",
       "      <td>-999.000</td>\n",
       "      <td>-999.000</td>\n",
       "      <td>-999.000</td>\n",
       "      <td>1.956</td>\n",
       "      <td>27.212</td>\n",
       "      <td>175.758</td>\n",
       "      <td>...</td>\n",
       "      <td>2.667</td>\n",
       "      <td>190.922</td>\n",
       "      <td>1.0</td>\n",
       "      <td>50.975</td>\n",
       "      <td>-2.634</td>\n",
       "      <td>-2.784</td>\n",
       "      <td>-999.000</td>\n",
       "      <td>-999.000</td>\n",
       "      <td>-999.000</td>\n",
       "      <td>50.975</td>\n",
       "    </tr>\n",
       "    <tr>\n",
       "      <th>16</th>\n",
       "      <td>149.617</td>\n",
       "      <td>12.390</td>\n",
       "      <td>107.835</td>\n",
       "      <td>19.906</td>\n",
       "      <td>0.123</td>\n",
       "      <td>99.903</td>\n",
       "      <td>0.658</td>\n",
       "      <td>3.156</td>\n",
       "      <td>0.232</td>\n",
       "      <td>194.192</td>\n",
       "      <td>...</td>\n",
       "      <td>1.176</td>\n",
       "      <td>244.529</td>\n",
       "      <td>2.0</td>\n",
       "      <td>50.970</td>\n",
       "      <td>-0.875</td>\n",
       "      <td>-2.767</td>\n",
       "      <td>50.398</td>\n",
       "      <td>-0.752</td>\n",
       "      <td>-0.019</td>\n",
       "      <td>101.368</td>\n",
       "    </tr>\n",
       "    <tr>\n",
       "      <th>17</th>\n",
       "      <td>80.544</td>\n",
       "      <td>83.270</td>\n",
       "      <td>67.733</td>\n",
       "      <td>84.646</td>\n",
       "      <td>3.362</td>\n",
       "      <td>408.434</td>\n",
       "      <td>-2.192</td>\n",
       "      <td>1.445</td>\n",
       "      <td>51.542</td>\n",
       "      <td>307.211</td>\n",
       "      <td>...</td>\n",
       "      <td>3.031</td>\n",
       "      <td>278.097</td>\n",
       "      <td>3.0</td>\n",
       "      <td>75.436</td>\n",
       "      <td>-2.478</td>\n",
       "      <td>-0.063</td>\n",
       "      <td>71.613</td>\n",
       "      <td>0.885</td>\n",
       "      <td>2.625</td>\n",
       "      <td>196.454</td>\n",
       "    </tr>\n",
       "    <tr>\n",
       "      <th>18</th>\n",
       "      <td>131.760</td>\n",
       "      <td>64.242</td>\n",
       "      <td>90.262</td>\n",
       "      <td>61.258</td>\n",
       "      <td>-999.000</td>\n",
       "      <td>-999.000</td>\n",
       "      <td>-999.000</td>\n",
       "      <td>2.611</td>\n",
       "      <td>21.295</td>\n",
       "      <td>112.245</td>\n",
       "      <td>...</td>\n",
       "      <td>-0.754</td>\n",
       "      <td>146.296</td>\n",
       "      <td>1.0</td>\n",
       "      <td>45.038</td>\n",
       "      <td>-1.055</td>\n",
       "      <td>-2.896</td>\n",
       "      <td>-999.000</td>\n",
       "      <td>-999.000</td>\n",
       "      <td>-999.000</td>\n",
       "      <td>45.038</td>\n",
       "    </tr>\n",
       "    <tr>\n",
       "      <th>19</th>\n",
       "      <td>426.354</td>\n",
       "      <td>108.991</td>\n",
       "      <td>221.756</td>\n",
       "      <td>59.518</td>\n",
       "      <td>-999.000</td>\n",
       "      <td>-999.000</td>\n",
       "      <td>-999.000</td>\n",
       "      <td>4.129</td>\n",
       "      <td>22.795</td>\n",
       "      <td>161.944</td>\n",
       "      <td>...</td>\n",
       "      <td>2.455</td>\n",
       "      <td>248.149</td>\n",
       "      <td>1.0</td>\n",
       "      <td>37.867</td>\n",
       "      <td>0.200</td>\n",
       "      <td>1.362</td>\n",
       "      <td>-999.000</td>\n",
       "      <td>-999.000</td>\n",
       "      <td>-999.000</td>\n",
       "      <td>37.867</td>\n",
       "    </tr>\n",
       "    <tr>\n",
       "      <th>20</th>\n",
       "      <td>80.521</td>\n",
       "      <td>32.816</td>\n",
       "      <td>62.487</td>\n",
       "      <td>2.166</td>\n",
       "      <td>-999.000</td>\n",
       "      <td>-999.000</td>\n",
       "      <td>-999.000</td>\n",
       "      <td>2.822</td>\n",
       "      <td>2.166</td>\n",
       "      <td>58.676</td>\n",
       "      <td>...</td>\n",
       "      <td>0.713</td>\n",
       "      <td>80.132</td>\n",
       "      <td>0.0</td>\n",
       "      <td>-999.000</td>\n",
       "      <td>-999.000</td>\n",
       "      <td>-999.000</td>\n",
       "      <td>-999.000</td>\n",
       "      <td>-999.000</td>\n",
       "      <td>-999.000</td>\n",
       "      <td>0.000</td>\n",
       "    </tr>\n",
       "    <tr>\n",
       "      <th>21</th>\n",
       "      <td>137.966</td>\n",
       "      <td>2.309</td>\n",
       "      <td>78.978</td>\n",
       "      <td>158.111</td>\n",
       "      <td>3.833</td>\n",
       "      <td>462.342</td>\n",
       "      <td>-3.454</td>\n",
       "      <td>1.521</td>\n",
       "      <td>2.118</td>\n",
       "      <td>289.427</td>\n",
       "      <td>...</td>\n",
       "      <td>-1.032</td>\n",
       "      <td>356.084</td>\n",
       "      <td>2.0</td>\n",
       "      <td>142.109</td>\n",
       "      <td>-2.384</td>\n",
       "      <td>1.562</td>\n",
       "      <td>32.989</td>\n",
       "      <td>1.449</td>\n",
       "      <td>2.759</td>\n",
       "      <td>175.098</td>\n",
       "    </tr>\n",
       "    <tr>\n",
       "      <th>22</th>\n",
       "      <td>-999.000</td>\n",
       "      <td>95.407</td>\n",
       "      <td>98.252</td>\n",
       "      <td>4.171</td>\n",
       "      <td>-999.000</td>\n",
       "      <td>-999.000</td>\n",
       "      <td>-999.000</td>\n",
       "      <td>2.357</td>\n",
       "      <td>4.171</td>\n",
       "      <td>83.068</td>\n",
       "      <td>...</td>\n",
       "      <td>2.521</td>\n",
       "      <td>134.538</td>\n",
       "      <td>0.0</td>\n",
       "      <td>-999.000</td>\n",
       "      <td>-999.000</td>\n",
       "      <td>-999.000</td>\n",
       "      <td>-999.000</td>\n",
       "      <td>-999.000</td>\n",
       "      <td>-999.000</td>\n",
       "      <td>0.000</td>\n",
       "    </tr>\n",
       "    <tr>\n",
       "      <th>23</th>\n",
       "      <td>80.180</td>\n",
       "      <td>0.629</td>\n",
       "      <td>60.879</td>\n",
       "      <td>34.592</td>\n",
       "      <td>-999.000</td>\n",
       "      <td>-999.000</td>\n",
       "      <td>-999.000</td>\n",
       "      <td>3.047</td>\n",
       "      <td>34.592</td>\n",
       "      <td>59.758</td>\n",
       "      <td>...</td>\n",
       "      <td>1.585</td>\n",
       "      <td>152.928</td>\n",
       "      <td>0.0</td>\n",
       "      <td>-999.000</td>\n",
       "      <td>-999.000</td>\n",
       "      <td>-999.000</td>\n",
       "      <td>-999.000</td>\n",
       "      <td>-999.000</td>\n",
       "      <td>-999.000</td>\n",
       "      <td>0.000</td>\n",
       "    </tr>\n",
       "    <tr>\n",
       "      <th>24</th>\n",
       "      <td>-999.000</td>\n",
       "      <td>79.782</td>\n",
       "      <td>31.864</td>\n",
       "      <td>2.351</td>\n",
       "      <td>-999.000</td>\n",
       "      <td>-999.000</td>\n",
       "      <td>-999.000</td>\n",
       "      <td>1.194</td>\n",
       "      <td>2.351</td>\n",
       "      <td>57.516</td>\n",
       "      <td>...</td>\n",
       "      <td>0.593</td>\n",
       "      <td>103.773</td>\n",
       "      <td>0.0</td>\n",
       "      <td>-999.000</td>\n",
       "      <td>-999.000</td>\n",
       "      <td>-999.000</td>\n",
       "      <td>-999.000</td>\n",
       "      <td>-999.000</td>\n",
       "      <td>-999.000</td>\n",
       "      <td>0.000</td>\n",
       "    </tr>\n",
       "  </tbody>\n",
       "</table>\n",
       "<p>25 rows × 30 columns</p>\n",
       "</div>"
      ],
      "text/plain": [
       "         0        1        2        3        4        5        6      7   \\\n",
       "0   201.692   63.119  162.663   42.384 -999.000 -999.000 -999.000  3.454   \n",
       "1   147.737   77.271   77.321  223.435    0.788   80.330    1.346  1.281   \n",
       "2   406.810   74.098  329.273   74.691    0.350   52.581    7.773  4.060   \n",
       "3   192.333    7.378  111.780   99.557 -999.000 -999.000 -999.000  3.031   \n",
       "4    87.441   61.184   69.265    1.859 -999.000 -999.000 -999.000  2.653   \n",
       "5   164.126  125.145   83.946    4.785 -999.000 -999.000 -999.000  2.818   \n",
       "6    85.040   35.863   62.869   26.425 -999.000 -999.000 -999.000  2.097   \n",
       "7    88.525    0.117   64.768  115.272 -999.000 -999.000 -999.000  1.344   \n",
       "8    96.187   42.695   69.185   25.335    2.664  318.110    3.066  2.041   \n",
       "9   130.925   15.329   86.136    1.139 -999.000 -999.000 -999.000  2.955   \n",
       "10   85.936    4.695   59.958   40.465 -999.000 -999.000 -999.000  2.847   \n",
       "11  149.618   44.936   96.534  109.501 -999.000 -999.000 -999.000  2.223   \n",
       "12  111.046   21.498   85.022    5.327 -999.000 -999.000 -999.000  3.433   \n",
       "13   63.171   66.158   46.173   24.742 -999.000 -999.000 -999.000  2.377   \n",
       "14  150.641   38.958  105.017    1.580 -999.000 -999.000 -999.000  3.085   \n",
       "15 -999.000  158.990   92.233   35.828 -999.000 -999.000 -999.000  1.956   \n",
       "16  149.617   12.390  107.835   19.906    0.123   99.903    0.658  3.156   \n",
       "17   80.544   83.270   67.733   84.646    3.362  408.434   -2.192  1.445   \n",
       "18  131.760   64.242   90.262   61.258 -999.000 -999.000 -999.000  2.611   \n",
       "19  426.354  108.991  221.756   59.518 -999.000 -999.000 -999.000  4.129   \n",
       "20   80.521   32.816   62.487    2.166 -999.000 -999.000 -999.000  2.822   \n",
       "21  137.966    2.309   78.978  158.111    3.833  462.342   -3.454  1.521   \n",
       "22 -999.000   95.407   98.252    4.171 -999.000 -999.000 -999.000  2.357   \n",
       "23   80.180    0.629   60.879   34.592 -999.000 -999.000 -999.000  3.047   \n",
       "24 -999.000   79.782   31.864    2.351 -999.000 -999.000 -999.000  1.194   \n",
       "\n",
       "        8        9   ...     20       21   22       23       24       25  \\\n",
       "0    3.304  104.803  ...  0.015  169.982  1.0   39.366    0.517    1.479   \n",
       "1   79.248  364.155  ... -1.709  568.258  3.0   94.417   -1.619    1.619   \n",
       "2   60.866  320.489  ... -0.418  300.157  3.0   71.003   -2.969   -1.295   \n",
       "3    0.289  153.727  ...  2.779  176.896  1.0   99.367   -2.065   -0.384   \n",
       "4    1.859   69.946  ...  2.120   66.935  0.0 -999.000 -999.000 -999.000   \n",
       "5    4.785   97.547  ...  2.029   96.677  0.0 -999.000 -999.000 -999.000   \n",
       "6   26.425   71.401  ...  3.056  151.096  0.0 -999.000 -999.000 -999.000   \n",
       "7    0.752  205.504  ... -1.441  188.548  1.0  114.637    0.454    1.792   \n",
       "8   26.323  338.590  ...  0.461  394.621  3.0  106.579    0.868    1.811   \n",
       "9    1.139   86.429  ... -2.781  102.596  0.0 -999.000 -999.000 -999.000   \n",
       "10   3.617  106.090  ... -1.211  137.172  1.0   43.814    0.025    1.830   \n",
       "11  14.012  199.272  ... -0.473  353.552  1.0   98.466   -0.545    2.445   \n",
       "12   5.327   52.943  ...  1.629  101.192  0.0 -999.000 -999.000 -999.000   \n",
       "13  24.742   50.100  ...  0.561  104.340  0.0 -999.000 -999.000 -999.000   \n",
       "14   1.580  104.421  ... -2.036   85.073  0.0 -999.000 -999.000 -999.000   \n",
       "15  27.212  175.758  ...  2.667  190.922  1.0   50.975   -2.634   -2.784   \n",
       "16   0.232  194.192  ...  1.176  244.529  2.0   50.970   -0.875   -2.767   \n",
       "17  51.542  307.211  ...  3.031  278.097  3.0   75.436   -2.478   -0.063   \n",
       "18  21.295  112.245  ... -0.754  146.296  1.0   45.038   -1.055   -2.896   \n",
       "19  22.795  161.944  ...  2.455  248.149  1.0   37.867    0.200    1.362   \n",
       "20   2.166   58.676  ...  0.713   80.132  0.0 -999.000 -999.000 -999.000   \n",
       "21   2.118  289.427  ... -1.032  356.084  2.0  142.109   -2.384    1.562   \n",
       "22   4.171   83.068  ...  2.521  134.538  0.0 -999.000 -999.000 -999.000   \n",
       "23  34.592   59.758  ...  1.585  152.928  0.0 -999.000 -999.000 -999.000   \n",
       "24   2.351   57.516  ...  0.593  103.773  0.0 -999.000 -999.000 -999.000   \n",
       "\n",
       "         26       27       28       29  \n",
       "0  -999.000 -999.000 -999.000   39.366  \n",
       "1    68.781   -0.831    2.043  232.641  \n",
       "2    44.992   -2.619   -2.131  159.503  \n",
       "3  -999.000 -999.000 -999.000   99.367  \n",
       "4  -999.000 -999.000 -999.000    0.000  \n",
       "5  -999.000 -999.000 -999.000    0.000  \n",
       "6  -999.000 -999.000 -999.000    0.000  \n",
       "7  -999.000 -999.000 -999.000  114.637  \n",
       "8    56.453    3.532   -1.490  257.332  \n",
       "9  -999.000 -999.000 -999.000    0.000  \n",
       "10 -999.000 -999.000 -999.000   43.814  \n",
       "11 -999.000 -999.000 -999.000   98.466  \n",
       "12 -999.000 -999.000 -999.000    0.000  \n",
       "13 -999.000 -999.000 -999.000    0.000  \n",
       "14 -999.000 -999.000 -999.000    0.000  \n",
       "15 -999.000 -999.000 -999.000   50.975  \n",
       "16   50.398   -0.752   -0.019  101.368  \n",
       "17   71.613    0.885    2.625  196.454  \n",
       "18 -999.000 -999.000 -999.000   45.038  \n",
       "19 -999.000 -999.000 -999.000   37.867  \n",
       "20 -999.000 -999.000 -999.000    0.000  \n",
       "21   32.989    1.449    2.759  175.098  \n",
       "22 -999.000 -999.000 -999.000    0.000  \n",
       "23 -999.000 -999.000 -999.000    0.000  \n",
       "24 -999.000 -999.000 -999.000    0.000  \n",
       "\n",
       "[25 rows x 30 columns]"
      ]
     },
     "execution_count": 260,
     "metadata": {},
     "output_type": "execute_result"
    }
   ],
   "source": [
    "import pandas as pd\n",
    "pd.DataFrame(tX[weird_idx2])\n"
   ]
  },
  {
   "cell_type": "markdown",
   "metadata": {},
   "source": [
    "### 3.4 Ridge Regression"
   ]
  },
  {
   "cell_type": "markdown",
   "metadata": {},
   "source": [
    "#### 3.4.1 Algorithm"
   ]
  },
  {
   "cell_type": "code",
   "execution_count": 218,
   "metadata": {},
   "outputs": [
    {
     "data": {
      "text/plain": [
       "(0.3192679704544196, 81.512234846308, 0.7716653333333333, 0.771364)"
      ]
     },
     "execution_count": 218,
     "metadata": {},
     "output_type": "execute_result"
    }
   ],
   "source": [
    "# Method parameters\n",
    "kwargs = {}\n",
    "kwargs['lambda_'] = 0.1\n",
    "\n",
    "cross_validation(y, tx, compute_accuracy, 'ridge_regression', k_fold=4, degree = 4, **kwargs)"
   ]
  },
  {
   "cell_type": "markdown",
   "metadata": {},
   "source": [
    "#### 3.4.2 Hyperparameter search: lambda\n",
    "\n",
    "In order to improve our performance, we run an hyperparameter search on the regularisation parameter lambda."
   ]
  },
  {
   "cell_type": "code",
   "execution_count": 40,
   "metadata": {},
   "outputs": [
    {
     "data": {
      "text/plain": [
       "1e-06"
      ]
     },
     "execution_count": 40,
     "metadata": {},
     "output_type": "execute_result"
    },
    {
     "data": {
      "image/png": "[encoded data removed]",
      "text/plain": [
       "<Figure size 720x504 with 2 Axes>"
      ]
     },
     "metadata": {
      "needs_background": "light"
     },
     "output_type": "display_data"
    }
   ],
   "source": [
    "lambda_space = np.logspace(-6, -1, 15)\n",
    "best_lambda = cross_validation_hyper_search(y, tx, 'lambda_', lambda_space , compute_accuracy, 'ridge_regression', 4, **kwargs)\n",
    "best_lambda # TODO il essaie clairement de mettre lambda à 0"
   ]
  },
  {
   "cell_type": "markdown",
   "metadata": {},
   "source": [
    "#### 3.4.3 Hyperparameter search : degree"
   ]
  },
  {
   "cell_type": "code",
   "execution_count": 217,
   "metadata": {},
   "outputs": [
    {
     "data": {
      "text/plain": [
       "<AxesSubplot:title={'center':'cross validation'}, xlabel='degree', ylabel='accuracy'>"
      ]
     },
     "execution_count": 217,
     "metadata": {},
     "output_type": "execute_result"
    },
    {
     "data": {
      "image/png": "[encoded data removed]",
      "text/plain": [
       "<Figure size 720x504 with 2 Axes>"
      ]
     },
     "metadata": {
      "needs_background": "light"
     },
     "output_type": "display_data"
    }
   ],
   "source": [
    "kwargs = {}\n",
    "kwargs['lambda_'] = 0.00011\n",
    "\n",
    "degree_max = 4\n",
    "search_space = range(1, degree_max + 1)\n",
    "loss_tr = []\n",
    "loss_te = []\n",
    "acc_tr = []\n",
    "acc_te = []\n",
    "\n",
    "for i in search_space :\n",
    "    l_tr, l_te, a_tr, a_te = cross_validation(y, tx_phi, compute_accuracy, 'ridge_regression', k_fold=4, degree = i, **kwargs)\n",
    "    loss_tr.append(l_tr)\n",
    "    loss_te.append(l_te)\n",
    "    acc_tr.append(a_tr)\n",
    "    acc_te.append(a_te)\n",
    "    \n",
    "fig, axes = plt.subplots(2, 1, figsize=(10,7), sharex=True, sharey=False)\n",
    "cross_validation_visualization_loss(search_space, loss_tr, loss_te, 'degree', axes[0])\n",
    "cross_validation_visualization_metric(search_space, acc_tr, acc_te, 'degree', 'accuracy', axes[1])"
   ]
  },
  {
   "cell_type": "markdown",
   "metadata": {},
   "source": [
    "#### 3.4.4 Combined hyperparameter search: degree & lambda"
   ]
  },
  {
   "cell_type": "code",
   "execution_count": 262,
   "metadata": {},
   "outputs": [],
   "source": [
    "def cross_validation_degree_and_param_search(y, x, param_name, degree_space, param_space, metric, learning_model, k_fold, **kwargs):\n",
    "    \"\"\"\n",
    "    TODO\n",
    "    \"\"\"\n",
    "    fig, axes = plt.subplots(3, 3, figsize=(15,10), sharex=True, sharey=False)\n",
    "    \n",
    "    # TODO loss_to_params = {}\n",
    "    metric_to_params = {}\n",
    "    \n",
    "    for degree, ax in zip(degree_space, axes.flatten()):\n",
    "        # TODO loss, param = cross_validation_hyper_search(y, tx, param_name, param_space , metric, learning_model, k_fold, degree, ax, **kwargs)\n",
    "        met, param = cross_validation_hyper_search(y, tx, param_name, param_space , metric, learning_model, k_fold, degree, ax, **kwargs)\n",
    "        ax.set_title(\"Degree = {}\".format(degree))\n",
    "        # TODO loss_to_params[loss] = (degree, param)\n",
    "        metric_to_params[met] = (degree, param)\n",
    "    # TODO min_loss_te = np.min(list(loss_to_params.keys()))\n",
    "    max_met_te = np.max(list(metric_to_params.keys()))\n",
    "    # TODO return loss_to_params[min_loss_te]\n",
    "    return metric_to_params[max_met_te]"
   ]
  },
  {
   "cell_type": "code",
   "execution_count": 220,
   "metadata": {},
   "outputs": [
    {
     "name": "stdout",
     "output_type": "stream",
     "text": [
      "losses tr: [0.3389064488070739, 0.33842259392426244, 0.3391429524451182, 0.3384815646063127]\n",
      "losses te: [0.3383516455777714, 0.3398661814140993, 0.3376269521146696, 0.339643936852938]\n",
      "max_loss: 0.3398661814140993\n",
      "metrics te: [0.746064, 0.74496, 0.748128, 0.744656]\n",
      "losses tr: [0.33898710968500606, 0.3384981506291346, 0.3392337080923223, 0.3385600218320449]\n",
      "losses te: [0.3384243521698657, 0.3399727421755362, 0.33765812400465867, 0.3397459241790072]\n",
      "max_loss: 0.3399727421755362\n",
      "metrics te: [0.74584, 0.744752, 0.748, 0.74464]\n",
      "losses tr: [0.33910453163685095, 0.3386033472257262, 0.3393653770618862, 0.3386678357996845]\n",
      "losses te: [0.33852860146393604, 0.3401118749213477, 0.33772225038355164, 0.33988609376885276]\n",
      "max_loss: 0.3401118749213477\n",
      "metrics te: [0.745616, 0.744656, 0.747888, 0.744784]\n",
      "losses tr: [0.339222491070189, 0.3387071996312511, 0.3394980239412491, 0.33877152005032685]\n",
      "losses te: [0.33863381767388934, 0.3402426082723581, 0.3377974708287051, 0.3400204974073906]\n",
      "max_loss: 0.3402426082723581\n",
      "metrics te: [0.745104, 0.744512, 0.748096, 0.744592]\n",
      "losses tr: [0.3393078500822859, 0.3387817012843991, 0.3395943793409982, 0.33884453140810256]\n",
      "losses te: [0.33871064338413953, 0.34033395539326955, 0.33785468144347514, 0.34011505632620015]\n",
      "max_loss: 0.34033395539326955\n",
      "metrics te: [0.74504, 0.74432, 0.747952, 0.74448]\n",
      "losses tr: [0.3393575747948636, 0.3388247657264443, 0.33965096987402427, 0.33888641628131627]\n",
      "losses te: [0.33875640381408006, 0.34038584714087855, 0.3378863806398512, 0.34016975275093725]\n",
      "max_loss: 0.34038584714087855\n",
      "metrics te: [0.745056, 0.74432, 0.74808, 0.744384]\n",
      "losses tr: [0.33938398462701624, 0.3388475477879383, 0.3396817684126431, 0.3389085716215531]\n",
      "losses te: [0.3387829559080574, 0.3404115070352496, 0.33789962821038166, 0.3401993305264113]\n",
      "max_loss: 0.3404115070352496\n",
      "metrics te: [0.744928, 0.744288, 0.74784, 0.744304]\n",
      "losses tr: [0.33939822581212475, 0.33886041808326495, 0.3396994215611716, 0.33892093077060986]\n",
      "losses te: [0.3388019814798979, 0.34042189928089134, 0.33790177080939077, 0.3402165765047227]\n",
      "max_loss: 0.34042189928089134\n",
      "metrics te: [0.744992, 0.744304, 0.747904, 0.744192]\n",
      "losses tr: [0.3394089717937715, 0.3388715724662755, 0.33971335540786596, 0.33893134807040265]\n",
      "losses te: [0.33882453110813465, 0.34042459952653553, 0.3378976473760166, 0.3402316911589451]\n",
      "max_loss: 0.34042459952653553\n",
      "metrics te: [0.744864, 0.744496, 0.747776, 0.744288]\n",
      "losses tr: [0.3394323724866224, 0.338896653130831, 0.3397400720496066, 0.3389553788527174]\n",
      "losses te: [0.33887282274187686, 0.34043204696475227, 0.33789688767301557, 0.3402629298518111]\n",
      "max_loss: 0.34043204696475227\n",
      "metrics te: [0.74504, 0.74432, 0.747632, 0.743904]\n",
      "losses tr: [0.3395296069165212, 0.3389980914335664, 0.33984295163310096, 0.339054645430992]\n",
      "losses te: [0.3390201990142724, 0.3404984381535909, 0.3379506683432206, 0.34037592630823954]\n",
      "max_loss: 0.3404984381535909\n",
      "metrics te: [0.744848, 0.744592, 0.747712, 0.743632]\n",
      "losses tr: [0.33994168145775977, 0.33942372396511244, 0.3402718295824645, 0.339473243370989]\n",
      "losses te: [0.3395238646001067, 0.34085845259824576, 0.3382940089211411, 0.3408200716192869]\n",
      "max_loss: 0.34085845259824576\n",
      "metrics te: [0.744848, 0.74432, 0.74784, 0.744]\n",
      "losses tr: [0.34141436182753004, 0.34093362705108055, 0.3417921738564871, 0.34096216835196114]\n",
      "losses te: [0.34113273840254105, 0.34226149553315227, 0.33969713355713016, 0.34234671024803354]\n",
      "max_loss: 0.34234671024803354\n",
      "metrics te: [0.744976, 0.743984, 0.746944, 0.743696]\n",
      "losses tr: [0.34538772193180034, 0.3449686665872629, 0.3458536719984455, 0.34495636502441307]\n",
      "losses te: [0.3452545013593546, 0.34614484377212196, 0.3436833314854798, 0.34636439066499924]\n",
      "max_loss: 0.34636439066499924\n",
      "metrics te: [0.743776, 0.742464, 0.74448, 0.741472]\n",
      "losses tr: [0.3531944828127315, 0.352826586691447, 0.35373729698410444, 0.3527707162671385]\n",
      "losses te: [0.3531997496133116, 0.3537693650479341, 0.3516808481495699, 0.3541158195025044]\n",
      "max_loss: 0.3541158195025044\n",
      "metrics te: [0.738896, 0.737808, 0.74048, 0.737312]\n",
      "losses tr: [0.299869705376038, 0.2995685392527738, 0.29974076260307225, 0.2995376546548236]\n",
      "losses te: [0.2996821655564991, 0.30098618374425107, 0.46499214867871463, 0.3006212713356487]\n",
      "max_loss: 0.46499214867871463\n",
      "metrics te: [0.79592, 0.796656, 0.79824, 0.796112]\n",
      "losses tr: [0.3000219204010738, 0.2997251358550427, 0.2998976058296624, 0.29968442055719774]\n",
      "losses te: [0.29982809516580483, 0.3011190931346108, 0.4592698469795292, 0.3007806065955715]\n",
      "max_loss: 0.4592698469795292\n",
      "metrics te: [0.795712, 0.796496, 0.797792, 0.795936]\n",
      "losses tr: [0.30011987882407276, 0.2998265108769679, 0.30000186003655915, 0.2997773009642504]\n",
      "losses te: [0.2999199819855017, 0.3011980507432133, 0.4542025910101666, 0.30088250785215315]\n",
      "max_loss: 0.4542025910101666\n",
      "metrics te: [0.795664, 0.79624, 0.797424, 0.79592]\n",
      "losses tr: [0.3001833689107887, 0.2998924414048022, 0.30007070843673916, 0.29983680982575717]\n",
      "losses te: [0.2999786183789268, 0.30124184192665676, 0.4503883877402339, 0.30094785203198654]\n",
      "max_loss: 0.4503883877402339\n",
      "metrics te: [0.795536, 0.79608, 0.797328, 0.795888]\n",
      "losses tr: [0.3002292772056601, 0.29993929401818636, 0.3001208954583601, 0.29987913165362756]\n",
      "losses te: [0.30002302830953687, 0.30126283840603324, 0.4479356059977021, 0.30099397048041593]\n",
      "max_loss: 0.4479356059977021\n",
      "metrics te: [0.795584, 0.79608, 0.797392, 0.795856]\n",
      "losses tr: [0.3002681228413589, 0.29997799093119365, 0.3001634341940967, 0.29991450316824675]\n",
      "losses te: [0.30006817711530626, 0.3012600840178563, 0.4466518750377744, 0.3010301994690406]\n",
      "max_loss: 0.4466518750377744\n",
      "metrics te: [0.795296, 0.79576, 0.797264, 0.79544]\n",
      "losses tr: [0.30032688459691503, 0.3000382943320342, 0.30022558476372335, 0.2999709402946876]\n",
      "losses te: [0.3001485351981511, 0.30124221072741664, 0.44635353458971117, 0.30108111843757296]\n",
      "max_loss: 0.44635353458971117\n",
      "metrics te: [0.79496, 0.795296, 0.796624, 0.79504]\n",
      "losses tr: [0.3005182753453646, 0.3002406210703527, 0.3004210715179848, 0.3001636336230166]\n",
      "losses te: [0.30038838340676666, 0.301310512936046, 0.4477527152713713, 0.3012558734548059]\n",
      "max_loss: 0.4477527152713713\n",
      "metrics te: [0.793728, 0.794096, 0.795728, 0.794176]\n",
      "losses tr: [0.30123984745564925, 0.30100174190793666, 0.3011503194698135, 0.30089682990120825]\n",
      "losses te: [0.3011965926470391, 0.3019220424942433, 0.4532835516938937, 0.30194853003570216]\n",
      "max_loss: 0.4532835516938937\n",
      "metrics te: [0.791568, 0.792352, 0.794048, 0.792704]\n",
      "losses tr: [0.3034425121207652, 0.3032910048121722, 0.30337005908904235, 0.3031351475025642]\n",
      "losses te: [0.3035134007485408, 0.30427295114640773, 0.46607798017856744, 0.3041115676492447]\n",
      "max_loss: 0.46607798017856744\n",
      "metrics te: [0.78784, 0.787184, 0.79032, 0.787952]\n",
      "losses tr: [0.30806924536216035, 0.3079960589758237, 0.3080310978694011, 0.3078271331554223]\n",
      "losses te: [0.3082249361704858, 0.3096375205492288, 0.4860292031937046, 0.3086937430676194]\n",
      "max_loss: 0.4860292031937046\n",
      "metrics te: [0.781984, 0.7796, 0.78368, 0.782288]\n",
      "losses tr: [0.3143692794653875, 0.3142432594494647, 0.3143818172450315, 0.3141976626206459]\n",
      "losses te: [0.31451087681036793, 0.31724981794720525, 0.5089680952447411, 0.3149455371841994]\n",
      "max_loss: 0.5089680952447411\n",
      "metrics te: [0.7748, 0.772064, 0.7752, 0.774144]\n",
      "losses tr: [0.32048781292362843, 0.3201439029361313, 0.3205447816111085, 0.3203608546834759]\n",
      "losses te: [0.32048650945889084, 0.32485241502338774, 0.5331940144913426, 0.32102069598915106]\n",
      "max_loss: 0.5331940144913426\n",
      "metrics te: [0.768352, 0.765728, 0.768928, 0.767264]\n",
      "losses tr: [0.32585356994896963, 0.32516517997977246, 0.32589879332962773, 0.3257218773888921]\n",
      "losses te: [0.3255982560134017, 0.3313130797994353, 0.5568013300139973, 0.32636726285510476]\n",
      "max_loss: 0.5568013300139973\n",
      "metrics te: [0.762496, 0.761824, 0.76376, 0.761872]\n",
      "losses tr: [0.33122434995354844, 0.3301702937288442, 0.33117901218185175, 0.3310260253150039]\n",
      "losses te: [0.33067201184685074, 0.33684555384727577, 0.56242620766863, 0.33175753714129036]\n",
      "max_loss: 0.56242620766863\n",
      "metrics te: [0.757792, 0.75728, 0.758064, 0.756672]\n",
      "losses tr: [0.289734385165402, 0.2894649235477651, 0.28957265962422263, 0.2891564314910744]\n",
      "losses te: [0.28921422254616175, 0.29066043159026894, 59.21565457123603, 0.29116288709341553]\n",
      "max_loss: 59.21565457123603\n",
      "metrics te: [0.803568, 0.803456, 0.80432, 0.802512]\n",
      "losses tr: [0.28997332933818265, 0.28970925186383345, 0.2898251961690714, 0.2893773624314665]\n",
      "losses te: [0.2894489241933409, 0.2908646579681523, 57.39975405776958, 0.29143788661037]\n",
      "max_loss: 57.39975405776958\n",
      "metrics te: [0.803216, 0.803168, 0.80392, 0.801856]\n",
      "losses tr: [0.29021158366173283, 0.28995347336891203, 0.29007336142875595, 0.2896019990508167]\n",
      "losses te: [0.2896874792139164, 0.2910862444388448, 56.55674093860347, 0.2916956779826441]\n",
      "max_loss: 56.55674093860347\n",
      "metrics te: [0.803024, 0.802912, 0.803728, 0.801728]\n",
      "losses tr: [0.2903892897629717, 0.2901387562080867, 0.290255979996619, 0.2897723105104565]\n",
      "losses te: [0.2898668079603382, 0.29126053076613245, 56.504913295312555, 0.29187769891674226]\n",
      "max_loss: 56.504913295312555\n",
      "metrics te: [0.80288, 0.802768, 0.803424, 0.801488]\n",
      "losses tr: [0.29050776671992934, 0.2902633923249611, 0.29037560202898216, 0.28988732706801945]\n",
      "losses te: [0.28998570861592354, 0.29139087976904715, 56.85295577665173, 0.2919846928559057]\n",
      "max_loss: 56.85295577665173\n",
      "metrics te: [0.802672, 0.80264, 0.8032, 0.80144]\n",
      "losses tr: [0.29062015230460947, 0.29037804584244103, 0.290486121033869, 0.2899984872031456]\n",
      "losses te: [0.2900991175160162, 0.2915384443619675, 57.39807424703174, 0.2920644640708899]\n",
      "max_loss: 57.39807424703174\n",
      "metrics te: [0.802464, 0.802416, 0.802944, 0.80152]\n",
      "losses tr: [0.2908605557068801, 0.2906165797238298, 0.2907183180515025, 0.2902420670535089]\n",
      "losses te: [0.29034964961684734, 0.2918687498346616, 58.071357153893416, 0.29224674723525096]\n",
      "max_loss: 58.071357153893416\n",
      "metrics te: [0.801984, 0.801504, 0.802288, 0.801216]\n",
      "losses tr: [0.2915255620443726, 0.2912817231108214, 0.291362620346368, 0.2909217116298574]\n",
      "losses te: [0.2910534845602817, 0.2928179995123368, 58.6052467882474, 0.2928404719098307]\n",
      "max_loss: 58.6052467882474\n",
      "metrics te: [0.800688, 0.800544, 0.80128, 0.799888]\n",
      "losses tr: [0.29311138153809735, 0.2928962453926113, 0.2929216150707907, 0.29254139299902393]\n",
      "losses te: [0.2927311839792827, 0.2954705636952625, 58.31451951669615, 0.294379392575593]\n",
      "max_loss: 58.31451951669615\n",
      "metrics te: [0.797488, 0.797664, 0.798576, 0.79744]\n",
      "losses tr: [0.29634138114990854, 0.2962043319466421, 0.2961436363508415, 0.295822032668619]\n",
      "losses te: [0.29610876368100814, 0.30211846675002735, 56.64821566527032, 0.29761522938646967]\n",
      "max_loss: 56.64821566527032\n",
      "metrics te: [0.792464, 0.792448, 0.79352, 0.793392]\n",
      "losses tr: [0.3017222755893617, 0.301619033642235, 0.3015613864452074, 0.30126094918165824]\n",
      "losses te: [0.3016591712879218, 0.3148740470669992, 53.9608255085461, 0.30304130298771176]\n",
      "max_loss: 53.9608255085461\n",
      "metrics te: [0.785824, 0.785616, 0.786752, 0.785648]\n",
      "losses tr: [0.3082380477694411, 0.30797812345172426, 0.30816477644632195, 0.3078335365269552]\n",
      "losses te: [0.30831519809956276, 0.33158127525451847, 50.69191532071976, 0.30960921870792224]\n",
      "max_loss: 50.69191532071976\n",
      "metrics te: [0.778752, 0.778352, 0.77904, 0.778528]\n",
      "losses tr: [0.314193591501097, 0.3136089001668468, 0.3142359455989022, 0.3138368752728942]\n",
      "losses te: [0.31434107092746344, 0.3470317824085613, 46.006844187628985, 0.31560432872523064]\n",
      "max_loss: 46.006844187628985\n",
      "metrics te: [0.773568, 0.77328, 0.772848, 0.773072]\n",
      "losses tr: [0.31925056037475774, 0.31829242555033993, 0.3194093370167077, 0.3189256464381184]\n",
      "losses te: [0.31936385644081544, 0.35768128613674466, 37.4921838019911, 0.32067953726996073]\n",
      "max_loss: 37.4921838019911\n",
      "metrics te: [0.768752, 0.769664, 0.769136, 0.768032]\n",
      "losses tr: [0.3244513764827851, 0.323186618716901, 0.3247105172671797, 0.32412921059163763]\n",
      "losses te: [0.324390822429957, 0.3629663636361125, 23.096588336254904, 0.3258631083519418]\n",
      "max_loss: 23.096588336254904\n",
      "metrics te: [0.764464, 0.76568, 0.76536, 0.763808]\n",
      "losses tr: [0.28435132888961645, 0.28410818262243953, 0.28430825953021427, 0.28381458875032944]\n",
      "losses te: [0.2840469092532413, 0.2907988794354062, 263.56520929955207, 0.2862828502169299]\n",
      "max_loss: 263.56520929955207\n",
      "metrics te: [0.807104, 0.805392, 0.807888, 0.804928]\n",
      "losses tr: [0.2844480636450074, 0.28420581209266915, 0.2844060376274527, 0.28390787754186697]\n",
      "losses te: [0.2841116187585634, 0.2906444669518992, 288.36853131852246, 0.28640605060202845]\n",
      "max_loss: 288.36853131852246\n",
      "metrics te: [0.806976, 0.805184, 0.807792, 0.8052]\n",
      "losses tr: [0.28463098547340737, 0.28438417686050677, 0.28458825028583323, 0.2840721196353863]\n",
      "losses te: [0.28426028074374915, 0.29058813941862494, 312.8620388036991, 0.2866226128453802]\n",
      "max_loss: 312.8620388036991\n",
      "metrics te: [0.806944, 0.804928, 0.807808, 0.805056]\n",
      "losses tr: [0.2848842210848908, 0.28463216077927955, 0.2848447689491421, 0.2843028431960819]\n",
      "losses te: [0.28449933008344075, 0.2906915644938161, 326.7584682567989, 0.28689301825572316]\n",
      "max_loss: 326.7584682567989\n",
      "metrics te: [0.806576, 0.804672, 0.807264, 0.805152]\n",
      "losses tr: [0.28519344482063913, 0.2849446208613403, 0.28516315250226615, 0.284600417821537]\n",
      "losses te: [0.2848179487149444, 0.2908817757794928, 317.8232877018006, 0.2871926848009481]\n",
      "max_loss: 317.8232877018006\n",
      "metrics te: [0.806544, 0.8044, 0.806544, 0.804704]\n",
      "losses tr: [0.28569078835640616, 0.28545537161266443, 0.28567206466821427, 0.2851004775814447]\n",
      "losses te: [0.2853348100518885, 0.29134493181150967, 283.7994438062566, 0.287657811701845]\n",
      "max_loss: 283.7994438062566\n",
      "metrics te: [0.80584, 0.803936, 0.80584, 0.80416]\n",
      "losses tr: [0.2866407605903099, 0.2864165723866474, 0.2866200244301501, 0.2860595243350954]\n",
      "losses te: [0.2863036748991818, 0.29260067512470167, 236.4995212843809, 0.28855467706352866]\n",
      "max_loss: 236.4995212843809\n",
      "metrics te: [0.804928, 0.80336, 0.8052, 0.803568]\n",
      "losses tr: [0.2881839382020631, 0.28797098327386034, 0.2881317948031076, 0.28761152609610635]\n",
      "losses te: [0.2878908046875739, 0.29577654901372147, 200.2776962609408, 0.2900291571242834]\n",
      "max_loss: 200.2776962609408\n",
      "metrics te: [0.803408, 0.80216, 0.803392, 0.802544]\n",
      "losses tr: [0.2904147228926913, 0.29025163437936863, 0.2903262801846352, 0.28986512560786576]\n",
      "losses te: [0.2902403174249388, 0.30433086068398046, 202.35995506735193, 0.29220477196642736]\n",
      "max_loss: 202.35995506735193\n",
      "metrics te: [0.799904, 0.799376, 0.800464, 0.799792]\n",
      "losses tr: [0.29385841170763616, 0.29376544069665217, 0.2937697757510499, 0.2933586542547213]\n",
      "losses te: [0.2938809452821425, 0.3234071032100903, 272.54533898627324, 0.295627875550425]\n",
      "max_loss: 272.54533898627324\n",
      "metrics te: [0.79568, 0.795392, 0.795872, 0.7948]\n",
      "losses tr: [0.29900336768332414, 0.29889307343837945, 0.2989704042216359, 0.2985675610270235]\n",
      "losses te: [0.2992460250263156, 0.35412714575008664, 456.3449094743905, 0.3007503158834672]\n",
      "max_loss: 456.3449094743905\n",
      "metrics te: [0.789968, 0.789264, 0.790352, 0.789264]\n",
      "losses tr: [0.30498824730642243, 0.3046962643148838, 0.30505842331961686, 0.30461577220507574]\n",
      "losses te: [0.30539590338336964, 0.3889230349746382, 810.0742125102751, 0.3066351861806125]\n",
      "max_loss: 810.0742125102751\n",
      "metrics te: [0.784384, 0.783776, 0.784176, 0.7836]\n",
      "losses tr: [0.3103522766938089, 0.30975728361620075, 0.31051831139201, 0.31004173254183925]\n",
      "losses te: [0.3108122175276245, 0.41593192500285653, 1434.6218238604338, 0.3117869931592676]\n",
      "max_loss: 1434.6218238604338\n",
      "metrics te: [0.779792, 0.778464, 0.77944, 0.779024]\n",
      "losses tr: [0.3147858570358525, 0.3138824088612532, 0.314992056595036, 0.3145369372569032]\n",
      "losses te: [0.3151700266646716, 0.42609615600241163, 2710.3819830181083, 0.31597357941835097]\n",
      "max_loss: 2710.3819830181083\n",
      "metrics te: [0.775584, 0.775152, 0.775216, 0.775152]\n",
      "losses tr: [0.31940728129687296, 0.31831346487780326, 0.31961105057846884, 0.319200102697374]\n",
      "losses te: [0.31958117500450917, 0.41620338911066135, 5268.475443347664, 0.32046367759020444]\n",
      "max_loss: 5268.475443347664\n",
      "metrics te: [0.772304, 0.770816, 0.772352, 0.770976]\n"
     ]
    },
    {
     "data": {
      "text/plain": [
       "(2, 0.00013894954943731373)"
      ]
     },
     "execution_count": 220,
     "metadata": {},
     "output_type": "execute_result"
    },
    {
     "data": {
      "image/png": "[encoded data removed]",
      "text/plain": [
       "<Figure size 1080x720 with 9 Axes>"
      ]
     },
     "metadata": {
      "needs_background": "light"
     },
     "output_type": "display_data"
    }
   ],
   "source": [
    "max_degree = 4\n",
    "degree_space = range(1, max_degree + 1)\n",
    "lambda_space = np.logspace(-6, -1, 15)\n",
    "cross_validation_degree_and_param_search(y, tx, param_name='lambda_',\n",
    "                                         degree_space=degree_space,\n",
    "                                         param_space=lambda_space,\n",
    "                                         metric=compute_accuracy,\n",
    "                                         learning_model='ridge_regression',\n",
    "                                        k_fold=4)"
   ]
  },
  {
   "cell_type": "code",
   "execution_count": 159,
   "metadata": {},
   "outputs": [
    {
     "data": {
      "text/plain": [
       "(91,)"
      ]
     },
     "execution_count": 159,
     "metadata": {},
     "output_type": "execute_result"
    }
   ],
   "source": [
    "lambda_ = 0.00011\n",
    "poly = build_poly(tx, 3)\n",
    "poly = np.c_[np.ones(len(poly[:,0])), poly]\n",
    "w, loss = ridge_regression(y, poly, lambda_)\n",
    "w.shape"
   ]
  },
  {
   "cell_type": "markdown",
   "metadata": {},
   "source": [
    "### 3.5 Logistic Regression"
   ]
  },
  {
   "cell_type": "code",
   "execution_count": 44,
   "metadata": {},
   "outputs": [
    {
     "name": "stdout",
     "output_type": "stream",
     "text": [
      "Current iteration=0, loss=173286.79513998624\n",
      "Current iteration=100, loss=458448.90034008765\n",
      "Current iteration=200, loss=350182.44580717006\n",
      "Current iteration=300, loss=1739912.3808360258\n",
      "Current iteration=400, loss=1214708.4361418542\n",
      "Current iteration=500, loss=1170504.1695809157\n",
      "Current iteration=600, loss=1148485.5947754313\n",
      "Current iteration=700, loss=1131327.1948510795\n",
      "Current iteration=800, loss=1116727.943917157\n",
      "Current iteration=900, loss=1104035.1369920387\n"
     ]
    },
    {
     "data": {
      "text/plain": [
       "0.710632"
      ]
     },
     "execution_count": 44,
     "metadata": {},
     "output_type": "execute_result"
    }
   ],
   "source": [
    "y_log_reg = (y+1)/2\n",
    "w, loss = logistic_regression(y_log_reg, tx, np.zeros(nb_features), 1000, 0.0001)\n",
    "compute_accuracy_log_reg(w, y_log_reg, tx)"
   ]
  },
  {
   "cell_type": "code",
   "execution_count": 261,
   "metadata": {},
   "outputs": [
    {
     "name": "stdout",
     "output_type": "stream",
     "text": [
      "Current iteration=0, loss=0.6931471805599453\n",
      "Current iteration=100, loss=0.8389767167614922\n",
      "Current iteration=200, loss=0.8094230216452736\n",
      "Current iteration=300, loss=0.8005528744205612\n",
      "Current iteration=400, loss=0.7974924110394291\n",
      "Current iteration=500, loss=0.796397422829256\n",
      "Current iteration=600, loss=0.7959993210604128\n",
      "Current iteration=700, loss=0.7958538621339946\n",
      "Current iteration=800, loss=0.7958009039673265\n",
      "Current iteration=900, loss=0.7957818059168414\n",
      "Current iteration=1000, loss=0.7957749498943681\n",
      "Current iteration=0, loss=0.6931471805599453\n",
      "Current iteration=100, loss=0.8402618501858383\n",
      "Current iteration=200, loss=0.8106203227403502\n",
      "Current iteration=300, loss=0.8018151480652583\n",
      "Current iteration=400, loss=0.7988046380970463\n",
      "Current iteration=500, loss=0.797737379310987\n",
      "Current iteration=600, loss=0.7973541721390692\n",
      "Current iteration=700, loss=0.7972167113286139\n",
      "Current iteration=800, loss=0.7971681258237309\n",
      "Current iteration=900, loss=0.7971515187775478\n",
      "Current iteration=1000, loss=0.7971461793259668\n",
      "Current iteration=0, loss=0.6931471805599453\n",
      "Current iteration=100, loss=0.8372645633186129\n",
      "Current iteration=200, loss=0.8084027808680107\n",
      "Current iteration=300, loss=0.7999091579998557\n",
      "Current iteration=400, loss=0.7970142001698913\n"
     ]
    },
    {
     "ename": "KeyboardInterrupt",
     "evalue": "",
     "output_type": "error",
     "traceback": [
      "\u001b[0;31m---------------------------------------------------------------------------\u001b[0m",
      "\u001b[0;31mKeyboardInterrupt\u001b[0m                         Traceback (most recent call last)",
      "\u001b[0;32m<ipython-input-261-abd73a43409d>\u001b[0m in \u001b[0;36m<module>\u001b[0;34m\u001b[0m\n\u001b[1;32m      6\u001b[0m \u001b[0mkwargs\u001b[0m\u001b[0;34m[\u001b[0m\u001b[0;34m'gamma'\u001b[0m\u001b[0;34m]\u001b[0m \u001b[0;34m=\u001b[0m \u001b[0;36m0.00001\u001b[0m\u001b[0;34m\u001b[0m\u001b[0;34m\u001b[0m\u001b[0m\n\u001b[1;32m      7\u001b[0m \u001b[0;34m\u001b[0m\u001b[0m\n\u001b[0;32m----> 8\u001b[0;31m \u001b[0mcross_validation\u001b[0m\u001b[0;34m(\u001b[0m\u001b[0my_log_reg\u001b[0m\u001b[0;34m,\u001b[0m \u001b[0mtx\u001b[0m\u001b[0;34m,\u001b[0m \u001b[0mcompute_accuracy_log_reg\u001b[0m\u001b[0;34m,\u001b[0m \u001b[0;34m'logistic_regression'\u001b[0m\u001b[0;34m,\u001b[0m \u001b[0mk_fold\u001b[0m\u001b[0;34m=\u001b[0m\u001b[0;36m4\u001b[0m\u001b[0;34m,\u001b[0m \u001b[0;34m**\u001b[0m\u001b[0mkwargs\u001b[0m\u001b[0;34m)\u001b[0m\u001b[0;34m\u001b[0m\u001b[0;34m\u001b[0m\u001b[0m\n\u001b[0m",
      "\u001b[0;32m~/Desktop/MA1/ML_CS433/ML2020_PR1/cross_validation.py\u001b[0m in \u001b[0;36mcross_validation\u001b[0;34m(y, x, metric, learning_model, k_fold, degree, **kwargs)\u001b[0m\n\u001b[1;32m     84\u001b[0m \u001b[0;34m\u001b[0m\u001b[0m\n\u001b[1;32m     85\u001b[0m     \u001b[0;32mfor\u001b[0m \u001b[0mk\u001b[0m \u001b[0;32min\u001b[0m \u001b[0mrange\u001b[0m\u001b[0;34m(\u001b[0m\u001b[0mlen\u001b[0m\u001b[0;34m(\u001b[0m\u001b[0mk_indices\u001b[0m\u001b[0;34m)\u001b[0m\u001b[0;34m)\u001b[0m\u001b[0;34m:\u001b[0m\u001b[0;34m\u001b[0m\u001b[0;34m\u001b[0m\u001b[0m\n\u001b[0;32m---> 86\u001b[0;31m         \u001b[0mloss_tr\u001b[0m\u001b[0;34m,\u001b[0m \u001b[0mloss_te\u001b[0m\u001b[0;34m,\u001b[0m \u001b[0mmetric_tr\u001b[0m\u001b[0;34m,\u001b[0m \u001b[0mmetric_te\u001b[0m \u001b[0;34m=\u001b[0m \u001b[0mcross_validation_single_fold\u001b[0m\u001b[0;34m(\u001b[0m\u001b[0my\u001b[0m\u001b[0;34m,\u001b[0m \u001b[0mpoly\u001b[0m\u001b[0;34m,\u001b[0m \u001b[0mk_indices\u001b[0m\u001b[0;34m,\u001b[0m \u001b[0mk\u001b[0m\u001b[0;34m,\u001b[0m \u001b[0mmetric\u001b[0m\u001b[0;34m,\u001b[0m \u001b[0mlearning_model\u001b[0m\u001b[0;34m,\u001b[0m \u001b[0;34m**\u001b[0m\u001b[0mkwargs\u001b[0m\u001b[0;34m)\u001b[0m\u001b[0;34m\u001b[0m\u001b[0;34m\u001b[0m\u001b[0m\n\u001b[0m\u001b[1;32m     87\u001b[0m         \u001b[0mlosses_tr\u001b[0m\u001b[0;34m.\u001b[0m\u001b[0mappend\u001b[0m\u001b[0;34m(\u001b[0m\u001b[0mloss_tr\u001b[0m\u001b[0;34m)\u001b[0m\u001b[0;34m\u001b[0m\u001b[0;34m\u001b[0m\u001b[0m\n\u001b[1;32m     88\u001b[0m         \u001b[0mlosses_te\u001b[0m\u001b[0;34m.\u001b[0m\u001b[0mappend\u001b[0m\u001b[0;34m(\u001b[0m\u001b[0mloss_te\u001b[0m\u001b[0;34m)\u001b[0m\u001b[0;34m\u001b[0m\u001b[0;34m\u001b[0m\u001b[0m\n",
      "\u001b[0;32m~/Desktop/MA1/ML_CS433/ML2020_PR1/cross_validation.py\u001b[0m in \u001b[0;36mcross_validation_single_fold\u001b[0;34m(y, x, k_indices, k, metric, learning_model, **kwargs)\u001b[0m\n\u001b[1;32m     44\u001b[0m     \u001b[0;31m# learning\u001b[0m\u001b[0;34m\u001b[0m\u001b[0;34m\u001b[0m\u001b[0;34m\u001b[0m\u001b[0m\n\u001b[1;32m     45\u001b[0m     \u001b[0;31m# ***************************************************\u001b[0m\u001b[0;34m\u001b[0m\u001b[0;34m\u001b[0m\u001b[0;34m\u001b[0m\u001b[0m\n\u001b[0;32m---> 46\u001b[0;31m     \u001b[0mw\u001b[0m\u001b[0;34m,\u001b[0m \u001b[0mloss_tr\u001b[0m \u001b[0;34m=\u001b[0m \u001b[0mrun_model\u001b[0m\u001b[0;34m(\u001b[0m\u001b[0mlearning_model\u001b[0m\u001b[0;34m,\u001b[0m \u001b[0my_train\u001b[0m\u001b[0;34m,\u001b[0m \u001b[0mx_train\u001b[0m\u001b[0;34m,\u001b[0m \u001b[0;34m**\u001b[0m\u001b[0mkwargs\u001b[0m\u001b[0;34m)\u001b[0m\u001b[0;34m\u001b[0m\u001b[0;34m\u001b[0m\u001b[0m\n\u001b[0m\u001b[1;32m     47\u001b[0m     \u001b[0mloss_te\u001b[0m \u001b[0;34m=\u001b[0m \u001b[0mcompute_loss\u001b[0m\u001b[0;34m(\u001b[0m\u001b[0mlearning_model\u001b[0m\u001b[0;34m,\u001b[0m \u001b[0my_test\u001b[0m\u001b[0;34m,\u001b[0m \u001b[0mx_test\u001b[0m\u001b[0;34m,\u001b[0m \u001b[0mw\u001b[0m\u001b[0;34m)\u001b[0m\u001b[0;34m\u001b[0m\u001b[0;34m\u001b[0m\u001b[0m\n\u001b[1;32m     48\u001b[0m     \u001b[0;31m# ***************************************************\u001b[0m\u001b[0;34m\u001b[0m\u001b[0;34m\u001b[0m\u001b[0;34m\u001b[0m\u001b[0m\n",
      "\u001b[0;32m~/Desktop/MA1/ML_CS433/ML2020_PR1/cross_validation.py\u001b[0m in \u001b[0;36mrun_model\u001b[0;34m(learning_model, y, x, **kwargs)\u001b[0m\n\u001b[1;32m    113\u001b[0m         \u001b[0;32mreturn\u001b[0m \u001b[0mridge_regression\u001b[0m\u001b[0;34m(\u001b[0m\u001b[0my\u001b[0m\u001b[0;34m,\u001b[0m \u001b[0mx\u001b[0m\u001b[0;34m,\u001b[0m \u001b[0mkwargs\u001b[0m\u001b[0;34m[\u001b[0m\u001b[0;34m'lambda_'\u001b[0m\u001b[0;34m]\u001b[0m\u001b[0;34m)\u001b[0m\u001b[0;34m\u001b[0m\u001b[0;34m\u001b[0m\u001b[0m\n\u001b[1;32m    114\u001b[0m     \u001b[0;32melif\u001b[0m \u001b[0mmod\u001b[0m \u001b[0;34m==\u001b[0m \u001b[0;34m'logistic_regression'\u001b[0m\u001b[0;34m:\u001b[0m\u001b[0;34m\u001b[0m\u001b[0;34m\u001b[0m\u001b[0m\n\u001b[0;32m--> 115\u001b[0;31m         \u001b[0;32mreturn\u001b[0m \u001b[0mlogistic_regression\u001b[0m\u001b[0;34m(\u001b[0m\u001b[0my\u001b[0m\u001b[0;34m,\u001b[0m \u001b[0mx\u001b[0m\u001b[0;34m,\u001b[0m \u001b[0mkwargs\u001b[0m\u001b[0;34m[\u001b[0m\u001b[0;34m'initial_w'\u001b[0m\u001b[0;34m]\u001b[0m\u001b[0;34m,\u001b[0m \u001b[0mkwargs\u001b[0m\u001b[0;34m[\u001b[0m\u001b[0;34m'max_iters'\u001b[0m\u001b[0;34m]\u001b[0m\u001b[0;34m,\u001b[0m \u001b[0mkwargs\u001b[0m\u001b[0;34m[\u001b[0m\u001b[0;34m'gamma'\u001b[0m\u001b[0;34m]\u001b[0m\u001b[0;34m)\u001b[0m\u001b[0;34m\u001b[0m\u001b[0;34m\u001b[0m\u001b[0m\n\u001b[0m\u001b[1;32m    116\u001b[0m     \u001b[0;32melif\u001b[0m \u001b[0mmod\u001b[0m \u001b[0;34m==\u001b[0m \u001b[0;34m'reg_logistic_regression'\u001b[0m\u001b[0;34m:\u001b[0m\u001b[0;34m\u001b[0m\u001b[0;34m\u001b[0m\u001b[0m\n\u001b[1;32m    117\u001b[0m         \u001b[0;32mreturn\u001b[0m \u001b[0mreg_logistic_regression\u001b[0m\u001b[0;34m(\u001b[0m\u001b[0my\u001b[0m\u001b[0;34m,\u001b[0m \u001b[0mx\u001b[0m\u001b[0;34m,\u001b[0m \u001b[0mkwargs\u001b[0m\u001b[0;34m[\u001b[0m\u001b[0;34m'lambda_'\u001b[0m\u001b[0;34m]\u001b[0m\u001b[0;34m,\u001b[0m \u001b[0mkwargs\u001b[0m\u001b[0;34m[\u001b[0m\u001b[0;34m'initial_w'\u001b[0m\u001b[0;34m]\u001b[0m\u001b[0;34m,\u001b[0m \u001b[0mkwargs\u001b[0m\u001b[0;34m[\u001b[0m\u001b[0;34m'max_iters'\u001b[0m\u001b[0;34m]\u001b[0m\u001b[0;34m,\u001b[0m \u001b[0mkwargs\u001b[0m\u001b[0;34m[\u001b[0m\u001b[0;34m'gamma'\u001b[0m\u001b[0;34m]\u001b[0m\u001b[0;34m,\u001b[0m \u001b[0mkwargs\u001b[0m\u001b[0;34m[\u001b[0m\u001b[0;34m'norm'\u001b[0m\u001b[0;34m]\u001b[0m\u001b[0;34m)\u001b[0m\u001b[0;34m\u001b[0m\u001b[0;34m\u001b[0m\u001b[0m\n",
      "\u001b[0;32m~/Desktop/MA1/ML_CS433/ML2020_PR1/implementations.py\u001b[0m in \u001b[0;36mlogistic_regression\u001b[0;34m(y, tx, initial_w, max_iters, gamma)\u001b[0m\n\u001b[1;32m    143\u001b[0m         \u001b[0;32mif\u001b[0m \u001b[0miter\u001b[0m \u001b[0;34m%\u001b[0m \u001b[0;36m100\u001b[0m \u001b[0;34m==\u001b[0m \u001b[0;36m0\u001b[0m\u001b[0;34m:\u001b[0m\u001b[0;34m\u001b[0m\u001b[0;34m\u001b[0m\u001b[0m\n\u001b[1;32m    144\u001b[0m             \u001b[0mprint\u001b[0m\u001b[0;34m(\u001b[0m\u001b[0;34m\"Current iteration={i}, loss={l}\"\u001b[0m\u001b[0;34m.\u001b[0m\u001b[0mformat\u001b[0m\u001b[0;34m(\u001b[0m\u001b[0mi\u001b[0m\u001b[0;34m=\u001b[0m\u001b[0miter\u001b[0m\u001b[0;34m,\u001b[0m \u001b[0ml\u001b[0m\u001b[0;34m=\u001b[0m\u001b[0mloss\u001b[0m\u001b[0;34m)\u001b[0m\u001b[0;34m)\u001b[0m\u001b[0;34m\u001b[0m\u001b[0;34m\u001b[0m\u001b[0m\n\u001b[0;32m--> 145\u001b[0;31m         \u001b[0mgrad\u001b[0m \u001b[0;34m=\u001b[0m \u001b[0mcalculate_gradient\u001b[0m\u001b[0;34m(\u001b[0m\u001b[0my\u001b[0m\u001b[0;34m,\u001b[0m \u001b[0mtx\u001b[0m\u001b[0;34m,\u001b[0m \u001b[0mw\u001b[0m\u001b[0;34m)\u001b[0m\u001b[0;34m\u001b[0m\u001b[0;34m\u001b[0m\u001b[0m\n\u001b[0m\u001b[1;32m    146\u001b[0m         \u001b[0mw\u001b[0m \u001b[0;34m=\u001b[0m \u001b[0mw\u001b[0m \u001b[0;34m-\u001b[0m \u001b[0mgamma\u001b[0m \u001b[0;34m*\u001b[0m \u001b[0mgrad\u001b[0m\u001b[0;34m\u001b[0m\u001b[0;34m\u001b[0m\u001b[0m\n\u001b[1;32m    147\u001b[0m         \u001b[0;31m# converge criterion\u001b[0m\u001b[0;34m\u001b[0m\u001b[0;34m\u001b[0m\u001b[0;34m\u001b[0m\u001b[0m\n",
      "\u001b[0;32m~/Desktop/MA1/ML_CS433/ML2020_PR1/implementations.py\u001b[0m in \u001b[0;36mcalculate_gradient\u001b[0;34m(y, tx, w)\u001b[0m\n\u001b[1;32m    130\u001b[0m         \u001b[0;34m\"\"\"compute the gradient of loss.\"\"\"\u001b[0m\u001b[0;34m\u001b[0m\u001b[0;34m\u001b[0m\u001b[0m\n\u001b[1;32m    131\u001b[0m         \u001b[0msig\u001b[0m \u001b[0;34m=\u001b[0m \u001b[0msigmoid\u001b[0m\u001b[0;34m(\u001b[0m\u001b[0mtx\u001b[0m\u001b[0;34m.\u001b[0m\u001b[0mdot\u001b[0m\u001b[0;34m(\u001b[0m\u001b[0mw\u001b[0m\u001b[0;34m)\u001b[0m\u001b[0;34m)\u001b[0m\u001b[0;34m\u001b[0m\u001b[0;34m\u001b[0m\u001b[0m\n\u001b[0;32m--> 132\u001b[0;31m         \u001b[0;32mreturn\u001b[0m \u001b[0mtx\u001b[0m\u001b[0;34m.\u001b[0m\u001b[0mT\u001b[0m\u001b[0;34m.\u001b[0m\u001b[0mdot\u001b[0m\u001b[0;34m(\u001b[0m\u001b[0msig\u001b[0m \u001b[0;34m-\u001b[0m \u001b[0my\u001b[0m\u001b[0;34m)\u001b[0m\u001b[0;34m\u001b[0m\u001b[0;34m\u001b[0m\u001b[0m\n\u001b[0m\u001b[1;32m    133\u001b[0m \u001b[0;34m\u001b[0m\u001b[0m\n\u001b[1;32m    134\u001b[0m     \u001b[0mthreshold\u001b[0m \u001b[0;34m=\u001b[0m \u001b[0;36m1e-8\u001b[0m\u001b[0;34m\u001b[0m\u001b[0;34m\u001b[0m\u001b[0m\n",
      "\u001b[0;31mKeyboardInterrupt\u001b[0m: "
     ]
    }
   ],
   "source": [
    "#### testing answer\n",
    "\n",
    "kwargs = {}\n",
    "kwargs['initial_w'] = np.zeros(nb_features)\n",
    "kwargs['max_iters'] = 1001\n",
    "kwargs['gamma'] = 0.00001\n",
    "\n",
    "cross_validation(y_log_reg, tx, compute_accuracy_log_reg, 'logistic_regression', k_fold=4, **kwargs)"
   ]
  },
  {
   "cell_type": "markdown",
   "metadata": {},
   "source": [
    "### 3.6 Penalized Logistic Regression"
   ]
  },
  {
   "cell_type": "markdown",
   "metadata": {},
   "source": [
    "#### 3.6.1 Algorithm"
   ]
  },
  {
   "cell_type": "code",
   "execution_count": 232,
   "metadata": {},
   "outputs": [
    {
     "name": "stderr",
     "output_type": "stream",
     "text": [
      "/home/noyt/Desktop/MA1/ML_CS433/ML2020_PR1/proj1_helpers.py:134: RuntimeWarning: overflow encountered in exp\n",
      "  ret = 1 / (1 + np.exp(-t))\n"
     ]
    },
    {
     "data": {
      "text/plain": [
       "(32.13527109836851, 7.046937287836178, 0.68774, 0.68764)"
      ]
     },
     "execution_count": 232,
     "metadata": {},
     "output_type": "execute_result"
    }
   ],
   "source": [
    "#### testing answer\n",
    "\n",
    "degree = 2\n",
    "kwargs = {}\n",
    "kwargs['initial_w'] = np.zeros((nb_features-1) * degree + 1)\n",
    "kwargs['max_iters'] = 500\n",
    "kwargs['gamma'] = 0.001\n",
    "kwargs['lambda_'] = 0.01\n",
    "kwargs['norm'] = 'l1'\n",
    "\n",
    "y_log_reg = (y+1)/2\n",
    "\n",
    "cross_validation(y_log_reg, tx, compute_accuracy_log_reg, 'reg_logistic_regression', k_fold=4, degree = degree, **kwargs)"
   ]
  },
  {
   "cell_type": "code",
   "execution_count": 227,
   "metadata": {},
   "outputs": [
    {
     "ename": "KeyError",
     "evalue": "'gamma'",
     "output_type": "error",
     "traceback": [
      "\u001b[0;31m---------------------------------------------------------------------------\u001b[0m",
      "\u001b[0;31mKeyError\u001b[0m                                  Traceback (most recent call last)",
      "\u001b[0;32m<ipython-input-227-f63c27b5ee57>\u001b[0m in \u001b[0;36m<module>\u001b[0;34m\u001b[0m\n\u001b[1;32m      3\u001b[0m \u001b[0mkwargs\u001b[0m\u001b[0;34m[\u001b[0m\u001b[0;34m'norm'\u001b[0m\u001b[0;34m]\u001b[0m \u001b[0;34m=\u001b[0m \u001b[0;34m'l2'\u001b[0m\u001b[0;34m\u001b[0m\u001b[0;34m\u001b[0m\u001b[0m\n\u001b[1;32m      4\u001b[0m \u001b[0;34m\u001b[0m\u001b[0m\n\u001b[0;32m----> 5\u001b[0;31m \u001b[0mcross_validation\u001b[0m\u001b[0;34m(\u001b[0m\u001b[0my_log_reg\u001b[0m\u001b[0;34m,\u001b[0m \u001b[0mtx\u001b[0m\u001b[0;34m,\u001b[0m \u001b[0mcompute_accuracy_log_reg\u001b[0m\u001b[0;34m,\u001b[0m \u001b[0;34m'reg_logistic_regression'\u001b[0m\u001b[0;34m,\u001b[0m \u001b[0mk_fold\u001b[0m\u001b[0;34m=\u001b[0m\u001b[0;36m4\u001b[0m\u001b[0;34m,\u001b[0m \u001b[0;34m**\u001b[0m\u001b[0mkwargs\u001b[0m\u001b[0;34m)\u001b[0m\u001b[0;34m\u001b[0m\u001b[0;34m\u001b[0m\u001b[0m\n\u001b[0m",
      "\u001b[0;32m~/Desktop/MA1/ML_CS433/ML2020_PR1/cross_validation.py\u001b[0m in \u001b[0;36mcross_validation\u001b[0;34m(y, x, metric, learning_model, k_fold, degree, **kwargs)\u001b[0m\n\u001b[1;32m     84\u001b[0m \u001b[0;34m\u001b[0m\u001b[0m\n\u001b[1;32m     85\u001b[0m     \u001b[0;32mfor\u001b[0m \u001b[0mk\u001b[0m \u001b[0;32min\u001b[0m \u001b[0mrange\u001b[0m\u001b[0;34m(\u001b[0m\u001b[0mlen\u001b[0m\u001b[0;34m(\u001b[0m\u001b[0mk_indices\u001b[0m\u001b[0;34m)\u001b[0m\u001b[0;34m)\u001b[0m\u001b[0;34m:\u001b[0m\u001b[0;34m\u001b[0m\u001b[0;34m\u001b[0m\u001b[0m\n\u001b[0;32m---> 86\u001b[0;31m         \u001b[0mloss_tr\u001b[0m\u001b[0;34m,\u001b[0m \u001b[0mloss_te\u001b[0m\u001b[0;34m,\u001b[0m \u001b[0mmetric_tr\u001b[0m\u001b[0;34m,\u001b[0m \u001b[0mmetric_te\u001b[0m \u001b[0;34m=\u001b[0m \u001b[0mcross_validation_single_fold\u001b[0m\u001b[0;34m(\u001b[0m\u001b[0my\u001b[0m\u001b[0;34m,\u001b[0m \u001b[0mpoly\u001b[0m\u001b[0;34m,\u001b[0m \u001b[0mk_indices\u001b[0m\u001b[0;34m,\u001b[0m \u001b[0mk\u001b[0m\u001b[0;34m,\u001b[0m \u001b[0mmetric\u001b[0m\u001b[0;34m,\u001b[0m \u001b[0mlearning_model\u001b[0m\u001b[0;34m,\u001b[0m \u001b[0;34m**\u001b[0m\u001b[0mkwargs\u001b[0m\u001b[0;34m)\u001b[0m\u001b[0;34m\u001b[0m\u001b[0;34m\u001b[0m\u001b[0m\n\u001b[0m\u001b[1;32m     87\u001b[0m         \u001b[0mlosses_tr\u001b[0m\u001b[0;34m.\u001b[0m\u001b[0mappend\u001b[0m\u001b[0;34m(\u001b[0m\u001b[0mloss_tr\u001b[0m\u001b[0;34m)\u001b[0m\u001b[0;34m\u001b[0m\u001b[0;34m\u001b[0m\u001b[0m\n\u001b[1;32m     88\u001b[0m         \u001b[0mlosses_te\u001b[0m\u001b[0;34m.\u001b[0m\u001b[0mappend\u001b[0m\u001b[0;34m(\u001b[0m\u001b[0mloss_te\u001b[0m\u001b[0;34m)\u001b[0m\u001b[0;34m\u001b[0m\u001b[0;34m\u001b[0m\u001b[0m\n",
      "\u001b[0;32m~/Desktop/MA1/ML_CS433/ML2020_PR1/cross_validation.py\u001b[0m in \u001b[0;36mcross_validation_single_fold\u001b[0;34m(y, x, k_indices, k, metric, learning_model, **kwargs)\u001b[0m\n\u001b[1;32m     44\u001b[0m     \u001b[0;31m# learning\u001b[0m\u001b[0;34m\u001b[0m\u001b[0;34m\u001b[0m\u001b[0;34m\u001b[0m\u001b[0m\n\u001b[1;32m     45\u001b[0m     \u001b[0;31m# ***************************************************\u001b[0m\u001b[0;34m\u001b[0m\u001b[0;34m\u001b[0m\u001b[0;34m\u001b[0m\u001b[0m\n\u001b[0;32m---> 46\u001b[0;31m     \u001b[0mw\u001b[0m\u001b[0;34m,\u001b[0m \u001b[0mloss_tr\u001b[0m \u001b[0;34m=\u001b[0m \u001b[0mrun_model\u001b[0m\u001b[0;34m(\u001b[0m\u001b[0mlearning_model\u001b[0m\u001b[0;34m,\u001b[0m \u001b[0my_train\u001b[0m\u001b[0;34m,\u001b[0m \u001b[0mx_train\u001b[0m\u001b[0;34m,\u001b[0m \u001b[0;34m**\u001b[0m\u001b[0mkwargs\u001b[0m\u001b[0;34m)\u001b[0m\u001b[0;34m\u001b[0m\u001b[0;34m\u001b[0m\u001b[0m\n\u001b[0m\u001b[1;32m     47\u001b[0m     \u001b[0mloss_te\u001b[0m \u001b[0;34m=\u001b[0m \u001b[0mcompute_loss\u001b[0m\u001b[0;34m(\u001b[0m\u001b[0mlearning_model\u001b[0m\u001b[0;34m,\u001b[0m \u001b[0my_test\u001b[0m\u001b[0;34m,\u001b[0m \u001b[0mx_test\u001b[0m\u001b[0;34m,\u001b[0m \u001b[0mw\u001b[0m\u001b[0;34m)\u001b[0m\u001b[0;34m\u001b[0m\u001b[0;34m\u001b[0m\u001b[0m\n\u001b[1;32m     48\u001b[0m     \u001b[0;31m# ***************************************************\u001b[0m\u001b[0;34m\u001b[0m\u001b[0;34m\u001b[0m\u001b[0;34m\u001b[0m\u001b[0m\n",
      "\u001b[0;32m~/Desktop/MA1/ML_CS433/ML2020_PR1/cross_validation.py\u001b[0m in \u001b[0;36mrun_model\u001b[0;34m(learning_model, y, x, **kwargs)\u001b[0m\n\u001b[1;32m    115\u001b[0m         \u001b[0;32mreturn\u001b[0m \u001b[0mlogistic_regression\u001b[0m\u001b[0;34m(\u001b[0m\u001b[0my\u001b[0m\u001b[0;34m,\u001b[0m \u001b[0mx\u001b[0m\u001b[0;34m,\u001b[0m \u001b[0mkwargs\u001b[0m\u001b[0;34m[\u001b[0m\u001b[0;34m'initial_w'\u001b[0m\u001b[0;34m]\u001b[0m\u001b[0;34m,\u001b[0m \u001b[0mkwargs\u001b[0m\u001b[0;34m[\u001b[0m\u001b[0;34m'max_iters'\u001b[0m\u001b[0;34m]\u001b[0m\u001b[0;34m,\u001b[0m \u001b[0mkwargs\u001b[0m\u001b[0;34m[\u001b[0m\u001b[0;34m'gamma'\u001b[0m\u001b[0;34m]\u001b[0m\u001b[0;34m)\u001b[0m\u001b[0;34m\u001b[0m\u001b[0;34m\u001b[0m\u001b[0m\n\u001b[1;32m    116\u001b[0m     \u001b[0;32melif\u001b[0m \u001b[0mmod\u001b[0m \u001b[0;34m==\u001b[0m \u001b[0;34m'reg_logistic_regression'\u001b[0m\u001b[0;34m:\u001b[0m\u001b[0;34m\u001b[0m\u001b[0;34m\u001b[0m\u001b[0m\n\u001b[0;32m--> 117\u001b[0;31m         \u001b[0;32mreturn\u001b[0m \u001b[0mreg_logistic_regression\u001b[0m\u001b[0;34m(\u001b[0m\u001b[0my\u001b[0m\u001b[0;34m,\u001b[0m \u001b[0mx\u001b[0m\u001b[0;34m,\u001b[0m \u001b[0mkwargs\u001b[0m\u001b[0;34m[\u001b[0m\u001b[0;34m'lambda_'\u001b[0m\u001b[0;34m]\u001b[0m\u001b[0;34m,\u001b[0m \u001b[0mkwargs\u001b[0m\u001b[0;34m[\u001b[0m\u001b[0;34m'initial_w'\u001b[0m\u001b[0;34m]\u001b[0m\u001b[0;34m,\u001b[0m \u001b[0mkwargs\u001b[0m\u001b[0;34m[\u001b[0m\u001b[0;34m'max_iters'\u001b[0m\u001b[0;34m]\u001b[0m\u001b[0;34m,\u001b[0m \u001b[0mkwargs\u001b[0m\u001b[0;34m[\u001b[0m\u001b[0;34m'gamma'\u001b[0m\u001b[0;34m]\u001b[0m\u001b[0;34m,\u001b[0m \u001b[0mkwargs\u001b[0m\u001b[0;34m[\u001b[0m\u001b[0;34m'norm'\u001b[0m\u001b[0;34m]\u001b[0m\u001b[0;34m)\u001b[0m\u001b[0;34m\u001b[0m\u001b[0;34m\u001b[0m\u001b[0m\n\u001b[0m\u001b[1;32m    118\u001b[0m     \u001b[0;32melse\u001b[0m\u001b[0;34m:\u001b[0m\u001b[0;34m\u001b[0m\u001b[0;34m\u001b[0m\u001b[0m\n\u001b[1;32m    119\u001b[0m         \u001b[0;32mraise\u001b[0m \u001b[0mException\u001b[0m\u001b[0;34m(\u001b[0m\u001b[0;34m'Learning method {} is currently not supported.'\u001b[0m\u001b[0;34m.\u001b[0m\u001b[0mformat\u001b[0m\u001b[0;34m(\u001b[0m\u001b[0mlearning_model\u001b[0m\u001b[0;34m)\u001b[0m\u001b[0;34m)\u001b[0m\u001b[0;34m\u001b[0m\u001b[0;34m\u001b[0m\u001b[0m\n",
      "\u001b[0;31mKeyError\u001b[0m: 'gamma'"
     ]
    }
   ],
   "source": [
    "kwargs['initial_w'] = np.zeros(nb_features)\n",
    "kwargs['max_iters'] = 500\n",
    "kwargs['norm'] = 'l2'\n",
    "\n",
    "cross_validation(y_log_reg, tx, compute_accuracy_log_reg, 'reg_logistic_regression', k_fold=4, **kwargs)"
   ]
  },
  {
   "cell_type": "markdown",
   "metadata": {},
   "source": [
    "#### 3.6.2 Hyperparameter search: lambda\n",
    "\n",
    "In order to improve our performance, we run an hyperparameter search on the regularisation parameter lambda."
   ]
  },
  {
   "cell_type": "code",
   "execution_count": 78,
   "metadata": {},
   "outputs": [
    {
     "data": {
      "text/plain": [
       "\u001b[0;31mSignature:\u001b[0m\n",
       "\u001b[0mcross_validation_hyper_search\u001b[0m\u001b[0;34m(\u001b[0m\u001b[0;34m\u001b[0m\n",
       "\u001b[0;34m\u001b[0m    \u001b[0my\u001b[0m\u001b[0;34m,\u001b[0m\u001b[0;34m\u001b[0m\n",
       "\u001b[0;34m\u001b[0m    \u001b[0mx\u001b[0m\u001b[0;34m,\u001b[0m\u001b[0;34m\u001b[0m\n",
       "\u001b[0;34m\u001b[0m    \u001b[0mparam_name\u001b[0m\u001b[0;34m,\u001b[0m\u001b[0;34m\u001b[0m\n",
       "\u001b[0;34m\u001b[0m    \u001b[0msearch_space\u001b[0m\u001b[0;34m,\u001b[0m\u001b[0;34m\u001b[0m\n",
       "\u001b[0;34m\u001b[0m    \u001b[0mmetric\u001b[0m\u001b[0;34m,\u001b[0m\u001b[0;34m\u001b[0m\n",
       "\u001b[0;34m\u001b[0m    \u001b[0mlearning_model\u001b[0m\u001b[0;34m,\u001b[0m\u001b[0;34m\u001b[0m\n",
       "\u001b[0;34m\u001b[0m    \u001b[0mk_fold\u001b[0m\u001b[0;34m,\u001b[0m\u001b[0;34m\u001b[0m\n",
       "\u001b[0;34m\u001b[0m    \u001b[0mdegree\u001b[0m\u001b[0;34m=\u001b[0m\u001b[0;36m1\u001b[0m\u001b[0;34m,\u001b[0m\u001b[0;34m\u001b[0m\n",
       "\u001b[0;34m\u001b[0m    \u001b[0max\u001b[0m\u001b[0;34m=\u001b[0m\u001b[0;32mNone\u001b[0m\u001b[0;34m,\u001b[0m\u001b[0;34m\u001b[0m\n",
       "\u001b[0;34m\u001b[0m    \u001b[0;34m**\u001b[0m\u001b[0mkwargs\u001b[0m\u001b[0;34m,\u001b[0m\u001b[0;34m\u001b[0m\n",
       "\u001b[0;34m\u001b[0m\u001b[0;34m)\u001b[0m\u001b[0;34m\u001b[0m\u001b[0;34m\u001b[0m\u001b[0m\n",
       "\u001b[0;31mDocstring:\u001b[0m\n",
       "Runs a hyperparameter search for a parameter given to the learning model.\n",
       "\n",
       "y: targets\n",
       "x: data samples\n",
       "param_name: str, parameter to search, must be the same as would be provided in kwargs to the learning model\n",
       "search_space: iterable, values from which the parameter will be searched\n",
       "metric: (function) metric to compute (e.g. accuracy, recall)\n",
       "learning_model: str, method to employ (e.g. 'least_squares', 'ridge_regression')\n",
       "k_fold: number of folds to perform\n",
       "degree: degree of the polynomial expension\n",
       "**kwargs: additional arguments for learning method (e.g. lambda, degree)\n",
       "returns: minimum average test loss achieved and its corresponding hyperparameter\n",
       "\u001b[0;31mFile:\u001b[0m      ~/Desktop/MA1/ML_CS433/ML2020_PR1/cross_validation.py\n",
       "\u001b[0;31mType:\u001b[0m      function\n"
      ]
     },
     "metadata": {},
     "output_type": "display_data"
    }
   ],
   "source": [
    "?cross_validation_hyper_search"
   ]
  },
  {
   "cell_type": "code",
   "execution_count": 81,
   "metadata": {},
   "outputs": [
    {
     "data": {
      "text/plain": [
       "1e-05"
      ]
     },
     "execution_count": 81,
     "metadata": {},
     "output_type": "execute_result"
    },
    {
     "data": {
      "image/png": "[encoded data removed]",
      "text/plain": [
       "<Figure size 720x504 with 2 Axes>"
      ]
     },
     "metadata": {
      "needs_background": "light"
     },
     "output_type": "display_data"
    }
   ],
   "source": [
    "degree = 2\n",
    "kwargs['initial_w'] = np.zeros((nb_features_phi - 1) * degree + 1)\n",
    "kwargs['max_iters'] = 50\n",
    "kwargs['gamma'] = 0.000001\n",
    "kwargs['norm'] = 'l2'\n",
    "lambda_space = np.logspace(-5, -1.1, 10)\n",
    "min_loss, best_lambda = cross_validation_hyper_search(y=y_log_reg,\n",
    "                                            x=tx_phi,\n",
    "                                            param_name='lambda_',\n",
    "                                            search_space=lambda_space,\n",
    "                                            metric=compute_accuracy_log_reg,\n",
    "                                            learning_model='reg_logistic_regression',\n",
    "                                            k_fold=4,\n",
    "                                            degree=degree,\n",
    "                                            **kwargs)\n",
    "best_lambda "
   ]
  },
  {
   "cell_type": "code",
   "execution_count": 84,
   "metadata": {},
   "outputs": [
    {
     "name": "stderr",
     "output_type": "stream",
     "text": [
      "/home/noyt/Desktop/MA1/ML_CS433/ML2020_PR1/proj1_helpers.py:132: RuntimeWarning: overflow encountered in exp\n",
      "  def compute_accuracy(weights, labels, data):\n"
     ]
    },
    {
     "data": {
      "text/plain": [
       "(0.4807772554732378, 6.30957344480193e-07)"
      ]
     },
     "execution_count": 84,
     "metadata": {},
     "output_type": "execute_result"
    },
    {
     "data": {
      "image/png": "[encoded data removed]",
      "text/plain": [
       "<Figure size 720x504 with 2 Axes>"
      ]
     },
     "metadata": {
      "needs_background": "light"
     },
     "output_type": "display_data"
    }
   ],
   "source": [
    "degree = 2\n",
    "kwargs['initial_w'] = np.zeros((nb_features_phi - 1) * degree + 1)\n",
    "kwargs['max_iters'] = 50\n",
    "kwargs['lambda'] = best_lambda\n",
    "gamma_space = np.logspace(-7, -1, 16)\n",
    "best_gamma = cross_validation_hyper_search(y=y_log_reg,\n",
    "                                           x=tx_phi,\n",
    "                                           param_name='gamma',\n",
    "                                           search_space=gamma_space,\n",
    "                                           metric=compute_accuracy_log_reg,\n",
    "                                           learning_model='reg_logistic_regression',\n",
    "                                           k_fold=4,\n",
    "                                           degree=2,\n",
    "                                           **kwargs)\n",
    "best_gamma"
   ]
  },
  {
   "cell_type": "markdown",
   "metadata": {},
   "source": [
    "## Generate predictions and save ouput in csv format for submission:"
   ]
  },
  {
   "cell_type": "code",
   "execution_count": 119,
   "metadata": {
    "collapsed": false,
    "jupyter": {
     "outputs_hidden": false
    }
   },
   "outputs": [],
   "source": [
    "DATA_TEST_PATH = 'data/test.csv'\n",
    "\n",
    "# TODO standardise test data when required\n",
    "_, tX_test, ids_test = load_csv_data(DATA_TEST_PATH)"
   ]
  },
  {
   "cell_type": "code",
   "execution_count": 221,
   "metadata": {},
   "outputs": [
    {
     "data": {
      "text/plain": [
       "0.8126"
      ]
     },
     "execution_count": 221,
     "metadata": {},
     "output_type": "execute_result"
    }
   ],
   "source": [
    "tx = mass_abs(tX)\n",
    "tx, mean_tX, std_tX = standardise(tx)\n",
    "tx = np.c_[np.ones(len(tx[:,0])), tx]\n",
    "tx = build_poly(tx, degree=6)\n",
    "\n",
    "w, loss = least_squares(y, tx)\n",
    "compute_accuracy(w, y, tx)"
   ]
  },
  {
   "cell_type": "code",
   "execution_count": 222,
   "metadata": {},
   "outputs": [
    {
     "name": "stdout",
     "output_type": "stream",
     "text": [
      "(568238, 181)\n"
     ]
    }
   ],
   "source": [
    "tx_test = mass_abs(tX_test)\n",
    "tx_test, _, _ = standardise(tx_test, mean_tX, std_tX)\n",
    "tx_test_poly = np.c_[np.ones(len(tx_test[:,0])), tx_test]\n",
    "tx_test_poly = build_poly(tx_test_poly, 6)\n",
    "\n",
    "print(tx_test_poly.shape)"
   ]
  },
  {
   "cell_type": "code",
   "execution_count": 223,
   "metadata": {},
   "outputs": [
    {
     "data": {
      "text/plain": [
       "(181,)"
      ]
     },
     "execution_count": 223,
     "metadata": {},
     "output_type": "execute_result"
    }
   ],
   "source": [
    "w.shape"
   ]
  },
  {
   "cell_type": "code",
   "execution_count": 224,
   "metadata": {
    "collapsed": false,
    "jupyter": {
     "outputs_hidden": false
    }
   },
   "outputs": [],
   "source": [
    "OUTPUT_PATH = 'data/output.csv' # TODO: fill in desired name of output file for submission\n",
    "y_pred = predict_labels(w, tx_test_poly)\n",
    "create_csv_submission(ids_test, y_pred, OUTPUT_PATH)"
   ]
  },
  {
   "cell_type": "code",
   "execution_count": 225,
   "metadata": {},
   "outputs": [
    {
     "data": {
      "text/plain": [
       "174001"
      ]
     },
     "execution_count": 225,
     "metadata": {},
     "output_type": "execute_result"
    }
   ],
   "source": [
    "(y_pred == 1).sum()"
   ]
  },
  {
   "cell_type": "code",
   "execution_count": 164,
   "metadata": {},
   "outputs": [
    {
     "data": {
      "text/plain": [
       "array([-0.63102913, -0.15065374, -0.45099874, ..., -0.51406582,\n",
       "       -0.30788485, -0.35025265])"
      ]
     },
     "execution_count": 164,
     "metadata": {},
     "output_type": "execute_result"
    }
   ],
   "source": [
    "np.mean(tx_test, axis=1)"
   ]
  }
 ],
 "metadata": {
  "anaconda-cloud": {},
  "kernelspec": {
   "display_name": "Python 3",
   "language": "python",
   "name": "python3"
  },
  "language_info": {
   "codemirror_mode": {
    "name": "ipython",
    "version": 3
   },
   "file_extension": ".py",
   "mimetype": "text/x-python",
   "name": "python",
   "nbconvert_exporter": "python",
   "pygments_lexer": "ipython3",
   "version": "3.7.4"
  }
 },
 "nbformat": 4,
 "nbformat_minor": 4
}
