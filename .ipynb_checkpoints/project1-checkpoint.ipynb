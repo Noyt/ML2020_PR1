{
 "cells": [
  {
   "cell_type": "code",
   "execution_count": 180,
   "metadata": {},
   "outputs": [
    {
     "name": "stdout",
     "output_type": "stream",
     "text": [
      "The autoreload extension is already loaded. To reload it, use:\n",
      "  %reload_ext autoreload\n"
     ]
    }
   ],
   "source": [
    "# Useful starting lines\n",
    "%matplotlib inline\n",
    "import numpy as np\n",
    "import matplotlib.pyplot as plt\n",
    "%load_ext autoreload\n",
    "%autoreload 2"
   ]
  },
  {
   "cell_type": "markdown",
   "metadata": {},
   "source": [
    "# EPFL Machine Learning Higgs"
   ]
  },
  {
   "cell_type": "markdown",
   "metadata": {},
   "source": [
    "TODO description"
   ]
  },
  {
   "cell_type": "markdown",
   "metadata": {},
   "source": [
    "## 1. Load the training data into feature matrix, class labels, and event ids:"
   ]
  },
  {
   "cell_type": "code",
   "execution_count": 303,
   "metadata": {
    "collapsed": false,
    "jupyter": {
     "outputs_hidden": false
    }
   },
   "outputs": [],
   "source": [
    "from proj1_helpers import *\n",
    "from implementations import *\n",
    "from cross_validation import *\n",
    "from plots import *"
   ]
  },
  {
   "cell_type": "code",
   "execution_count": 283,
   "metadata": {},
   "outputs": [],
   "source": [
    "DATA_TRAIN_PATH = 'data/train.csv' \n",
    "y, tX, ids = load_csv_data(DATA_TRAIN_PATH)"
   ]
  },
  {
   "cell_type": "markdown",
   "metadata": {},
   "source": [
    "## 2. Data pre-processing\n",
    "\n",
    "Before any attempt to prediction, we perform some data cleaning (TODO) and preprocessing. We start by standardising our training dataset."
   ]
  },
  {
   "cell_type": "code",
   "execution_count": 310,
   "metadata": {},
   "outputs": [
    {
     "data": {
      "text/plain": [
       "array([[1.        , 0.51914948, 0.07485418, ..., 0.99675137, 0.99439501,\n",
       "        0.06948372],\n",
       "       [1.        , 0.52940358, 0.09965294, ..., 0.        , 0.        ,\n",
       "        0.02829991],\n",
       "       [1.        , 0.        , 0.23500634, ..., 0.        , 0.        ,\n",
       "        0.0270908 ],\n",
       "       ...,\n",
       "       [1.        , 0.50408211, 0.08770931, ..., 0.        , 0.        ,\n",
       "        0.02570782],\n",
       "       [1.        , 0.49928709, 0.02805782, ..., 0.        , 0.        ,\n",
       "        0.        ],\n",
       "       [1.        , 0.        , 0.10543202, ..., 0.        , 0.        ,\n",
       "        0.        ]])"
      ]
     },
     "execution_count": 310,
     "metadata": {},
     "output_type": "execute_result"
    }
   ],
   "source": [
    "tx = standardise(tX)\n",
    "#tx = normalise(tx)\n",
    "# add constant term\n",
    "tx = np.c_[np.ones(len(tX[:,0])), tx]\n",
    "nb_features=tx.shape[1]\n",
    "tx"
   ]
  },
  {
   "cell_type": "code",
   "execution_count": 184,
   "metadata": {},
   "outputs": [
    {
     "name": "stdout",
     "output_type": "stream",
     "text": [
      "Acc pour non standardisé:  0.744328 \n",
      "Acc pour standardisé:  0.718444 \n"
     ]
    }
   ],
   "source": [
    "w, loss = least_squares(y, tX)\n",
    "print('Acc pour non standardisé:  {} '.format(compute_accuracy(w, y, tX)))\n",
    "      \n",
    "w, loss = least_squares(y, tx)\n",
    "print('Acc pour standardisé:  {} '.format(compute_accuracy(w, y, tx)))"
   ]
  },
  {
   "cell_type": "code",
   "execution_count": 185,
   "metadata": {},
   "outputs": [
    {
     "name": "stdout",
     "output_type": "stream",
     "text": [
      "Acc pour non standardisé:  0.744408 \n"
     ]
    }
   ],
   "source": [
    "# Test en splittant mass\n",
    "w, loss = least_squares(y, new_tX)\n",
    "print('Acc pour non standardisé:  {} '.format(compute_accuracy(w, y, new_tX)))"
   ]
  },
  {
   "cell_type": "code",
   "execution_count": 186,
   "metadata": {},
   "outputs": [
    {
     "name": "stdout",
     "output_type": "stream",
     "text": [
      "Acc pour non standardisé:  0.749872 \n"
     ]
    }
   ],
   "source": [
    "# Test en virant toutes les colonnes phi\n",
    "tX_no_phi = np.delete(new_new_tX,[11, 15, 18, 20, 25, 28], axis = 1) \n",
    "w, loss = least_squares(y, tX_no_phi)\n",
    "print('Acc pour non standardisé:  {} '.format(compute_accuracy(w, y, tX_no_phi)))"
   ]
  },
  {
   "cell_type": "code",
   "execution_count": 187,
   "metadata": {},
   "outputs": [
    {
     "name": "stdout",
     "output_type": "stream",
     "text": [
      "Acc pour non standardisé:  0.74632 \n"
     ]
    }
   ],
   "source": [
    "w, loss = least_squares(y, new_new_tX)\n",
    "print('Acc pour non standardisé:  {} '.format(compute_accuracy(w, y, new_new_tX)))"
   ]
  },
  {
   "cell_type": "code",
   "execution_count": 188,
   "metadata": {},
   "outputs": [
    {
     "name": "stdout",
     "output_type": "stream",
     "text": [
      "Acc pour non standardisé:  0.744564 \n"
     ]
    }
   ],
   "source": [
    "tX_no_obv_phi = np.delete(new_tX, [15, 18, 20], axis = 1)\n",
    "w, loss = least_squares(y, tX_no_obv_phi)\n",
    "print('Acc pour non standardisé:  {} '.format(compute_accuracy(w, y, tX_no_obv_phi)))"
   ]
  },
  {
   "cell_type": "code",
   "execution_count": 189,
   "metadata": {},
   "outputs": [],
   "source": [
    "w, loss = reg_logistic_regression(y, tx, lambda_=1, initial_w=np.random.rand(30), max_iters=50, gamma=0.1)"
   ]
  },
  {
   "cell_type": "code",
   "execution_count": 190,
   "metadata": {},
   "outputs": [
    {
     "data": {
      "text/plain": [
       "array([[ 138.47 ,   51.655,   97.827, ...,   -2.475,  113.497,    0.   ],\n",
       "       [ 160.937,   68.768,  103.235, ..., -999.   ,   46.226,    0.   ],\n",
       "       [   0.   ,  162.172,  125.953, ..., -999.   ,   44.251,   -1.   ],\n",
       "       ...,\n",
       "       [ 105.457,   60.526,   75.839, ..., -999.   ,   41.992,    0.   ],\n",
       "       [  94.951,   19.362,   68.812, ..., -999.   ,    0.   ,    0.   ],\n",
       "       [   0.   ,   72.756,   70.831, ..., -999.   ,    0.   ,   -1.   ]])"
      ]
     },
     "execution_count": 190,
     "metadata": {},
     "output_type": "execute_result"
    }
   ],
   "source": [
    "# Splitting the DER_mass_MMC col in two\n",
    "shape = tX.shape\n",
    "new_tX = np.zeros((shape[0], shape[1]+1))\n",
    "new_tX[:,:-1] = tX\n",
    "idx = (tX[:,0] == -999)\n",
    "mass_999 = tX[:,0]*idx*(1/999)\n",
    "new_tX[:,-1] = mass_999\n",
    "new_tX[idx,0] = 0\n",
    "new_tX"
   ]
  },
  {
   "cell_type": "code",
   "execution_count": 191,
   "metadata": {},
   "outputs": [],
   "source": [
    "new_shape = new_tX.shape\n",
    "new_new_tX = np.zeros((new_shape[0], new_shape[1] + 1))\n",
    "new_new_tX[:,:-1] = new_tX\n",
    "new_idx = (new_tX[:,4] == -999)\n",
    "lot_999 = new_tX[:,4]*new_idx*(1/999)\n",
    "new_new_tX[:,-1] = lot_999\n",
    "new_new_tX[new_idx, 4] = 0\n",
    "new_new_tX[new_idx, 5] = 0\n",
    "new_new_tX[new_idx, 6] = 0\n",
    "new_new_tX[new_idx, 12] = 0\n",
    "new_new_tX[new_idx, 26] = 0\n",
    "new_new_tX[new_idx, 27] = 0\n",
    "new_new_tX[new_idx, 28] = 0"
   ]
  },
  {
   "cell_type": "markdown",
   "metadata": {},
   "source": [
    "## 3. Classic ML methods\n",
    "\n",
    "The following predictions are made using the functions implemented during the course labs.\n",
    "\n",
    "### 3.1 Least Squares GD"
   ]
  },
  {
   "cell_type": "code",
   "execution_count": 311,
   "metadata": {},
   "outputs": [
    {
     "data": {
      "text/plain": [
       "(0.42622581808723786, 0.42588954794269956, 0.650384, 0.650276)"
      ]
     },
     "execution_count": 311,
     "metadata": {},
     "output_type": "execute_result"
    }
   ],
   "source": [
    "#### testing answer\n",
    "\n",
    "kwargs = {}\n",
    "kwargs['initial_w'] = np.random.rand(nb_features)\n",
    "kwargs['max_iters'] = 50\n",
    "kwargs['gamma'] = 0.1\n",
    "\n",
    "cross_validation(y, tx, compute_accuracy, 'least_squares_GD', k_fold=4, **kwargs)"
   ]
  },
  {
   "cell_type": "markdown",
   "metadata": {},
   "source": [
    "### 3.2 Least Squares SGD"
   ]
  },
  {
   "cell_type": "code",
   "execution_count": 312,
   "metadata": {},
   "outputs": [
    {
     "data": {
      "text/plain": [
       "(5.951097375213424, 5.844216415636857, 0.34266800000000003, 0.342668)"
      ]
     },
     "execution_count": 312,
     "metadata": {},
     "output_type": "execute_result"
    }
   ],
   "source": [
    "#### testing answer\n",
    "\n",
    "kwargs = {}\n",
    "kwargs['initial_w'] = np.random.rand(nb_features)\n",
    "kwargs['max_iters'] = 50\n",
    "kwargs['gamma'] = 0.001\n",
    "\n",
    "cross_validation(y, tx, compute_accuracy, 'least_squares_SGD', k_fold=4, **kwargs)"
   ]
  },
  {
   "cell_type": "markdown",
   "metadata": {},
   "source": [
    "### 3.3 Least Squares, normal equations"
   ]
  },
  {
   "cell_type": "code",
   "execution_count": 313,
   "metadata": {},
   "outputs": [
    {
     "data": {
      "text/plain": [
       "(0.3394279455899915, 0.33957039385125837, 0.7450106666666667, 0.744956)"
      ]
     },
     "execution_count": 313,
     "metadata": {},
     "output_type": "execute_result"
    }
   ],
   "source": [
    "#### testing answer\n",
    "\n",
    "cross_validation(y, tx, compute_accuracy, 'least_squares', k_fold=4)"
   ]
  },
  {
   "cell_type": "markdown",
   "metadata": {},
   "source": [
    "### 3.4 Ridge Regression"
   ]
  },
  {
   "cell_type": "markdown",
   "metadata": {},
   "source": [
    "#### 3.4.1 Algorithm"
   ]
  },
  {
   "cell_type": "code",
   "execution_count": 275,
   "metadata": {},
   "outputs": [
    {
     "data": {
      "text/plain": [
       "(0.339430476962848,\n",
       " 0.33956675372968614,\n",
       " 0.7449866666666667,\n",
       " 0.7449399999999999)"
      ]
     },
     "execution_count": 275,
     "metadata": {},
     "output_type": "execute_result"
    }
   ],
   "source": [
    "# Method parameters\n",
    "kwargs = {}\n",
    "kwargs['initial_w'] = np.random.rand(nb_features)\n",
    "kwargs['lambda_'] = 0.00011\n",
    "\n",
    "cross_validation(y, tx, compute_accuracy, 'ridge_regression', k_fold=4, **kwargs)"
   ]
  },
  {
   "cell_type": "markdown",
   "metadata": {},
   "source": [
    "#### 3.4.2 Hyperparameter search: lambda\n",
    "\n",
    "In order to improve our performance, we run an hyperparameter search on the regularisation parameter lambda."
   ]
  },
  {
   "cell_type": "code",
   "execution_count": 263,
   "metadata": {},
   "outputs": [
    {
     "data": {
      "text/plain": [
       "0.0001"
      ]
     },
     "execution_count": 263,
     "metadata": {},
     "output_type": "execute_result"
    },
    {
     "data": {
      "image/png": "[encoded data removed]",
      "text/plain": [
       "<Figure size 720x504 with 2 Axes>"
      ]
     },
     "metadata": {
      "needs_background": "light"
     },
     "output_type": "display_data"
    }
   ],
   "source": [
    "kwargs['initial_w'] = np.random.rand(nb_features)\n",
    "lambda_space = np.logspace(-4, -1.1, 15)\n",
    "best_lambda = cross_validation_hyper_search(y, tx, 'lambda_', lambda_space , compute_accuracy, 'ridge_regression', 4, **kwargs)\n",
    "best_lambda # TODO il essaie clairement de mettre lambda à 0"
   ]
  },
  {
   "cell_type": "markdown",
   "metadata": {},
   "source": [
    "### 3.5 Logistic Regression"
   ]
  },
  {
   "cell_type": "code",
   "execution_count": 315,
   "metadata": {},
   "outputs": [
    {
     "name": "stdout",
     "output_type": "stream",
     "text": [
      "Current iteration=0, loss=413081.3835559182\n",
      "Current iteration=0, loss=414443.483347281\n",
      "Current iteration=0, loss=413116.3186524249\n",
      "Current iteration=0, loss=414084.292679297\n"
     ]
    },
    {
     "data": {
      "text/plain": [
       "(1479416.678723732, 945976.7868203749, 0.34266800000000003, 0.342668)"
      ]
     },
     "execution_count": 315,
     "metadata": {},
     "output_type": "execute_result"
    }
   ],
   "source": [
    "#### testing answer\n",
    "\n",
    "kwargs = {}\n",
    "kwargs['initial_w'] = np.random.rand(nb_features)\n",
    "kwargs['max_iters'] = 50\n",
    "kwargs['gamma'] = 0.001\n",
    "\n",
    "y_log_reg = (y+1)/2\n",
    "\n",
    "cross_validation(y_log_reg, tx, compute_accuracy_log_reg, 'logistic_regression', k_fold=4, **kwargs)"
   ]
  },
  {
   "cell_type": "markdown",
   "metadata": {},
   "source": [
    "### 3.6 Penalized Logistic Regression"
   ]
  },
  {
   "cell_type": "code",
   "execution_count": 239,
   "metadata": {},
   "outputs": [
    {
     "name": "stderr",
     "output_type": "stream",
     "text": [
      "/home/noyt/Desktop/MA1/ML_CS433/ML2020_PR1/proj1_helpers.py:67: RuntimeWarning: overflow encountered in exp\n",
      "  split the dataset based on the split ratio. If ratio is 0.8\n"
     ]
    },
    {
     "data": {
      "text/plain": [
       "(1722341.2621807223, 553196.6405571892, 0.614156, 0.61534)"
      ]
     },
     "execution_count": 239,
     "metadata": {},
     "output_type": "execute_result"
    }
   ],
   "source": [
    "#### testing answer\n",
    "\n",
    "kwargs = {}\n",
    "kwargs['initial_w'] = np.random.rand(nb_features)\n",
    "kwargs['max_iters'] = 50\n",
    "kwargs['gamma'] = 0.1\n",
    "kwargs['lambda_'] = 0.001\n",
    "\n",
    "y_log_reg = (y+1)/2\n",
    "\n",
    "cross_validation(y_log_reg, tx, compute_accuracy_log_reg, 'reg_logistic_regression', k_fold=4, **kwargs)"
   ]
  },
  {
   "cell_type": "markdown",
   "metadata": {},
   "source": [
    "## Generate predictions and save ouput in csv format for submission:"
   ]
  },
  {
   "cell_type": "code",
   "execution_count": 142,
   "metadata": {
    "collapsed": false,
    "jupyter": {
     "outputs_hidden": false
    }
   },
   "outputs": [],
   "source": [
    "DATA_TEST_PATH = 'data/test.csv'\n",
    "\n",
    "# TODO standardise test data when required\n",
    "_, tX_test, ids_test = load_csv_data(DATA_TEST_PATH)"
   ]
  },
  {
   "cell_type": "code",
   "execution_count": 27,
   "metadata": {
    "collapsed": false,
    "jupyter": {
     "outputs_hidden": false
    }
   },
   "outputs": [],
   "source": [
    "OUTPUT_PATH = 'data/output.csv' # TODO: fill in desired name of output file for submission\n",
    "y_pred = predict_labels(w, tX_test)\n",
    "create_csv_submission(ids_test, y_pred, OUTPUT_PATH)"
   ]
  },
  {
   "cell_type": "code",
   "execution_count": 47,
   "metadata": {},
   "outputs": [
    {
     "data": {
      "text/plain": [
       "0.636648"
      ]
     },
     "execution_count": 47,
     "metadata": {},
     "output_type": "execute_result"
    }
   ],
   "source": [
    "compute_accuracy(w, y, new_tX)"
   ]
  },
  {
   "cell_type": "code",
   "execution_count": 49,
   "metadata": {},
   "outputs": [
    {
     "data": {
      "text/plain": [
       "array([ 0.42412233,  0.42412233, -2.35781033, ...,  0.42412233,\n",
       "        0.42412233, -2.35781033])"
      ]
     },
     "execution_count": 49,
     "metadata": {},
     "output_type": "execute_result"
    }
   ],
   "source": []
  }
 ],
 "metadata": {
  "anaconda-cloud": {},
  "kernelspec": {
   "display_name": "Python 3",
   "language": "python",
   "name": "python3"
  },
  "language_info": {
   "codemirror_mode": {
    "name": "ipython",
    "version": 3
   },
   "file_extension": ".py",
   "mimetype": "text/x-python",
   "name": "python",
   "nbconvert_exporter": "python",
   "pygments_lexer": "ipython3",
   "version": "3.7.4"
  }
 },
 "nbformat": 4,
 "nbformat_minor": 4
}
