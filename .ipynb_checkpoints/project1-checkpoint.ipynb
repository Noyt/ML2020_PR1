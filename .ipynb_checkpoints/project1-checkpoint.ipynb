{
 "cells": [
  {
   "cell_type": "code",
   "execution_count": 2,
   "metadata": {},
   "outputs": [],
   "source": [
    "# Useful starting lines\n",
    "%matplotlib inline\n",
    "import numpy as np\n",
    "import matplotlib.pyplot as plt\n",
    "%load_ext autoreload\n",
    "%autoreload 2"
   ]
  },
  {
   "cell_type": "markdown",
   "metadata": {},
   "source": [
    "# EPFL Machine Learning Higgs"
   ]
  },
  {
   "cell_type": "markdown",
   "metadata": {},
   "source": [
    "TODO description"
   ]
  },
  {
   "cell_type": "markdown",
   "metadata": {},
   "source": [
    "## 1. Load the training data into feature matrix, class labels, and event ids:"
   ]
  },
  {
   "cell_type": "code",
   "execution_count": 3,
   "metadata": {
    "collapsed": false,
    "jupyter": {
     "outputs_hidden": false
    }
   },
   "outputs": [],
   "source": [
    "from proj1_helpers import *\n",
    "from implementations import *\n",
    "from cross_validation import *"
   ]
  },
  {
   "cell_type": "code",
   "execution_count": 4,
   "metadata": {},
   "outputs": [],
   "source": [
    "DATA_TRAIN_PATH = 'data/train.csv' \n",
    "y, tX, ids = load_csv_data(DATA_TRAIN_PATH)"
   ]
  },
  {
   "cell_type": "markdown",
   "metadata": {},
   "source": [
    "## 2. Data pre-processing\n",
    "\n",
    "Before any attempt to prediction, we perform some data cleaning (TODO) and preprocessing. We start by standardising our training dataset."
   ]
  },
  {
   "cell_type": "code",
   "execution_count": 6,
   "metadata": {},
   "outputs": [],
   "source": [
    "tx = standardise(tX)\n",
    "# TODO proof of success ?"
   ]
  },
  {
   "cell_type": "code",
   "execution_count": 13,
   "metadata": {},
   "outputs": [],
   "source": [
    "DER_deltaeta_jet_jet = 4\n",
    "DER_mass_jet_jet = 5\n",
    "DER_prodeta_jet_jet = 6\n",
    "DER_lep_eta_centrality = 13\n",
    "PRI_jet_subleading_pt = 26\n",
    "PRI_jet_subleading_eta = 27\n",
    "PRI_jet_subleading_phi = 28\n",
    "\n",
    "PRI_jet_leading_pt = 23\n",
    "PRI_jet_leading_eta = 24\n",
    "PRI_jet_leading_phi = 25\n",
    "\n",
    "PRI_jet_num = 22\n",
    "\n",
    "for ind, elem in enumerate(tX[:,PRI_jet_num]) :\n",
    "    if (elem == 0) :\n",
    "        for i in range(PRI_jet_leading_pt, PRI_jet_subleading_phi + 1) :\n",
    "            tx[ind, i] = 0\n",
    "        for j in range(DER_deltaeta_jet_jet, DER_prodeta_jet_jet + 1) :\n",
    "            tx[ind, j] = 0\n",
    "        tx[ind, DER_lep_eta_centrality] = 0\n",
    "    elif (elem == 1) :\n",
    "        for i in range(PRI_jet_subleading_pt, PRI_jet_subleading_phi + 1) :\n",
    "            tx[ind, i] = 0\n",
    "        for j in range(DER_deltaeta_jet_jet, DER_prodeta_jet_jet + 1) :\n",
    "            tx[ind, j] = 0\n",
    "        tx[ind, DER_lep_eta_centrality] = 0"
   ]
  },
  {
   "cell_type": "code",
   "execution_count": 14,
   "metadata": {},
   "outputs": [
    {
     "data": {
      "text/plain": [
       "(0.8323490057939371,\n",
       " 0.3465351983793157,\n",
       " 0.7434070945135122,\n",
       " 0.7432718923502777)"
      ]
     },
     "execution_count": 14,
     "metadata": {},
     "output_type": "execute_result"
    }
   ],
   "source": [
    "#### testing answer\n",
    "\n",
    "kwargs = {}\n",
    "kwargs['initial_w'] = np.random.rand(30)\n",
    "kwargs['max_iters'] = 50\n",
    "kwargs['gamma'] = 0.1\n",
    "kwargs['lambda_'] = 0.1\n",
    "kwargs['degree'] = 1\n",
    "\n",
    "cross_validation(y, tx, compute_accuracy, 'least_squares', k_fold=6, **kwargs)"
   ]
  },
  {
   "cell_type": "code",
   "execution_count": 15,
   "metadata": {},
   "outputs": [],
   "source": [
    "w, loss = reg_logistic_regression(y, tx, 0.1, np.random.rand(30), 50, 0.1)"
   ]
  },
  {
   "cell_type": "markdown",
   "metadata": {},
   "source": [
    "## 3. Classic ML methods\n",
    "\n",
    "The following predictions are made using the functions implemented during the course labs.\n",
    "\n",
    "### 3.1 Least Squares GD"
   ]
  },
  {
   "cell_type": "code",
   "execution_count": 16,
   "metadata": {},
   "outputs": [],
   "source": [
    "initial_w = np.random.rand(30)\n",
    "w, loss = least_squares_GD(y, tx, initial_w, 50, 0.1)"
   ]
  },
  {
   "cell_type": "markdown",
   "metadata": {},
   "source": [
    "## Generate predictions and save ouput in csv format for submission:"
   ]
  },
  {
   "cell_type": "code",
   "execution_count": 20,
   "metadata": {
    "collapsed": false,
    "jupyter": {
     "outputs_hidden": false
    }
   },
   "outputs": [],
   "source": [
    "DATA_TEST_PATH = 'data/test.csv'\n",
    "\n",
    "# TODO standardise test data when required\n",
    "_, tX_test, ids_test = load_csv_data(DATA_TEST_PATH)"
   ]
  },
  {
   "cell_type": "code",
   "execution_count": null,
   "metadata": {},
   "outputs": [],
   "source": [
    "tx_test = standardise(tX_test)"
   ]
  },
  {
   "cell_type": "code",
   "execution_count": 23,
   "metadata": {},
   "outputs": [],
   "source": [
    "for ind, elem in enumerate(tX_test[:,PRI_jet_num]) :\n",
    "    if (elem == 0) :\n",
    "        for i in range(PRI_jet_leading_pt, PRI_jet_subleading_phi + 1) :\n",
    "            tx_test[ind, i] = 0\n",
    "        for j in range(DER_deltaeta_jet_jet, DER_prodeta_jet_jet + 1) :\n",
    "            tx_test[ind, j] = 0\n",
    "    elif (elem == 1) :\n",
    "        for i in range(PRI_jet_subleading_pt, PRI_jet_subleading_phi + 1) :\n",
    "            tx_test[ind, i] = 0\n",
    "        for j in range(DER_deltaeta_jet_jet, DER_prodeta_jet_jet + 1) :\n",
    "            tx_test[ind, j] = 0"
   ]
  },
  {
   "cell_type": "code",
   "execution_count": 24,
   "metadata": {
    "collapsed": false,
    "jupyter": {
     "outputs_hidden": false
    }
   },
   "outputs": [],
   "source": [
    "OUTPUT_PATH = 'data/output.csv' # TODO: fill in desired name of output file for submission\n",
    "y_pred = predict_labels(w, tx_test) # Standardised test data\n",
    "create_csv_submission(ids_test, y_pred, OUTPUT_PATH)"
   ]
  },
  {
   "cell_type": "code",
   "execution_count": 25,
   "metadata": {},
   "outputs": [
    {
     "data": {
      "text/plain": [
       "0.707656"
      ]
     },
     "execution_count": 25,
     "metadata": {},
     "output_type": "execute_result"
    }
   ],
   "source": [
    "compute_accuracy(w, y, tx)"
   ]
  },
  {
   "cell_type": "code",
   "execution_count": null,
   "metadata": {},
   "outputs": [],
   "source": []
  }
 ],
 "metadata": {
  "anaconda-cloud": {},
  "kernelspec": {
   "display_name": "Python 3",
   "language": "python",
   "name": "python3"
  },
  "language_info": {
   "codemirror_mode": {
    "name": "ipython",
    "version": 3
   },
   "file_extension": ".py",
   "mimetype": "text/x-python",
   "name": "python",
   "nbconvert_exporter": "python",
   "pygments_lexer": "ipython3",
   "version": "3.8.5"
  }
 },
 "nbformat": 4,
 "nbformat_minor": 4
}
