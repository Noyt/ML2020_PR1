{
 "cells": [
  {
   "cell_type": "code",
   "execution_count": 2,
   "metadata": {},
   "outputs": [],
   "source": [
    "# Useful starting lines\n",
    "%matplotlib inline\n",
    "import numpy as np\n",
    "import matplotlib.pyplot as plt\n",
    "%load_ext autoreload\n",
    "%autoreload 2"
   ]
  },
  {
   "cell_type": "markdown",
   "metadata": {},
   "source": [
    "# EPFL Machine Learning Higgs"
   ]
  },
  {
   "cell_type": "markdown",
   "metadata": {},
   "source": [
    "This notebook presents our results for the EPFL Machine Learning Higgs Boson Challenge.\n",
    "We first apply all mandatory implementations from the project to the challenge, on raw unaltered data.\n",
    "\n",
    "In a second step, we use different techniques to better our prediction performance, namely on the Ridge Regression model that we choose as our baseline.\n",
    "\n",
    "Finaly, the last section of the notebook allows us to compute our prediction on the test set."
   ]
  },
  {
   "cell_type": "markdown",
   "metadata": {},
   "source": [
    "## 1. Load the training data into feature matrix, class labels, and event ids:"
   ]
  },
  {
   "cell_type": "code",
   "execution_count": 3,
   "metadata": {
    "collapsed": false,
    "jupyter": {
     "outputs_hidden": false
    }
   },
   "outputs": [],
   "source": [
    "from proj1_helpers import *\n",
    "from implementations import least_squares, least_squares_GD, least_squares_SGD, ridge_regression, logistic_regression, reg_logistic_regression\n",
    "from cross_validation import *\n",
    "from plots import *"
   ]
  },
  {
   "cell_type": "code",
   "execution_count": 4,
   "metadata": {},
   "outputs": [],
   "source": [
    "DATA_TRAIN_PATH = 'data/train.csv' \n",
    "y, tX, ids = load_csv_data(DATA_TRAIN_PATH)"
   ]
  },
  {
   "cell_type": "markdown",
   "metadata": {},
   "source": [
    "## 2. Classic ML methods without any data pre-processing\n",
    "\n",
    "The following predictions are made using the functions implemented during the course labs. The results serve as a baseline to compare with our future results and see weather there is improvement. The selected parameter where also randomly chosen.\n",
    "### 2.1 Least Squares GD"
   ]
  },
  {
   "cell_type": "code",
   "execution_count": 6,
   "metadata": {},
   "outputs": [
    {
     "name": "stdout",
     "output_type": "stream",
     "text": [
      "Mean training loss: 0.4182063027028858\n",
      "Mean testing loss: 0.4169221489890197\n",
      "Mean training accuracy: 0.6923906666666668\n",
      "Mean testing accuracy: 0.692396\n"
     ]
    }
   ],
   "source": [
    "kwargs = {}\n",
    "kwargs['max_iters'] = 10\n",
    "kwargs['gamma'] = 0.1\n",
    "\n",
    "loss_tr, loss_te, acc_tr, acc_te = cross_validation(y, tX, compute_accuracy, 'least_squares_GD', k_fold=4, **kwargs)\n",
    "display_cv_results(loss_tr, loss_te, acc_tr, acc_te)"
   ]
  },
  {
   "cell_type": "markdown",
   "metadata": {},
   "source": [
    "### 2.2 Least Squares SGD"
   ]
  },
  {
   "cell_type": "code",
   "execution_count": 7,
   "metadata": {},
   "outputs": [
    {
     "name": "stdout",
     "output_type": "stream",
     "text": [
      "Mean training loss: 0.4773664334545206\n",
      "Mean testing loss: 0.47676613351706765\n",
      "Mean training accuracy: 0.6456706666666666\n",
      "Mean testing accuracy: 0.645228\n"
     ]
    }
   ],
   "source": [
    "kwargs = {}\n",
    "kwargs['max_iters'] = 50\n",
    "kwargs['gamma'] = 0.001\n",
    "\n",
    "loss_tr, loss_te, acc_tr, acc_te = cross_validation(y, tX, compute_accuracy, 'least_squares_SGD', k_fold=4, **kwargs)\n",
    "display_cv_results(loss_tr, loss_te, acc_tr, acc_te)"
   ]
  },
  {
   "cell_type": "markdown",
   "metadata": {},
   "source": [
    "### 2.3 Least Squares, normal equations"
   ]
  },
  {
   "cell_type": "code",
   "execution_count": 23,
   "metadata": {},
   "outputs": [
    {
     "name": "stdout",
     "output_type": "stream",
     "text": [
      "Mean training loss: 0.3889363604714363\n",
      "Mean testing loss: 0.3890671452268004\n",
      "Mean training accuracy: 0.718468\n",
      "Mean testing accuracy: 0.7184320000000001\n"
     ]
    }
   ],
   "source": [
    "loss_tr, loss_te, acc_tr, acc_te = cross_validation(y, tX, compute_accuracy, 'least_squares', k_fold=4)\n",
    "display_cv_results(loss_tr, loss_te, acc_tr, acc_te)"
   ]
  },
  {
   "cell_type": "markdown",
   "metadata": {},
   "source": [
    "### 2.4 Ridge Regression"
   ]
  },
  {
   "cell_type": "code",
   "execution_count": 18,
   "metadata": {},
   "outputs": [
    {
     "name": "stdout",
     "output_type": "stream",
     "text": [
      "Mean training loss: 0.38952529781317496\n",
      "Mean testing loss: 0.38960983656413656\n",
      "Mean training accuracy: 0.7175986666666666\n",
      "Mean testing accuracy: 0.71742\n"
     ]
    }
   ],
   "source": [
    "kwargs = {}\n",
    "kwargs['lambda_'] = 0.001\n",
    "\n",
    "loss_tr, loss_te, acc_tr, acc_te = cross_validation(y, tX, compute_accuracy, 'ridge_regression', k_fold=4, **kwargs)\n",
    "display_cv_results(loss_tr, loss_te, acc_tr, acc_te)"
   ]
  },
  {
   "cell_type": "markdown",
   "metadata": {},
   "source": [
    "### 2.5 Logistic Regression"
   ]
  },
  {
   "cell_type": "code",
   "execution_count": 25,
   "metadata": {},
   "outputs": [
    {
     "name": "stdout",
     "output_type": "stream",
     "text": [
      "Mean training loss: 234959.56653122348\n",
      "Mean testing loss: 0.9902666664419358\n",
      "Mean training accuracy: 0.5839799999999999\n",
      "Mean testing accuracy: 0.584004\n"
     ]
    }
   ],
   "source": [
    "kwargs = {}\n",
    "kwargs['max_iters'] = 100\n",
    "kwargs['gamma'] = 0.00001\n",
    "\n",
    "# We modify the labels taking into account the fact that logistic regression returns 0 instead of -1\n",
    "y_log_reg = (y+1)/2\n",
    "\n",
    "loss_tr, loss_te, acc_tr, acc_te = cross_validation(y_log_reg, tX, compute_accuracy_log_reg, 'logistic_regression', k_fold=4, **kwargs)\n",
    "display_cv_results(loss_tr, loss_te, acc_tr, acc_te)"
   ]
  },
  {
   "cell_type": "markdown",
   "metadata": {},
   "source": [
    "### 2.6 Penalized Logistic Regression"
   ]
  },
  {
   "cell_type": "code",
   "execution_count": 26,
   "metadata": {},
   "outputs": [
    {
     "name": "stdout",
     "output_type": "stream",
     "text": [
      "Mean training loss: 206552.33215697762\n",
      "Mean testing loss: 0.9631777532401782\n",
      "Mean training accuracy: 0.5972013333333334\n",
      "Mean testing accuracy: 0.5970960000000001\n"
     ]
    }
   ],
   "source": [
    "kwargs = {}\n",
    "kwargs['max_iters'] = 1000\n",
    "kwargs['gamma'] = 0.00001\n",
    "kwargs['lambda_'] = 0.0001\n",
    "\n",
    "# We modify the labels taking into account the fact that logistic regression returns 0 instead of -1\n",
    "y_log_reg = (y+1)/2\n",
    "\n",
    "loss_tr, loss_te, acc_tr, acc_te = cross_validation(y_log_reg, tX, compute_accuracy_log_reg, 'reg_logistic_regression', k_fold=4, **kwargs)\n",
    "display_cv_results(loss_tr, loss_te, acc_tr, acc_te)"
   ]
  },
  {
   "cell_type": "markdown",
   "metadata": {},
   "source": [
    "## 3. Improving the baseline model\n",
    "\n",
    "We now try to perform different techniques to improve our prediction using ridge regression, and stack them along this notebook."
   ]
  },
  {
   "cell_type": "markdown",
   "metadata": {},
   "source": [
    "We recall that the raw model performance was 71.74% in terms of mean test accuracy."
   ]
  },
  {
   "cell_type": "markdown",
   "metadata": {},
   "source": [
    "#### 3.1 Data preprocessing"
   ]
  },
  {
   "cell_type": "markdown",
   "metadata": {},
   "source": [
    "We can see in the graphs below that the distribution of predictions based on DER_mass_MMC being -999 is basically the same as the one for values of DER_mass_MMC ranging from 60 to 80. We thus decide to replace those -999 values with uniformly distributed values in the range (60,80)."
   ]
  },
  {
   "cell_type": "code",
   "execution_count": 63,
   "metadata": {},
   "outputs": [
    {
     "data": {
      "text/plain": [
       "Text(0.5, 1.0, 'Distribution of predictions when DER_mass_MMC is between 60 and 80')"
      ]
     },
     "execution_count": 63,
     "metadata": {},
     "output_type": "execute_result"
    },
    {
     "data": {
      "image/png": "[encoded data removed]",
      "text/plain": [
       "<Figure size 1080x360 with 2 Axes>"
      ]
     },
     "metadata": {
      "needs_background": "light"
     },
     "output_type": "display_data"
    }
   ],
   "source": [
    "fig, (ax1, ax2) = plt.subplots(1, 2, figsize = (15, 5))\n",
    "ax1.hist(y[tX[:,0] == -999])\n",
    "ax1.set_title(\"Distribution of predicitons when DER_mass_MMC is at -999\")\n",
    "ax2.hist(y[(tX[:,0] < 80) & (tX[:,0] > 60)])\n",
    "ax2.set_title(\"Distribution of predictions when DER_mass_MMC is between 60 and 80\")"
   ]
  },
  {
   "cell_type": "code",
   "execution_count": 64,
   "metadata": {},
   "outputs": [],
   "source": [
    "# mass_abs changes every value of DER_mass_MMC being -999 to a value between 60 and 80 (uniformly).\n",
    "tx = mass_abs(tX)"
   ]
  },
  {
   "cell_type": "code",
   "execution_count": 65,
   "metadata": {},
   "outputs": [
    {
     "name": "stdout",
     "output_type": "stream",
     "text": [
      "Mean training loss: 0.38874759658721747\n",
      "Mean testing loss: 0.3888369260167947\n",
      "Mean training accuracy: 0.7175546666666667\n",
      "Mean testing accuracy: 0.71766\n"
     ]
    }
   ],
   "source": [
    "kwargs = {}\n",
    "kwargs['lambda_'] = 0.001\n",
    "\n",
    "loss_tr, loss_te, acc_tr, acc_te = cross_validation(y, tx, compute_accuracy, 'ridge_regression', k_fold=4, **kwargs)\n",
    "display_cv_results(loss_tr, loss_te, acc_tr, acc_te)"
   ]
  },
  {
   "cell_type": "markdown",
   "metadata": {},
   "source": [
    "Our testing accuracy increases by 0.02 percentage point."
   ]
  },
  {
   "cell_type": "markdown",
   "metadata": {},
   "source": [
    "We also take a look at some distributions of our features. We can see below that for the columns PRI_tau_phi, PRI_lep_phi, and PRI_met_phi the distribution is uniform wether it is a signal or a background noise. Thus those columns are not giving us any information on the prediction, we can therefore delete them from our training data."
   ]
  },
  {
   "cell_type": "code",
   "execution_count": 66,
   "metadata": {},
   "outputs": [
    {
     "data": {
      "text/plain": [
       "(array([4278., 4283., 4247., 4250., 4131., 4195., 4211., 4484., 4226.,\n",
       "        4289., 4322., 4240., 4407., 4341., 4240., 4321., 4334., 4370.,\n",
       "        4306., 4192.]),\n",
       " array([-3.142 , -2.8278, -2.5136, -2.1994, -1.8852, -1.571 , -1.2568,\n",
       "        -0.9426, -0.6284, -0.3142,  0.    ,  0.3142,  0.6284,  0.9426,\n",
       "         1.2568,  1.571 ,  1.8852,  2.1994,  2.5136,  2.8278,  3.142 ]),\n",
       " <BarContainer object of 20 artists>)"
      ]
     },
     "execution_count": 66,
     "metadata": {},
     "output_type": "execute_result"
    },
    {
     "data": {
      "image/png": "[encoded data removed]",
      "text/plain": [
       "<Figure size 720x720 with 6 Axes>"
      ]
     },
     "metadata": {
      "needs_background": "light"
     },
     "output_type": "display_data"
    }
   ],
   "source": [
    "fig, axes = plt.subplots(3, 2, figsize = (10, 10))\n",
    "axes[0, 0].hist(tx[y == -1, 15], bins = 20, color = 'red')\n",
    "axes[0, 0].set_title(\"Background\")\n",
    "axes[0, 0].set_ylabel(\"PRI_tau_phi\")\n",
    "axes[0, 1].hist(tx[y == 1, 15], bins = 20)\n",
    "axes[0, 1].set_title(\"Signal\")\n",
    "axes[1, 0].hist(tx[y == -1, 18], bins = 20, color = 'red')\n",
    "axes[1, 0].set_ylabel(\"PRI_lep_phi\")\n",
    "axes[1, 1].hist(tx[y == 1, 18], bins = 20)\n",
    "axes[2, 0].hist(tx[y == -1, 20], bins = 20, color = 'red')\n",
    "axes[2, 0].set_ylabel(\"PRI_met_phi\")\n",
    "axes[2, 1].hist(tx[y == 1, 20], bins = 20)"
   ]
  },
  {
   "cell_type": "code",
   "execution_count": 67,
   "metadata": {},
   "outputs": [],
   "source": [
    "# Removing the columns\n",
    "tx = np.delete(tx, [15, 18, 20], axis = 1)"
   ]
  },
  {
   "cell_type": "code",
   "execution_count": 68,
   "metadata": {},
   "outputs": [
    {
     "name": "stdout",
     "output_type": "stream",
     "text": [
      "Mean training loss: 0.38875341931828106\n",
      "Mean testing loss: 0.38883637617685646\n",
      "Mean training accuracy: 0.7175239999999999\n",
      "Mean testing accuracy: 0.717576\n"
     ]
    }
   ],
   "source": [
    "kwargs = {}\n",
    "kwargs['lambda_'] = 0.001\n",
    "\n",
    "loss_tr, loss_te, acc_tr, acc_te = cross_validation(y, tx, compute_accuracy, 'ridge_regression', k_fold=4, **kwargs)\n",
    "display_cv_results(loss_tr, loss_te, acc_tr, acc_te)"
   ]
  },
  {
   "cell_type": "markdown",
   "metadata": {},
   "source": [
    "Our accuracy very slightly decreases but we believe it to be an acceptable loss for some feature space reduction."
   ]
  },
  {
   "cell_type": "markdown",
   "metadata": {},
   "source": [
    "#### 3.2 Adding an offset term"
   ]
  },
  {
   "cell_type": "markdown",
   "metadata": {},
   "source": [
    "We start off by adding an offset term to our regression, thus giving our problem one extra dimension and reaching D = 28."
   ]
  },
  {
   "cell_type": "code",
   "execution_count": 69,
   "metadata": {},
   "outputs": [
    {
     "name": "stdout",
     "output_type": "stream",
     "text": [
      "Mean training loss: 0.3392455361057327\n",
      "Mean testing loss: 0.33933707908224686\n",
      "Mean training accuracy: 0.745392\n",
      "Mean testing accuracy: 0.745404\n"
     ]
    }
   ],
   "source": [
    "kwargs = {}\n",
    "kwargs['lambda_'] = 0.001\n",
    "\n",
    "loss_tr, loss_te, acc_tr, acc_te = cross_validation(y, tx, compute_accuracy, 'ridge_regression', k_fold=4, add_offset=True, **kwargs)\n",
    "display_cv_results(loss_tr, loss_te, acc_tr, acc_te)"
   ]
  },
  {
   "cell_type": "markdown",
   "metadata": {},
   "source": [
    " Adding an offset term proves to be succesful operation, improving our performance by roughly 2.79 percentage points."
   ]
  },
  {
   "cell_type": "markdown",
   "metadata": {},
   "source": [
    "#### 3.3 Polynomial extension\n",
    "\n",
    "As a second technique, we decide to conduct a polynomial extension of our features. We take the square of each of our selected features, thus leading to D = 55 dimension space (27 * 2 + 1)."
   ]
  },
  {
   "cell_type": "code",
   "execution_count": 70,
   "metadata": {},
   "outputs": [
    {
     "name": "stdout",
     "output_type": "stream",
     "text": [
      "Mean training loss: 0.3017414859312622\n",
      "Mean testing loss: 0.33592664456089477\n",
      "Mean training accuracy: 0.7912786666666667\n",
      "Mean testing accuracy: 0.7912359999999999\n"
     ]
    }
   ],
   "source": [
    "kwargs = {}\n",
    "kwargs['lambda_'] = 0.001\n",
    "\n",
    "loss_tr, loss_te, acc_tr, acc_te = cross_validation(y, tx, compute_accuracy, 'ridge_regression', k_fold=4, degree=2, add_offset=True, **kwargs)\n",
    "display_cv_results(loss_tr, loss_te, acc_tr, acc_te)"
   ]
  },
  {
   "cell_type": "markdown",
   "metadata": {},
   "source": [
    "Once again, the performance increases, by roughly 4.58 percentage points."
   ]
  },
  {
   "cell_type": "markdown",
   "metadata": {},
   "source": [
    "#### 3.4 Hyper-parameter search\n",
    "\n",
    "Our model now has two different hyper-parameter: the degree of the polynomial extension, and the regularisation parameter lambda. We conduct a double hyper-parameter grid search, and select the best performing pair in terms of mean testing accuracy over all testing folds."
   ]
  },
  {
   "cell_type": "code",
   "execution_count": 28,
   "metadata": {},
   "outputs": [
    {
     "name": "stdout",
     "output_type": "stream",
     "text": [
      "Best degree: 9\n",
      "Best lambda: 1.389495494373136e-10\n"
     ]
    },
    {
     "data": {
      "image/png": "[encoded data removed]",
      "text/plain": [
       "<Figure size 1080x720 with 9 Axes>"
      ]
     },
     "metadata": {
      "needs_background": "light"
     },
     "output_type": "display_data"
    }
   ],
   "source": [
    "max_degree = 11\n",
    "degree_space = range(3, max_degree + 1)\n",
    "lambda_space = np.logspace(-15, -3, 15)\n",
    "best_degree, best_lambda = cross_validation_degree_and_param_search(y, tx, param_name='lambda_',\n",
    "                                                                    degree_space=degree_space,\n",
    "                                                                    param_space=lambda_space,\n",
    "                                                                    metric=compute_accuracy,\n",
    "                                                                    learning_model='ridge_regression',\n",
    "                                                                    add_offset=True,\n",
    "                                                                    k_fold=4)\n",
    "print('Best degree: {}'.format(best_degree))\n",
    "print('Best lambda: {}'.format(best_lambda))"
   ]
  },
  {
   "cell_type": "code",
   "execution_count": 72,
   "metadata": {},
   "outputs": [
    {
     "name": "stdout",
     "output_type": "stream",
     "text": [
      "Mean training loss: 0.2714370317905046\n",
      "Mean testing loss: 6.9911816972656296e+16\n",
      "Mean training accuracy: 0.81646\n",
      "Mean testing accuracy: 0.815952\n"
     ]
    }
   ],
   "source": [
    "kwargs = {}\n",
    "kwargs['lambda_'] = best_lambda\n",
    "\n",
    "loss_tr, loss_te, acc_tr, acc_te = cross_validation(y, tx, compute_accuracy, 'ridge_regression', k_fold=4, degree=best_degree, add_offset=True, **kwargs)\n",
    "display_cv_results(loss_tr, loss_te, acc_tr, acc_te)"
   ]
  },
  {
   "cell_type": "markdown",
   "metadata": {},
   "source": [
    "The returned pair is degree = 9 and lambda roughly equal to 1.38e-10. Using these values we indeed obtain a better performance, now reaching 81.59% accuracy, which is roughly a 2.47 percentage point increase.\n",
    "We also notice that paradoxaly, the testing loss has exploded. Nonetheless, this kind of behavior can happen when using MSE which is the case here in the ridge regression."
   ]
  },
  {
   "cell_type": "markdown",
   "metadata": {},
   "source": [
    "## Generate predictions and save ouput in csv format for submission:"
   ]
  },
  {
   "cell_type": "code",
   "execution_count": 119,
   "metadata": {
    "collapsed": false,
    "jupyter": {
     "outputs_hidden": false
    }
   },
   "outputs": [],
   "source": [
    "DATA_TEST_PATH = 'data/test.csv'\n",
    "\n",
    "_, tX_test, ids_test = load_csv_data(DATA_TEST_PATH)"
   ]
  },
  {
   "cell_type": "code",
   "execution_count": 224,
   "metadata": {
    "collapsed": false,
    "jupyter": {
     "outputs_hidden": false
    }
   },
   "outputs": [],
   "source": [
    "OUTPUT_PATH = 'data/output.csv'\n",
    "y_pred = predict_labels(w, tx_test_poly)\n",
    "create_csv_submission(ids_test, y_pred, OUTPUT_PATH)"
   ]
  }
 ],
 "metadata": {
  "anaconda-cloud": {},
  "kernelspec": {
   "display_name": "Python 3",
   "language": "python",
   "name": "python3"
  },
  "language_info": {
   "codemirror_mode": {
    "name": "ipython",
    "version": 3
   },
   "file_extension": ".py",
   "mimetype": "text/x-python",
   "name": "python",
   "nbconvert_exporter": "python",
   "pygments_lexer": "ipython3",
   "version": "3.7.4"
  }
 },
 "nbformat": 4,
 "nbformat_minor": 4
}
