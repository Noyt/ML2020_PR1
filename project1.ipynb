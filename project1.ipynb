{
 "cells": [
  {
   "cell_type": "code",
   "execution_count": 69,
   "metadata": {},
   "outputs": [
    {
     "name": "stdout",
     "output_type": "stream",
     "text": [
      "The autoreload extension is already loaded. To reload it, use:\n",
      "  %reload_ext autoreload\n"
     ]
    }
   ],
   "source": [
    "# Useful starting lines\n",
    "%matplotlib inline\n",
    "import numpy as np\n",
    "import matplotlib.pyplot as plt\n",
    "%load_ext autoreload\n",
    "%autoreload 2"
   ]
  },
  {
   "cell_type": "markdown",
   "metadata": {},
   "source": [
    "# EPFL Machine Learning Higgs"
   ]
  },
  {
   "cell_type": "markdown",
   "metadata": {},
   "source": [
    "TODO description"
   ]
  },
  {
   "cell_type": "markdown",
   "metadata": {},
   "source": [
    "## 1. Load the training data into feature matrix, class labels, and event ids:"
   ]
  },
  {
   "cell_type": "code",
   "execution_count": 84,
   "metadata": {
    "collapsed": false,
    "jupyter": {
     "outputs_hidden": false
    }
   },
   "outputs": [],
   "source": [
    "from proj1_helpers import *\n",
    "from implementations import *\n",
    "from cross_validation import *\n",
    "from plots import *"
   ]
  },
  {
   "cell_type": "code",
   "execution_count": 140,
   "metadata": {},
   "outputs": [],
   "source": [
    "DATA_TRAIN_PATH = 'data/train.csv' \n",
    "y, tX, ids = load_csv_data(DATA_TRAIN_PATH)"
   ]
  },
  {
   "cell_type": "markdown",
   "metadata": {},
   "source": [
    "## 2. Data pre-processing\n",
    "\n",
    "Before any attempt to prediction, we perform some data cleaning (TODO) and preprocessing. We start by standardising our training dataset."
   ]
  },
  {
   "cell_type": "code",
   "execution_count": 182,
   "metadata": {},
   "outputs": [
    {
     "data": {
      "text/plain": [
       "array([[ 1.        , -0.55307334,  0.06833197, ...,  1.5668    ,\n",
       "         1.55858439,  0.4125105 ],\n",
       "       [ 1.        , -0.37413543,  0.55250482, ..., -0.63936657,\n",
       "        -0.63936694, -0.27381996],\n",
       "       [ 1.        , -0.19618844,  3.19515553, ..., -0.63936657,\n",
       "        -0.63936694, -0.29396985],\n",
       "       ...,\n",
       "       [ 1.        , -0.50470507,  0.31931645, ..., -0.63936657,\n",
       "        -0.63936694, -0.31701723],\n",
       "       [ 1.        , -0.42103027, -0.84532397, ..., -0.63936657,\n",
       "        -0.63936694, -0.74543941],\n",
       "       [ 1.        ,  2.31835956,  0.66533608, ..., -0.63936657,\n",
       "        -0.63936694, -0.74543941]])"
      ]
     },
     "execution_count": 182,
     "metadata": {},
     "output_type": "execute_result"
    }
   ],
   "source": [
    "mass_abs(tX)\n",
    "tx = standardise(tX)\n",
    "tx_phi = np.delete(tx, [15, 18, 20], axis = 1) \n",
    "tx_phi = np.c_[np.ones(len(tx[:,0])), tx_phi]\n",
    "tx = np.c_[np.ones(len(tx[:,0])), tx]\n",
    "# add constant term\n",
    "nb_features=tx_phi.shape[1]\n",
    "tx_phi"
   ]
  },
  {
   "cell_type": "code",
   "execution_count": 92,
   "metadata": {},
   "outputs": [
    {
     "name": "stdout",
     "output_type": "stream",
     "text": [
      "Acc pour non standardisé:  0.743824 \n",
      "Acc pour standardisé:  0.802576 \n"
     ]
    }
   ],
   "source": [
    "w, loss = least_squares(y, tX)\n",
    "print('Acc pour non standardisé:  {} '.format(compute_accuracy(w, y, tX)))\n",
    "      \n",
    "w, loss = least_squares(y, tx)\n",
    "print('Acc pour standardisé:  {} '.format(compute_accuracy(w, y, tx)))"
   ]
  },
  {
   "cell_type": "code",
   "execution_count": 13,
   "metadata": {},
   "outputs": [
    {
     "name": "stderr",
     "output_type": "stream",
     "text": [
      "C:\\Users\\Quent\\Desktop\\epfl\\MA1\\ML2020_PR1\\proj1_helpers.py:117: RuntimeWarning: overflow encountered in exp\n",
      "  ret = 1 / (1 + np.exp(-t))\n"
     ]
    }
   ],
   "source": [
    "w, loss = reg_logistic_regression(y, tx, lambda_=1, initial_w=np.random.rand(31), max_iters=50, gamma=0.1)"
   ]
  },
  {
   "cell_type": "markdown",
   "metadata": {},
   "source": [
    "## 3. Classic ML methods\n",
    "\n",
    "The following predictions are made using the functions implemented during the course labs.\n",
    "\n",
    "### 3.1 Least Squares GD"
   ]
  },
  {
   "cell_type": "code",
   "execution_count": 14,
   "metadata": {},
   "outputs": [
    {
     "data": {
      "text/plain": [
       "(0.3840927936742401, 0.38346733881877104, 0.719792, 0.7197399999999999)"
      ]
     },
     "execution_count": 14,
     "metadata": {},
     "output_type": "execute_result"
    }
   ],
   "source": [
    "#### testing answer\n",
    "\n",
    "kwargs = {}\n",
    "kwargs['initial_w'] = np.zeros(nb_features)\n",
    "kwargs['max_iters'] = 50\n",
    "kwargs['gamma'] = 0.1\n",
    "\n",
    "cross_validation(y, tx, compute_accuracy, 'least_squares_GD', k_fold=4, **kwargs)"
   ]
  },
  {
   "cell_type": "markdown",
   "metadata": {},
   "source": [
    "### 3.2 Least Squares SGD"
   ]
  },
  {
   "cell_type": "code",
   "execution_count": 15,
   "metadata": {},
   "outputs": [
    {
     "data": {
      "text/plain": [
       "(0.4866065983808383,\n",
       " 0.48606778272726825,\n",
       " 0.6609613333333333,\n",
       " 0.6613680000000001)"
      ]
     },
     "execution_count": 15,
     "metadata": {},
     "output_type": "execute_result"
    }
   ],
   "source": [
    "#### testing answer\n",
    "\n",
    "kwargs = {}\n",
    "kwargs['initial_w'] = np.zeros(nb_features)\n",
    "kwargs['max_iters'] = 50\n",
    "kwargs['gamma'] = 0.001\n",
    "\n",
    "cross_validation(y, tx, compute_accuracy, 'least_squares_SGD', k_fold=4, **kwargs)"
   ]
  },
  {
   "cell_type": "markdown",
   "metadata": {},
   "source": [
    "### 3.3 Least Squares, normal equations"
   ]
  },
  {
   "cell_type": "code",
   "execution_count": 185,
   "metadata": {},
   "outputs": [
    {
     "data": {
      "text/plain": [
       "(0.3361888547754073,\n",
       " 0.33634642364426875,\n",
       " 0.7509053333333333,\n",
       " 0.7505959999999999)"
      ]
     },
     "execution_count": 185,
     "metadata": {},
     "output_type": "execute_result"
    }
   ],
   "source": [
    "#### testing answer\n",
    "\n",
    "cross_validation(y, tx, compute_accuracy, 'least_squares', k_fold=4)"
   ]
  },
  {
   "cell_type": "markdown",
   "metadata": {},
   "source": [
    "### 3.4 Ridge Regression"
   ]
  },
  {
   "cell_type": "markdown",
   "metadata": {},
   "source": [
    "#### 3.4.1 Algorithm"
   ]
  },
  {
   "cell_type": "code",
   "execution_count": 151,
   "metadata": {},
   "outputs": [
    {
     "data": {
      "text/plain": [
       "(0.29629194875902504, 0.3369990346274388, 0.799088, 0.79906)"
      ]
     },
     "execution_count": 151,
     "metadata": {},
     "output_type": "execute_result"
    }
   ],
   "source": [
    "# Method parameters\n",
    "kwargs = {}\n",
    "kwargs['lambda_'] = 0.00011\n",
    "\n",
    "cross_validation(y, tx, compute_accuracy, 'ridge_regression', k_fold=4, degree = 2, **kwargs)"
   ]
  },
  {
   "cell_type": "markdown",
   "metadata": {},
   "source": [
    "#### 3.4.2 Hyperparameter search: lambda\n",
    "\n",
    "In order to improve our performance, we run an hyperparameter search on the regularisation parameter lambda."
   ]
  },
  {
   "cell_type": "code",
   "execution_count": 125,
   "metadata": {},
   "outputs": [
    {
     "data": {
      "text/plain": [
       "1e-06"
      ]
     },
     "execution_count": 125,
     "metadata": {},
     "output_type": "execute_result"
    },
    {
     "data": {
      "image/png": "[encoded data removed]",
      "text/plain": [
       "<Figure size 720x504 with 2 Axes>"
      ]
     },
     "metadata": {
      "needs_background": "light"
     },
     "output_type": "display_data"
    }
   ],
   "source": [
    "lambda_space = np.logspace(-6, -1, 15)\n",
    "best_lambda = cross_validation_hyper_search(y, tx, 'lambda_', lambda_space , compute_accuracy, 'ridge_regression', 4, **kwargs)\n",
    "best_lambda # TODO il essaie clairement de mettre lambda à 0"
   ]
  },
  {
   "cell_type": "markdown",
   "metadata": {},
   "source": [
    "#### 3.4.3 Hyperparameter search : degree"
   ]
  },
  {
   "cell_type": "code",
   "execution_count": 189,
   "metadata": {},
   "outputs": [
    {
     "data": {
      "image/png": "[encoded data removed]",
      "text/plain": [
       "<Figure size 720x504 with 2 Axes>"
      ]
     },
     "metadata": {
      "needs_background": "light"
     },
     "output_type": "display_data"
    }
   ],
   "source": [
    "kwargs = {}\n",
    "kwargs['lambda_'] = 0.00011\n",
    "\n",
    "degree_max = 7\n",
    "search_space = range(1, degree_max + 1)\n",
    "loss_tr = []\n",
    "loss_te = []\n",
    "acc_tr = []\n",
    "acc_te = []\n",
    "\n",
    "for i in search_space :\n",
    "    l_tr, l_te, a_tr, a_te = cross_validation(y, tx_phi, compute_accuracy, 'ridge_regression', k_fold=4, degree = i, **kwargs)\n",
    "    loss_tr.append(l_tr)\n",
    "    loss_te.append(l_te)\n",
    "    acc_tr.append(a_tr)\n",
    "    acc_te.append(a_te)\n",
    "    \n",
    "fig, axes = plt.subplots(2, 1, figsize=(10,7), sharex=True, sharey=False)\n",
    "cross_validation_visualization_loss(search_space, loss_tr, loss_te, 'degree', axes[0])\n",
    "cross_validation_visualization_metric(search_space, acc_tr, acc_te, 'degree', 'accuracy', axes[1])"
   ]
  },
  {
   "cell_type": "code",
   "execution_count": 159,
   "metadata": {},
   "outputs": [
    {
     "data": {
      "text/plain": [
       "(91,)"
      ]
     },
     "execution_count": 159,
     "metadata": {},
     "output_type": "execute_result"
    }
   ],
   "source": [
    "lambda_ = 0.00011\n",
    "poly = build_poly(tx, 3)\n",
    "poly = np.c_[np.ones(len(poly[:,0])), poly]\n",
    "w, loss = ridge_regression(y, poly, lambda_)\n",
    "w.shape"
   ]
  },
  {
   "cell_type": "markdown",
   "metadata": {},
   "source": [
    "### 3.5 Logistic Regression"
   ]
  },
  {
   "cell_type": "code",
   "execution_count": 44,
   "metadata": {},
   "outputs": [
    {
     "name": "stdout",
     "output_type": "stream",
     "text": [
      "Current iteration=0, loss=173286.79513998624\n",
      "Current iteration=100, loss=458448.90034008765\n",
      "Current iteration=200, loss=350182.44580717006\n",
      "Current iteration=300, loss=1739912.3808360258\n",
      "Current iteration=400, loss=1214708.4361418542\n",
      "Current iteration=500, loss=1170504.1695809157\n",
      "Current iteration=600, loss=1148485.5947754313\n",
      "Current iteration=700, loss=1131327.1948510795\n",
      "Current iteration=800, loss=1116727.943917157\n",
      "Current iteration=900, loss=1104035.1369920387\n"
     ]
    },
    {
     "data": {
      "text/plain": [
       "0.710632"
      ]
     },
     "execution_count": 44,
     "metadata": {},
     "output_type": "execute_result"
    }
   ],
   "source": [
    "y_log_reg = (y+1)/2\n",
    "w, loss = logistic_regression(y_log_reg, tx, np.zeros(nb_features), 1000, 0.0001)\n",
    "compute_accuracy_log_reg(w, y_log_reg, tx)"
   ]
  },
  {
   "cell_type": "code",
   "execution_count": 94,
   "metadata": {},
   "outputs": [
    {
     "name": "stdout",
     "output_type": "stream",
     "text": [
      "Current iteration=0, loss=0.6931471805599453\n",
      "Current iteration=100, loss=0.6290366984070628\n",
      "Current iteration=200, loss=0.6166129028690555\n",
      "Current iteration=300, loss=0.609859713455247\n",
      "Current iteration=400, loss=0.6048446919081252\n",
      "Current iteration=500, loss=0.6006955615550001\n",
      "Current iteration=600, loss=0.5971396475854284\n",
      "Current iteration=700, loss=0.5940475347180398\n",
      "Current iteration=800, loss=0.5913357523323521\n",
      "Current iteration=900, loss=0.5889421881476126\n",
      "Current iteration=1000, loss=0.5868178792306471\n",
      "Current iteration=0, loss=0.6931471805599453\n",
      "Current iteration=100, loss=0.6281768243737099\n",
      "Current iteration=200, loss=0.6157393624628538\n",
      "Current iteration=300, loss=0.6089602968645902\n",
      "Current iteration=400, loss=0.6039162941746207\n",
      "Current iteration=500, loss=0.5997373188294972\n",
      "Current iteration=600, loss=0.5961521113346672\n",
      "Current iteration=700, loss=0.5930321786107898\n",
      "Current iteration=800, loss=0.5902945349639491\n",
      "Current iteration=900, loss=0.5878772521930494\n",
      "Current iteration=1000, loss=0.5857313735808486\n",
      "Current iteration=0, loss=0.6931471805599453\n",
      "Current iteration=100, loss=0.6284998947112669\n",
      "Current iteration=200, loss=0.6161004046242897\n",
      "Current iteration=300, loss=0.6093740126827899\n",
      "Current iteration=400, loss=0.6043779249809655\n",
      "Current iteration=500, loss=0.6002411640708697\n",
      "Current iteration=600, loss=0.5966931663368896\n",
      "Current iteration=700, loss=0.5936060925994449\n",
      "Current iteration=800, loss=0.5908975068144466\n",
      "Current iteration=900, loss=0.5885059564506856\n",
      "Current iteration=1000, loss=0.5863828998998302\n",
      "Current iteration=0, loss=0.6931471805599453\n",
      "Current iteration=100, loss=0.6281418908438104\n",
      "Current iteration=200, loss=0.6156128989454923\n",
      "Current iteration=300, loss=0.6087826774480792\n",
      "Current iteration=400, loss=0.6037028177978914\n",
      "Current iteration=500, loss=0.5994969119795571\n",
      "Current iteration=600, loss=0.5958909276879412\n",
      "Current iteration=700, loss=0.5927547338909208\n",
      "Current iteration=800, loss=0.590004263780234\n",
      "Current iteration=900, loss=0.5875768370508756\n",
      "Current iteration=1000, loss=0.5854229524874643\n"
     ]
    },
    {
     "data": {
      "text/plain": [
       "(0.5860887762996976, 0.5861019922160302, 0.6830013333333333, 0.68296)"
      ]
     },
     "execution_count": 94,
     "metadata": {},
     "output_type": "execute_result"
    }
   ],
   "source": [
    "#### testing answer\n",
    "\n",
    "kwargs = {}\n",
    "kwargs['initial_w'] = np.zeros(nb_features)\n",
    "kwargs['max_iters'] = 1001\n",
    "kwargs['gamma'] = 0.00001\n",
    "\n",
    "cross_validation(y_log_reg, tx, compute_accuracy_log_reg, 'logistic_regression', k_fold=4, **kwargs)"
   ]
  },
  {
   "cell_type": "markdown",
   "metadata": {},
   "source": [
    "### 3.6 Penalized Logistic Regression"
   ]
  },
  {
   "cell_type": "markdown",
   "metadata": {},
   "source": [
    "#### 3.6.1 Algorithm"
   ]
  },
  {
   "cell_type": "code",
   "execution_count": 173,
   "metadata": {},
   "outputs": [
    {
     "name": "stderr",
     "output_type": "stream",
     "text": [
      "C:\\Users\\Quent\\Desktop\\epfl\\MA1\\ML2020_PR1\\proj1_helpers.py:167: RuntimeWarning: overflow encountered in exp\n",
      "  return np.clip(ret, 10**(-10), 1 - 10**(-10))\n"
     ]
    },
    {
     "data": {
      "text/plain": [
       "(33.803057455746405, 7.012036712531228, 0.6892133333333335, 0.6891879999999999)"
      ]
     },
     "execution_count": 173,
     "metadata": {},
     "output_type": "execute_result"
    }
   ],
   "source": [
    "#### testing answer\n",
    "\n",
    "kwargs = {}\n",
    "kwargs['initial_w'] = np.zeros(nb_features * 2 - 1)\n",
    "kwargs['max_iters'] = 500\n",
    "kwargs['gamma'] = 0.001\n",
    "kwargs['lambda_'] = 0.01\n",
    "kwargs['norm'] = 'l1'\n",
    "\n",
    "y_log_reg = (y+1)/2\n",
    "\n",
    "cross_validation(y_log_reg, tx, compute_accuracy_log_reg, 'reg_logistic_regression', k_fold=4, degree = 2, **kwargs)"
   ]
  },
  {
   "cell_type": "code",
   "execution_count": 171,
   "metadata": {},
   "outputs": [
    {
     "data": {
      "text/plain": [
       "(10.25285555006258, 7.362796225974467, 0.65882, 0.658888)"
      ]
     },
     "execution_count": 171,
     "metadata": {},
     "output_type": "execute_result"
    }
   ],
   "source": [
    "kwargs['initial_w'] = np.zeros(nb_features)\n",
    "kwargs['norm'] = 'l2'\n",
    "\n",
    "cross_validation(y_log_reg, tx, compute_accuracy_log_reg, 'reg_logistic_regression', k_fold=4, **kwargs)"
   ]
  },
  {
   "cell_type": "markdown",
   "metadata": {},
   "source": [
    "#### 3.6.2 Hyperparameter search: lambda\n",
    "\n",
    "In order to improve our performance, we run an hyperparameter search on the regularisation parameter lambda."
   ]
  },
  {
   "cell_type": "code",
   "execution_count": null,
   "metadata": {},
   "outputs": [],
   "source": [
    "poly_tx = build_poly(tx_phi, 2)\n",
    "\n",
    "kwargs['initial_w'] = np.zeros(nb_features * 2 - 1)\n",
    "kwargs['max_iters'] = 50\n",
    "kwargs['gamma'] = 0.000001\n",
    "kwargs['norm'] = 'l2'\n",
    "lambda_space = np.logspace(-5, -1.1, 15)\n",
    "best_lambda = cross_validation_hyper_search(y_log_reg, poly_tx, 'lambda_', lambda_space , compute_accuracy_log_reg, 'reg_logistic_regression', 4, **kwargs)\n",
    "best_lambda "
   ]
  },
  {
   "cell_type": "code",
   "execution_count": 198,
   "metadata": {},
   "outputs": [
    {
     "name": "stderr",
     "output_type": "stream",
     "text": [
      "C:\\Users\\Quent\\Desktop\\epfl\\MA1\\ML2020_PR1\\proj1_helpers.py:128: RuntimeWarning: overflow encountered in exp\n",
      "  for i in range(tx.shape[1]) :\n"
     ]
    },
    {
     "data": {
      "text/plain": [
       "1.584893192461114e-06"
      ]
     },
     "execution_count": 198,
     "metadata": {},
     "output_type": "execute_result"
    },
    {
     "data": {
      "image/png": "[encoded data removed]",
      "text/plain": [
       "<Figure size 720x504 with 2 Axes>"
      ]
     },
     "metadata": {
      "needs_background": "light"
     },
     "output_type": "display_data"
    }
   ],
   "source": [
    "kwargs['initial_w'] = np.zeros(nb_features * 2 - 1)\n",
    "kwargs['max_iters'] = 50\n",
    "kwargs['lambda'] = best_lambda\n",
    "gamma_space = np.logspace(-7, -1, 16)\n",
    "best_gamma = cross_validation_hyper_search(y_log_reg, poly_tx, 'gamma', gamma_space , compute_accuracy_log_reg, 'reg_logistic_regression', 4, **kwargs)\n",
    "best_gamma"
   ]
  },
  {
   "cell_type": "markdown",
   "metadata": {},
   "source": [
    "## Generate predictions and save ouput in csv format for submission:"
   ]
  },
  {
   "cell_type": "code",
   "execution_count": 155,
   "metadata": {
    "collapsed": false,
    "jupyter": {
     "outputs_hidden": false
    }
   },
   "outputs": [],
   "source": [
    "DATA_TEST_PATH = 'data/test.csv'\n",
    "\n",
    "# TODO standardise test data when required\n",
    "_, tX_test, ids_test = load_csv_data(DATA_TEST_PATH)"
   ]
  },
  {
   "cell_type": "code",
   "execution_count": 160,
   "metadata": {},
   "outputs": [
    {
     "data": {
      "text/plain": [
       "(568238, 91)"
      ]
     },
     "execution_count": 160,
     "metadata": {},
     "output_type": "execute_result"
    }
   ],
   "source": [
    "mass_abs(tX_test)\n",
    "tx_test = standardise(tX_test)\n",
    "tx_test_poly = build_poly(tx_test, 3)\n",
    "tx_test_poly = np.c_[np.ones(len(tx_test_poly[:,0])), tx_test_poly]\n",
    "tx_test_poly.shape"
   ]
  },
  {
   "cell_type": "code",
   "execution_count": 161,
   "metadata": {
    "collapsed": false,
    "jupyter": {
     "outputs_hidden": false
    }
   },
   "outputs": [],
   "source": [
    "OUTPUT_PATH = 'data/output.csv' # TODO: fill in desired name of output file for submission\n",
    "y_pred = predict_labels(w, tx_test_poly)\n",
    "create_csv_submission(ids_test, y_pred, OUTPUT_PATH)"
   ]
  },
  {
   "cell_type": "code",
   "execution_count": 61,
   "metadata": {},
   "outputs": [
    {
     "data": {
      "text/plain": [
       "0.74178"
      ]
     },
     "execution_count": 61,
     "metadata": {},
     "output_type": "execute_result"
    }
   ],
   "source": [
    "compute_accuracy(w, y, tx)"
   ]
  },
  {
   "cell_type": "code",
   "execution_count": null,
   "metadata": {},
   "outputs": [],
   "source": []
  }
 ],
 "metadata": {
  "anaconda-cloud": {},
  "kernelspec": {
   "display_name": "Python 3",
   "language": "python",
   "name": "python3"
  },
  "language_info": {
   "codemirror_mode": {
    "name": "ipython",
    "version": 3
   },
   "file_extension": ".py",
   "mimetype": "text/x-python",
   "name": "python",
   "nbconvert_exporter": "python",
   "pygments_lexer": "ipython3",
   "version": "3.8.5"
  }
 },
 "nbformat": 4,
 "nbformat_minor": 4
}
