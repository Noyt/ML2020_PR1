{
 "cells": [
  {
   "cell_type": "code",
   "execution_count": 180,
   "metadata": {},
   "outputs": [
    {
     "name": "stdout",
     "output_type": "stream",
     "text": [
      "The autoreload extension is already loaded. To reload it, use:\n",
      "  %reload_ext autoreload\n"
     ]
    }
   ],
   "source": [
    "# Useful starting lines\n",
    "%matplotlib inline\n",
    "import numpy as np\n",
    "import matplotlib.pyplot as plt\n",
    "%load_ext autoreload\n",
    "%autoreload 2"
   ]
  },
  {
   "cell_type": "markdown",
   "metadata": {},
   "source": [
    "# EPFL Machine Learning Higgs"
   ]
  },
  {
   "cell_type": "markdown",
   "metadata": {},
   "source": [
    "TODO description"
   ]
  },
  {
   "cell_type": "markdown",
   "metadata": {},
   "source": [
    "## 1. Load the training data into feature matrix, class labels, and event ids:"
   ]
  },
  {
   "cell_type": "code",
   "execution_count": 303,
   "metadata": {
    "collapsed": false,
    "jupyter": {
     "outputs_hidden": false
    }
   },
   "outputs": [],
   "source": [
    "from proj1_helpers import *\n",
    "from implementations import *\n",
    "from cross_validation import *\n",
    "from plots import *"
   ]
  },
  {
   "cell_type": "code",
   "execution_count": 283,
   "metadata": {},
   "outputs": [],
   "source": [
    "DATA_TRAIN_PATH = 'data/train.csv' \n",
    "y, tX, ids = load_csv_data(DATA_TRAIN_PATH)"
   ]
  },
  {
   "cell_type": "markdown",
   "metadata": {},
   "source": [
    "## 2. Data pre-processing\n",
    "\n",
    "Before any attempt to prediction, we perform some data cleaning (TODO) and preprocessing. We start by standardising our training dataset."
   ]
  },
  {
   "cell_type": "code",
   "execution_count": 327,
   "metadata": {},
   "outputs": [
    {
     "data": {
      "text/plain": [
       "array([[1.        , 0.51914948, 0.07485418, ..., 0.99675137, 0.99439501,\n",
       "        0.06948372],\n",
       "       [1.        , 0.52940358, 0.09965294, ..., 0.        , 0.        ,\n",
       "        0.02829991],\n",
       "       [1.        , 0.        , 0.23500634, ..., 0.        , 0.        ,\n",
       "        0.0270908 ],\n",
       "       ...,\n",
       "       [1.        , 0.50408211, 0.08770931, ..., 0.        , 0.        ,\n",
       "        0.02570782],\n",
       "       [1.        , 0.49928709, 0.02805782, ..., 0.        , 0.        ,\n",
       "        0.        ],\n",
       "       [1.        , 0.        , 0.10543202, ..., 0.        , 0.        ,\n",
       "        0.        ]])"
      ]
     },
     "execution_count": 327,
     "metadata": {},
     "output_type": "execute_result"
    }
   ],
   "source": [
    "tx = standardise(tX)\n",
    "tx = normalise(tx)\n",
    "# add constant term\n",
    "tx = np.c_[np.ones(len(tX[:,0])), tx]\n",
    "nb_features=tx.shape[1]\n",
    "tx"
   ]
  },
  {
   "cell_type": "code",
   "execution_count": 184,
   "metadata": {},
   "outputs": [
    {
     "name": "stdout",
     "output_type": "stream",
     "text": [
      "Acc pour non standardisé:  0.744328 \n",
      "Acc pour standardisé:  0.718444 \n"
     ]
    }
   ],
   "source": [
    "w, loss = least_squares(y, tX)\n",
    "print('Acc pour non standardisé:  {} '.format(compute_accuracy(w, y, tX)))\n",
    "      \n",
    "w, loss = least_squares(y, tx)\n",
    "print('Acc pour standardisé:  {} '.format(compute_accuracy(w, y, tx)))"
   ]
  },
  {
   "cell_type": "code",
   "execution_count": 185,
   "metadata": {},
   "outputs": [
    {
     "name": "stdout",
     "output_type": "stream",
     "text": [
      "Acc pour non standardisé:  0.744408 \n"
     ]
    }
   ],
   "source": [
    "# Test en splittant mass\n",
    "w, loss = least_squares(y, new_tX)\n",
    "print('Acc pour non standardisé:  {} '.format(compute_accuracy(w, y, new_tX)))"
   ]
  },
  {
   "cell_type": "code",
   "execution_count": 186,
   "metadata": {},
   "outputs": [
    {
     "name": "stdout",
     "output_type": "stream",
     "text": [
      "Acc pour non standardisé:  0.749872 \n"
     ]
    }
   ],
   "source": [
    "# Test en virant toutes les colonnes phi\n",
    "tX_no_phi = np.delete(new_new_tX,[11, 15, 18, 20, 25, 28], axis = 1) \n",
    "w, loss = least_squares(y, tX_no_phi)\n",
    "print('Acc pour non standardisé:  {} '.format(compute_accuracy(w, y, tX_no_phi)))"
   ]
  },
  {
   "cell_type": "code",
   "execution_count": 187,
   "metadata": {},
   "outputs": [
    {
     "name": "stdout",
     "output_type": "stream",
     "text": [
      "Acc pour non standardisé:  0.74632 \n"
     ]
    }
   ],
   "source": [
    "w, loss = least_squares(y, new_new_tX)\n",
    "print('Acc pour non standardisé:  {} '.format(compute_accuracy(w, y, new_new_tX)))"
   ]
  },
  {
   "cell_type": "code",
   "execution_count": 188,
   "metadata": {},
   "outputs": [
    {
     "name": "stdout",
     "output_type": "stream",
     "text": [
      "Acc pour non standardisé:  0.744564 \n"
     ]
    }
   ],
   "source": [
    "tX_no_obv_phi = np.delete(new_tX, [15, 18, 20], axis = 1)\n",
    "w, loss = least_squares(y, tX_no_obv_phi)\n",
    "print('Acc pour non standardisé:  {} '.format(compute_accuracy(w, y, tX_no_obv_phi)))"
   ]
  },
  {
   "cell_type": "code",
   "execution_count": 189,
   "metadata": {},
   "outputs": [],
   "source": [
    "w, loss = reg_logistic_regression(y, tx, lambda_=1, initial_w=np.random.rand(30), max_iters=50, gamma=0.1)"
   ]
  },
  {
   "cell_type": "code",
   "execution_count": 190,
   "metadata": {},
   "outputs": [
    {
     "data": {
      "text/plain": [
       "array([[ 138.47 ,   51.655,   97.827, ...,   -2.475,  113.497,    0.   ],\n",
       "       [ 160.937,   68.768,  103.235, ..., -999.   ,   46.226,    0.   ],\n",
       "       [   0.   ,  162.172,  125.953, ..., -999.   ,   44.251,   -1.   ],\n",
       "       ...,\n",
       "       [ 105.457,   60.526,   75.839, ..., -999.   ,   41.992,    0.   ],\n",
       "       [  94.951,   19.362,   68.812, ..., -999.   ,    0.   ,    0.   ],\n",
       "       [   0.   ,   72.756,   70.831, ..., -999.   ,    0.   ,   -1.   ]])"
      ]
     },
     "execution_count": 190,
     "metadata": {},
     "output_type": "execute_result"
    }
   ],
   "source": [
    "# Splitting the DER_mass_MMC col in two\n",
    "shape = tX.shape\n",
    "new_tX = np.zeros((shape[0], shape[1]+1))\n",
    "new_tX[:,:-1] = tX\n",
    "idx = (tX[:,0] == -999)\n",
    "mass_999 = tX[:,0]*idx*(1/999)\n",
    "new_tX[:,-1] = mass_999\n",
    "new_tX[idx,0] = 0\n",
    "new_tX"
   ]
  },
  {
   "cell_type": "code",
   "execution_count": 191,
   "metadata": {},
   "outputs": [],
   "source": [
    "new_shape = new_tX.shape\n",
    "new_new_tX = np.zeros((new_shape[0], new_shape[1] + 1))\n",
    "new_new_tX[:,:-1] = new_tX\n",
    "new_idx = (new_tX[:,4] == -999)\n",
    "lot_999 = new_tX[:,4]*new_idx*(1/999)\n",
    "new_new_tX[:,-1] = lot_999\n",
    "new_new_tX[new_idx, 4] = 0\n",
    "new_new_tX[new_idx, 5] = 0\n",
    "new_new_tX[new_idx, 6] = 0\n",
    "new_new_tX[new_idx, 12] = 0\n",
    "new_new_tX[new_idx, 26] = 0\n",
    "new_new_tX[new_idx, 27] = 0\n",
    "new_new_tX[new_idx, 28] = 0"
   ]
  },
  {
   "cell_type": "markdown",
   "metadata": {},
   "source": [
    "## 3. Classic ML methods\n",
    "\n",
    "The following predictions are made using the functions implemented during the course labs.\n",
    "\n",
    "### 3.1 Least Squares GD"
   ]
  },
  {
   "cell_type": "code",
   "execution_count": 358,
   "metadata": {},
   "outputs": [
    {
     "data": {
      "text/plain": [
       "(0.42201727893811036, 0.42177834799969777, 0.66482, 0.6649320000000001)"
      ]
     },
     "execution_count": 358,
     "metadata": {},
     "output_type": "execute_result"
    }
   ],
   "source": [
    "#### testing answer\n",
    "\n",
    "kwargs = {}\n",
    "kwargs['initial_w'] = np.zeros(nb_features)\n",
    "kwargs['max_iters'] = 50\n",
    "kwargs['gamma'] = 0.1\n",
    "\n",
    "cross_validation(y, tx, compute_accuracy, 'least_squares_GD', k_fold=4, **kwargs)"
   ]
  },
  {
   "cell_type": "markdown",
   "metadata": {},
   "source": [
    "### 3.2 Least Squares SGD"
   ]
  },
  {
   "cell_type": "code",
   "execution_count": 360,
   "metadata": {},
   "outputs": [
    {
     "data": {
      "text/plain": [
       "(0.49049773159906307, 0.4899846431973478, 0.6499773333333333, 0.649364)"
      ]
     },
     "execution_count": 360,
     "metadata": {},
     "output_type": "execute_result"
    }
   ],
   "source": [
    "#### testing answer\n",
    "\n",
    "kwargs = {}\n",
    "kwargs['initial_w'] = np.zeros(nb_features)\n",
    "kwargs['max_iters'] = 50\n",
    "kwargs['gamma'] = 0.001\n",
    "\n",
    "cross_validation(y, tx, compute_accuracy, 'least_squares_SGD', k_fold=4, **kwargs)"
   ]
  },
  {
   "cell_type": "markdown",
   "metadata": {},
   "source": [
    "### 3.3 Least Squares, normal equations"
   ]
  },
  {
   "cell_type": "code",
   "execution_count": 319,
   "metadata": {},
   "outputs": [
    {
     "data": {
      "text/plain": [
       "(0.3394279455899529, 0.3395703945520591, 0.7450106666666667, 0.744956)"
      ]
     },
     "execution_count": 319,
     "metadata": {},
     "output_type": "execute_result"
    }
   ],
   "source": [
    "#### testing answer\n",
    "\n",
    "cross_validation(y, tx, compute_accuracy, 'least_squares', k_fold=4)"
   ]
  },
  {
   "cell_type": "markdown",
   "metadata": {},
   "source": [
    "### 3.4 Ridge Regression"
   ]
  },
  {
   "cell_type": "markdown",
   "metadata": {},
   "source": [
    "#### 3.4.1 Algorithm"
   ]
  },
  {
   "cell_type": "code",
   "execution_count": 361,
   "metadata": {},
   "outputs": [
    {
     "data": {
      "text/plain": [
       "(0.34649605780499027, 0.34656554763011965, 0.73242, 0.732304)"
      ]
     },
     "execution_count": 361,
     "metadata": {},
     "output_type": "execute_result"
    }
   ],
   "source": [
    "# Method parameters\n",
    "kwargs = {}\n",
    "kwargs['initial_w'] = np.zeros(nb_features)\n",
    "kwargs['lambda_'] = 0.00011\n",
    "\n",
    "cross_validation(y, tx, compute_accuracy, 'ridge_regression', k_fold=4, **kwargs)"
   ]
  },
  {
   "cell_type": "markdown",
   "metadata": {},
   "source": [
    "#### 3.4.2 Hyperparameter search: lambda\n",
    "\n",
    "In order to improve our performance, we run an hyperparameter search on the regularisation parameter lambda."
   ]
  },
  {
   "cell_type": "code",
   "execution_count": 362,
   "metadata": {},
   "outputs": [
    {
     "data": {
      "text/plain": [
       "0.0001"
      ]
     },
     "execution_count": 362,
     "metadata": {},
     "output_type": "execute_result"
    },
    {
     "data": {
      "image/png": "[encoded data removed]",
      "text/plain": [
       "<Figure size 720x504 with 2 Axes>"
      ]
     },
     "metadata": {
      "needs_background": "light"
     },
     "output_type": "display_data"
    }
   ],
   "source": [
    "kwargs['initial_w'] = np.zeros(nb_features)\n",
    "lambda_space = np.logspace(-4, -1.1, 15)\n",
    "best_lambda = cross_validation_hyper_search(y, tx, 'lambda_', lambda_space , compute_accuracy, 'ridge_regression', 4, **kwargs)\n",
    "best_lambda # TODO il essaie clairement de mettre lambda à 0"
   ]
  },
  {
   "cell_type": "markdown",
   "metadata": {},
   "source": [
    "### 3.5 Logistic Regression"
   ]
  },
  {
   "cell_type": "code",
   "execution_count": 363,
   "metadata": {},
   "outputs": [
    {
     "name": "stdout",
     "output_type": "stream",
     "text": [
      "Current iteration=0, loss=173286.79513998624\n",
      "Current iteration=100, loss=2338648.8861637013\n",
      "Current iteration=200, loss=2276961.619465822\n",
      "Current iteration=300, loss=2191796.772015711\n",
      "Current iteration=400, loss=2122535.4571385663\n",
      "Current iteration=500, loss=2055978.054843549\n",
      "Current iteration=600, loss=1988225.269587835\n",
      "Current iteration=700, loss=1919922.5117049431\n",
      "Current iteration=800, loss=1852657.8761020135\n",
      "Current iteration=900, loss=1786267.4344820832\n"
     ]
    },
    {
     "data": {
      "text/plain": [
       "0.48854"
      ]
     },
     "execution_count": 363,
     "metadata": {},
     "output_type": "execute_result"
    }
   ],
   "source": [
    "w, loss = logistic_regression(y_log_reg, tx, np.zeros(nb_features), 1000, 0.0001)\n",
    "compute_accuracy_log_reg(w, y_log_reg, tx)"
   ]
  },
  {
   "cell_type": "code",
   "execution_count": 364,
   "metadata": {},
   "outputs": [
    {
     "name": "stdout",
     "output_type": "stream",
     "text": [
      "Current iteration=0, loss=129965.09635498974\n",
      "Current iteration=100, loss=121737.00480340105\n",
      "Current iteration=200, loss=119642.74273967811\n",
      "Current iteration=300, loss=118426.24878455502\n",
      "Current iteration=400, loss=117608.72823320134\n",
      "Current iteration=500, loss=116998.51203540864\n",
      "Current iteration=0, loss=129965.09635498974\n",
      "Current iteration=100, loss=121563.29374711326\n",
      "Current iteration=200, loss=119469.65544923591\n",
      "Current iteration=300, loss=118253.42488931536\n",
      "Current iteration=400, loss=117435.04206482218\n",
      "Current iteration=500, loss=116823.43257862428\n",
      "Current iteration=0, loss=129965.09635498974\n",
      "Current iteration=100, loss=121639.80684768772\n",
      "Current iteration=200, loss=119543.49151974432\n",
      "Current iteration=300, loss=118330.36549503304\n",
      "Current iteration=400, loss=117517.38958891624\n",
      "Current iteration=500, loss=116911.77920425996\n",
      "Current iteration=0, loss=129965.09635498974\n",
      "Current iteration=100, loss=121572.81548214747\n",
      "Current iteration=200, loss=119455.9496244127\n",
      "Current iteration=300, loss=118223.81455251128\n",
      "Current iteration=400, loss=117393.68537478537\n",
      "Current iteration=500, loss=116772.81115978076\n"
     ]
    },
    {
     "data": {
      "text/plain": [
       "(116876.63374451842, 38958.38647228767, 0.65818, 0.658196)"
      ]
     },
     "execution_count": 364,
     "metadata": {},
     "output_type": "execute_result"
    }
   ],
   "source": [
    "#### testing answer\n",
    "\n",
    "kwargs = {}\n",
    "kwargs['initial_w'] = np.zeros(nb_features)\n",
    "kwargs['max_iters'] = 501\n",
    "kwargs['gamma'] = 0.0000001\n",
    "\n",
    "y_log_reg = (y+1)/2\n",
    "\n",
    "cross_validation(y_log_reg, tx, compute_accuracy_log_reg, 'logistic_regression', k_fold=4, **kwargs)"
   ]
  },
  {
   "cell_type": "markdown",
   "metadata": {},
   "source": [
    "### 3.6 Penalized Logistic Regression"
   ]
  },
  {
   "cell_type": "markdown",
   "metadata": {},
   "source": [
    "#### 3.6.1 Algorithm"
   ]
  },
  {
   "cell_type": "code",
   "execution_count": 366,
   "metadata": {},
   "outputs": [
    {
     "data": {
      "text/plain": [
       "(1828744.315836586, 561375.3776797091, 0.604984, 0.604224)"
      ]
     },
     "execution_count": 366,
     "metadata": {},
     "output_type": "execute_result"
    }
   ],
   "source": [
    "#### testing answer\n",
    "\n",
    "kwargs = {}\n",
    "kwargs['initial_w'] = np.zeros(nb_features)\n",
    "kwargs['max_iters'] = 500\n",
    "kwargs['gamma'] = 0.001\n",
    "kwargs['lambda_'] = 0.01\n",
    "\n",
    "y_log_reg = (y+1)/2\n",
    "\n",
    "cross_validation(y_log_reg, tx, compute_accuracy_log_reg, 'reg_logistic_regression', k_fold=4, **kwargs)"
   ]
  },
  {
   "cell_type": "markdown",
   "metadata": {},
   "source": [
    "#### 3.6.2 Hyperparameter search: lambda\n",
    "\n",
    "In order to improve our performance, we run an hyperparameter search on the regularisation parameter lambda."
   ]
  },
  {
   "cell_type": "code",
   "execution_count": 367,
   "metadata": {},
   "outputs": [
    {
     "data": {
      "text/plain": [
       "0.00024709112279856045"
      ]
     },
     "execution_count": 367,
     "metadata": {},
     "output_type": "execute_result"
    },
    {
     "data": {
      "image/png": "[encoded data removed]",
      "text/plain": [
       "<Figure size 720x504 with 2 Axes>"
      ]
     },
     "metadata": {
      "needs_background": "light"
     },
     "output_type": "display_data"
    }
   ],
   "source": [
    "kwargs['initial_w'] = np.zeros(nb_features)\n",
    "kwargs['max_iters'] = 50\n",
    "kwargs['gamma'] = 0.001\n",
    "lambda_space = np.logspace(-5, -1.1, 15)\n",
    "best_lambda = cross_validation_hyper_search(y_log_reg, tx, 'lambda_', lambda_space , compute_accuracy_log_reg, 'reg_logistic_regression', 4, **kwargs)\n",
    "best_lambda "
   ]
  },
  {
   "cell_type": "code",
   "execution_count": 368,
   "metadata": {},
   "outputs": [
    {
     "name": "stderr",
     "output_type": "stream",
     "text": [
      "/home/noyt/Desktop/MA1/ML_CS433/ML2020_PR1/proj1_helpers.py:85: RuntimeWarning: overflow encountered in exp\n",
      "  ret = 1 / (1 + np.exp(-t))\n"
     ]
    },
    {
     "data": {
      "text/plain": [
       "5.179474679231212e-06"
      ]
     },
     "execution_count": 368,
     "metadata": {},
     "output_type": "execute_result"
    },
    {
     "data": {
      "image/png": "[encoded data removed]",
      "text/plain": [
       "<Figure size 720x504 with 2 Axes>"
      ]
     },
     "metadata": {
      "needs_background": "light"
     },
     "output_type": "display_data"
    }
   ],
   "source": [
    "kwargs['initial_w'] = np.zeros(nb_features)\n",
    "kwargs['max_iters'] = 50\n",
    "kwargs['lambda'] = best_lambda\n",
    "gamma_space = np.logspace(-7, -1, 8)\n",
    "best_gamma = cross_validation_hyper_search(y_log_reg, tx, 'gamma', gamma_space , compute_accuracy_log_reg, 'reg_logistic_regression', 4, **kwargs)\n",
    "best_gamma "
   ]
  },
  {
   "cell_type": "markdown",
   "metadata": {},
   "source": [
    "## Generate predictions and save ouput in csv format for submission:"
   ]
  },
  {
   "cell_type": "code",
   "execution_count": 142,
   "metadata": {
    "collapsed": false,
    "jupyter": {
     "outputs_hidden": false
    }
   },
   "outputs": [],
   "source": [
    "DATA_TEST_PATH = 'data/test.csv'\n",
    "\n",
    "# TODO standardise test data when required\n",
    "_, tX_test, ids_test = load_csv_data(DATA_TEST_PATH)"
   ]
  },
  {
   "cell_type": "code",
   "execution_count": 27,
   "metadata": {
    "collapsed": false,
    "jupyter": {
     "outputs_hidden": false
    }
   },
   "outputs": [],
   "source": [
    "OUTPUT_PATH = 'data/output.csv' # TODO: fill in desired name of output file for submission\n",
    "y_pred = predict_labels(w, tX_test)\n",
    "create_csv_submission(ids_test, y_pred, OUTPUT_PATH)"
   ]
  },
  {
   "cell_type": "code",
   "execution_count": 47,
   "metadata": {},
   "outputs": [
    {
     "data": {
      "text/plain": [
       "0.636648"
      ]
     },
     "execution_count": 47,
     "metadata": {},
     "output_type": "execute_result"
    }
   ],
   "source": [
    "compute_accuracy(w, y, new_tX)"
   ]
  },
  {
   "cell_type": "code",
   "execution_count": 49,
   "metadata": {},
   "outputs": [
    {
     "data": {
      "text/plain": [
       "array([ 0.42412233,  0.42412233, -2.35781033, ...,  0.42412233,\n",
       "        0.42412233, -2.35781033])"
      ]
     },
     "execution_count": 49,
     "metadata": {},
     "output_type": "execute_result"
    }
   ],
   "source": []
  }
 ],
 "metadata": {
  "anaconda-cloud": {},
  "kernelspec": {
   "display_name": "Python 3",
   "language": "python",
   "name": "python3"
  },
  "language_info": {
   "codemirror_mode": {
    "name": "ipython",
    "version": 3
   },
   "file_extension": ".py",
   "mimetype": "text/x-python",
   "name": "python",
   "nbconvert_exporter": "python",
   "pygments_lexer": "ipython3",
   "version": "3.7.4"
  }
 },
 "nbformat": 4,
 "nbformat_minor": 4
}
