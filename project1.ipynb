{
 "cells": [
  {
   "cell_type": "code",
   "execution_count": 1,
   "metadata": {},
   "outputs": [],
   "source": [
    "# Useful starting lines\n",
    "%matplotlib inline\n",
    "import numpy as np\n",
    "import matplotlib.pyplot as plt\n",
    "%load_ext autoreload\n",
    "%autoreload 2"
   ]
  },
  {
   "cell_type": "markdown",
   "metadata": {},
   "source": [
    "# EPFL Machine Learning Higgs"
   ]
  },
  {
   "cell_type": "markdown",
   "metadata": {},
   "source": [
    "This notebook presents our results for the EPFL Machine Learning Higgs Boson Challenge.\n",
    "We first apply all mandatory implementations from the project to the challenge, on raw unaltered data.\n",
    "\n",
    "In a second step, we use different techniques to better our prediction performance, namely on the Ridge Regression model that we choose as our baseline.\n",
    "\n",
    "Finaly, the last section of the notebook allows us to compute our prediction on the test set."
   ]
  },
  {
   "cell_type": "markdown",
   "metadata": {},
   "source": [
    "## 1. Load the training data into feature matrix, class labels, and event ids:"
   ]
  },
  {
   "cell_type": "code",
   "execution_count": 50,
   "metadata": {
    "collapsed": false,
    "jupyter": {
     "outputs_hidden": false
    }
   },
   "outputs": [],
   "source": [
    "from proj1_helpers import *\n",
    "from implementations import least_squares, least_squares_GD, least_squares_SGD, ridge_regression, logistic_regression, reg_logistic_regression\n",
    "from cross_validation import *\n",
    "from plots import *"
   ]
  },
  {
   "cell_type": "code",
   "execution_count": 3,
   "metadata": {},
   "outputs": [],
   "source": [
    "DATA_TRAIN_PATH = 'data/train.csv' \n",
    "y, tX, ids = load_csv_data(DATA_TRAIN_PATH)"
   ]
  },
  {
   "cell_type": "code",
   "execution_count": 4,
   "metadata": {},
   "outputs": [],
   "source": [
    "nb_features=tX.shape[1]"
   ]
  },
  {
   "cell_type": "markdown",
   "metadata": {},
   "source": [
    "## 2. Classic ML methods without any data pre-processing\n",
    "\n",
    "The following predictions are made using the functions implemented during the course labs. The results serve as a baseline to compare with our future results and see weather there is improvement. The selected parameter where also randomly chosen.\n",
    "### 2.1 Least Squares GD"
   ]
  },
  {
   "cell_type": "code",
   "execution_count": 21,
   "metadata": {},
   "outputs": [
    {
     "name": "stdout",
     "output_type": "stream",
     "text": [
      "Mean training loss: 0.4182063027028858\n",
      "Mean testing loss: 0.4169221489890197\n",
      "Mean training accuracy: 0.6923906666666668\n",
      "Mean testing accuracy: 0.692396\n"
     ]
    }
   ],
   "source": [
    "kwargs = {}\n",
    "kwargs['max_iters'] = 10\n",
    "kwargs['gamma'] = 0.1\n",
    "\n",
    "loss_tr, loss_te, acc_tr, acc_te = cross_validation(y, tX, compute_accuracy, 'least_squares_GD', k_fold=4, **kwargs)\n",
    "display_cv_results(loss_tr, loss_te, acc_tr, acc_te)"
   ]
  },
  {
   "cell_type": "markdown",
   "metadata": {},
   "source": [
    "### 2.2 Least Squares SGD"
   ]
  },
  {
   "cell_type": "code",
   "execution_count": 22,
   "metadata": {},
   "outputs": [
    {
     "name": "stdout",
     "output_type": "stream",
     "text": [
      "Mean training loss: 0.4773664334545206\n",
      "Mean testing loss: 0.47676613351706765\n",
      "Mean training accuracy: 0.6456706666666666\n",
      "Mean testing accuracy: 0.645228\n"
     ]
    }
   ],
   "source": [
    "kwargs = {}\n",
    "kwargs['max_iters'] = 50\n",
    "kwargs['gamma'] = 0.001\n",
    "\n",
    "loss_tr, loss_te, acc_tr, acc_te = cross_validation(y, tX, compute_accuracy, 'least_squares_SGD', k_fold=4, **kwargs)\n",
    "display_cv_results(loss_tr, loss_te, acc_tr, acc_te)"
   ]
  },
  {
   "cell_type": "markdown",
   "metadata": {},
   "source": [
    "### 2.3 Least Squares, normal equations"
   ]
  },
  {
   "cell_type": "code",
   "execution_count": 23,
   "metadata": {},
   "outputs": [
    {
     "name": "stdout",
     "output_type": "stream",
     "text": [
      "Mean training loss: 0.3889363604714363\n",
      "Mean testing loss: 0.3890671452268004\n",
      "Mean training accuracy: 0.718468\n",
      "Mean testing accuracy: 0.7184320000000001\n"
     ]
    }
   ],
   "source": [
    "loss_tr, loss_te, acc_tr, acc_te = cross_validation(y, tX, compute_accuracy, 'least_squares', k_fold=4)\n",
    "display_cv_results(loss_tr, loss_te, acc_tr, acc_te)"
   ]
  },
  {
   "cell_type": "markdown",
   "metadata": {},
   "source": [
    "### 2.4 Ridge Regression"
   ]
  },
  {
   "cell_type": "code",
   "execution_count": 24,
   "metadata": {},
   "outputs": [
    {
     "name": "stdout",
     "output_type": "stream",
     "text": [
      "Mean training loss: 0.39024101286443846\n",
      "Mean testing loss: 0.3903157766456746\n",
      "Mean training accuracy: 0.71638\n",
      "Mean testing accuracy: 0.716272\n"
     ]
    }
   ],
   "source": [
    "kwargs = {}\n",
    "kwargs['lambda_'] = 0.01\n",
    "\n",
    "loss_tr, loss_te, acc_tr, acc_te = cross_validation(y, tX, compute_accuracy, 'ridge_regression', k_fold=4, **kwargs)\n",
    "display_cv_results(loss_tr, loss_te, acc_tr, acc_te)"
   ]
  },
  {
   "cell_type": "markdown",
   "metadata": {},
   "source": [
    "### 2.5 Logistic Regression"
   ]
  },
  {
   "cell_type": "code",
   "execution_count": 25,
   "metadata": {},
   "outputs": [
    {
     "name": "stdout",
     "output_type": "stream",
     "text": [
      "Mean training loss: 234959.56653122348\n",
      "Mean testing loss: 0.9902666664419358\n",
      "Mean training accuracy: 0.5839799999999999\n",
      "Mean testing accuracy: 0.584004\n"
     ]
    }
   ],
   "source": [
    "kwargs = {}\n",
    "kwargs['max_iters'] = 100\n",
    "kwargs['gamma'] = 0.00001\n",
    "\n",
    "# We modify the labels taking into account the fact that logistic regression returns 0 instead of -1\n",
    "y_log_reg = (y+1)/2\n",
    "\n",
    "loss_tr, loss_te, acc_tr, acc_te = cross_validation(y_log_reg, tX, compute_accuracy_log_reg, 'logistic_regression', k_fold=4, **kwargs)\n",
    "display_cv_results(loss_tr, loss_te, acc_tr, acc_te)"
   ]
  },
  {
   "cell_type": "markdown",
   "metadata": {},
   "source": [
    "### 2.6 Penalized Logistic Regression"
   ]
  },
  {
   "cell_type": "code",
   "execution_count": 26,
   "metadata": {},
   "outputs": [
    {
     "name": "stdout",
     "output_type": "stream",
     "text": [
      "Mean training loss: 206552.33215697762\n",
      "Mean testing loss: 0.9631777532401782\n",
      "Mean training accuracy: 0.5972013333333334\n",
      "Mean testing accuracy: 0.5970960000000001\n"
     ]
    }
   ],
   "source": [
    "kwargs = {}\n",
    "kwargs['max_iters'] = 1000\n",
    "kwargs['gamma'] = 0.00001\n",
    "kwargs['lambda_'] = 0.0001\n",
    "\n",
    "# We modify the labels taking into account the fact that logistic regression returns 0 instead of -1\n",
    "y_log_reg = (y+1)/2\n",
    "\n",
    "loss_tr, loss_te, acc_tr, acc_te = cross_validation(y_log_reg, tX, compute_accuracy_log_reg, 'reg_logistic_regression', k_fold=4, **kwargs)\n",
    "display_cv_results(loss_tr, loss_te, acc_tr, acc_te)"
   ]
  },
  {
   "cell_type": "markdown",
   "metadata": {},
   "source": [
    "## 3. Improving the baseline model\n",
    "\n",
    "We now try to perform different techniques to improve our prediction using ridge regression, and stack them along this notebook."
   ]
  },
  {
   "cell_type": "code",
   "execution_count": 47,
   "metadata": {},
   "outputs": [],
   "source": [
    "### TODO delete when not required anymore\n",
    "sub_idx = np.random.permutation(250000)[:1000]\n",
    "\n",
    "# sub sample to work on time consuming methods\n",
    "sub_tx = tx[sub_idx]\n",
    "sub_y = y[sub_idx]"
   ]
  },
  {
   "cell_type": "markdown",
   "metadata": {},
   "source": [
    "We recall that the raw model performance was 71.62% in terms of mean test accuracy."
   ]
  },
  {
   "cell_type": "markdown",
   "metadata": {},
   "source": [
    "#### 3.1 Adding an offset term"
   ]
  },
  {
   "cell_type": "markdown",
   "metadata": {},
   "source": [
    "We start off by adding an offset term to our regression, thus making our problem D = 31 dimensional."
   ]
  },
  {
   "cell_type": "code",
   "execution_count": 29,
   "metadata": {},
   "outputs": [
    {
     "name": "stdout",
     "output_type": "stream",
     "text": [
      "Mean training loss: 0.3407519666578689\n",
      "Mean testing loss: 0.3408357518076855\n",
      "Mean training accuracy: 0.7433799999999999\n",
      "Mean testing accuracy: 0.74344\n"
     ]
    }
   ],
   "source": [
    "kwargs = {}\n",
    "kwargs['lambda_'] = 0.01\n",
    "\n",
    "loss_tr, loss_te, acc_tr, acc_te = cross_validation(y, tX, compute_accuracy, 'ridge_regression', k_fold=4, add_offset=True, **kwargs)\n",
    "display_cv_results(loss_tr, loss_te, acc_tr, acc_te)"
   ]
  },
  {
   "cell_type": "markdown",
   "metadata": {},
   "source": [
    " Adding an offset term proves to be succesful operation, improving our performance by roughly 2.68 percentage points."
   ]
  },
  {
   "cell_type": "markdown",
   "metadata": {},
   "source": [
    "#### 3.2 Polynomial extension\n",
    "\n",
    "As a second technique, we decide to conduct a polynomial extension of our features. We take the square of each of our original features, thus leading to D = 61 dimension space."
   ]
  },
  {
   "cell_type": "code",
   "execution_count": 32,
   "metadata": {},
   "outputs": [
    {
     "name": "stdout",
     "output_type": "stream",
     "text": [
      "Mean training loss: 0.3258366636264841\n",
      "Mean testing loss: 0.37581755938543204\n",
      "Mean training accuracy: 0.7611426666666666\n",
      "Mean testing accuracy: 0.76084\n"
     ]
    }
   ],
   "source": [
    "kwargs = {}\n",
    "kwargs['lambda_'] = 0.01\n",
    "\n",
    "loss_tr, loss_te, acc_tr, acc_te = cross_validation(y, tX, compute_accuracy, 'ridge_regression', k_fold=4, degree=2, add_offset=True, **kwargs)\n",
    "display_cv_results(loss_tr, loss_te, acc_tr, acc_te)"
   ]
  },
  {
   "cell_type": "markdown",
   "metadata": {},
   "source": [
    "Once again, the performance increases, by roughly 1.7 percentage points"
   ]
  },
  {
   "cell_type": "markdown",
   "metadata": {},
   "source": [
    "#### 3.3 Hyper-parameter search\n",
    "\n",
    "Our model now has two different hyper-parameter: the degree of the polynomial extension, and the regularisation parameter lambda. We conduct a double hyper-parameter grid search, and select the best performing pair in terms of mean testing accuracy over all testing folds."
   ]
  },
  {
   "cell_type": "code",
   "execution_count": 52,
   "metadata": {},
   "outputs": [
    {
     "name": "stdout",
     "output_type": "stream",
     "text": [
      "Best degree: 10\n",
      "Best lambda: 1.389495494373136e-10\n"
     ]
    },
    {
     "data": {
      "image/png": "[encoded data removed]",
      "text/plain": [
       "<Figure size 1080x720 with 9 Axes>"
      ]
     },
     "metadata": {
      "needs_background": "light"
     },
     "output_type": "display_data"
    }
   ],
   "source": [
    "max_degree = 11\n",
    "degree_space = range(3, max_degree + 1)\n",
    "lambda_space = np.logspace(-15, -3, 15)\n",
    "best_degree, best_lambda = cross_validation_degree_and_param_search(y, tX, param_name='lambda_',\n",
    "                                                                    degree_space=degree_space,\n",
    "                                                                    param_space=lambda_space,\n",
    "                                                                    metric=compute_accuracy,\n",
    "                                                                    learning_model='ridge_regression',\n",
    "                                                                    add_offset=True,\n",
    "                                                                    k_fold=4)\n",
    "print('Best degree: {}'.format(best_degree))\n",
    "print('Best lambda: {}'.format(best_lambda))"
   ]
  },
  {
   "cell_type": "code",
   "execution_count": 53,
   "metadata": {},
   "outputs": [
    {
     "name": "stdout",
     "output_type": "stream",
     "text": [
      "Mean training loss: 0.27447901136630004\n",
      "Mean testing loss: 1.0172235703210662e+20\n",
      "Mean training accuracy: 0.8166053333333334\n",
      "Mean testing accuracy: 0.816104\n"
     ]
    }
   ],
   "source": [
    "kwargs = {}\n",
    "kwargs['lambda_'] = best_lambda\n",
    "\n",
    "loss_tr, loss_te, acc_tr, acc_te = cross_validation(y, tX, compute_accuracy, 'ridge_regression', k_fold=4, degree=best_degree, add_offset=True, **kwargs)\n",
    "display_cv_results(loss_tr, loss_te, acc_tr, acc_te)"
   ]
  },
  {
   "cell_type": "markdown",
   "metadata": {},
   "source": [
    "The returned pair is degree = 10 and lambda roughly equal to 1.38e-10. Using these values we indeed obtain a better performance, now reaching 81.61% accuracy, which is roughly a 5.5 percentage point increase.\n",
    "We also notice that paradoxaly, the testing loss has exploded. Nonetheless, this kind of behavior can happen when using MSE which is the case here in the ridge regression."
   ]
  },
  {
   "cell_type": "markdown",
   "metadata": {},
   "source": [
    "### Data preprocessing\n",
    "\n",
    "Looking at the data we observe that ???? "
   ]
  },
  {
   "cell_type": "code",
   "execution_count": 54,
   "metadata": {},
   "outputs": [],
   "source": [
    "tx = mass_abs(tX)"
   ]
  },
  {
   "cell_type": "code",
   "execution_count": 55,
   "metadata": {},
   "outputs": [
    {
     "name": "stdout",
     "output_type": "stream",
     "text": [
      "Mean training loss: 0.27301771882919096\n",
      "Mean testing loss: 8.054876265645895e+19\n",
      "Mean training accuracy: 0.8169146666666667\n",
      "Mean testing accuracy: 0.816608\n"
     ]
    }
   ],
   "source": [
    "kwargs = {}\n",
    "kwargs['lambda_'] = best_lambda\n",
    "\n",
    "loss_tr, loss_te, acc_tr, acc_te = cross_validation(y, tx, compute_accuracy, 'ridge_regression', k_fold=4, degree=best_degree, add_offset=True, **kwargs)\n",
    "display_cv_results(loss_tr, loss_te, acc_tr, acc_te)"
   ]
  },
  {
   "cell_type": "code",
   "execution_count": 97,
   "metadata": {},
   "outputs": [
    {
     "data": {
      "text/plain": [
       "array([[ 1.00000000e+00,  1.34700000e+01,  5.16550000e+01, ...,\n",
       "         1.24000000e+00, -2.47500000e+00,  1.13497000e+02],\n",
       "       [ 1.00000000e+00,  3.59370000e+01,  6.87680000e+01, ...,\n",
       "        -9.99000000e+02, -9.99000000e+02,  4.62260000e+01],\n",
       "       [ 1.00000000e+00,  4.94921398e+01,  1.62172000e+02, ...,\n",
       "        -9.99000000e+02, -9.99000000e+02,  4.42510000e+01],\n",
       "       ...,\n",
       "       [ 1.00000000e+00,  1.95430000e+01,  6.05260000e+01, ...,\n",
       "        -9.99000000e+02, -9.99000000e+02,  4.19920000e+01],\n",
       "       [ 1.00000000e+00,  3.00490000e+01,  1.93620000e+01, ...,\n",
       "        -9.99000000e+02, -9.99000000e+02,  0.00000000e+00],\n",
       "       [ 1.00000000e+00,  1.12400000e+03,  7.27560000e+01, ...,\n",
       "        -9.99000000e+02, -9.99000000e+02,  0.00000000e+00]])"
      ]
     },
     "execution_count": 97,
     "metadata": {},
     "output_type": "execute_result"
    }
   ],
   "source": [
    "tx_phi"
   ]
  },
  {
   "cell_type": "code",
   "execution_count": 89,
   "metadata": {},
   "outputs": [
    {
     "name": "stdout",
     "output_type": "stream",
     "text": [
      "[40.88936287627325, 7.9220685930127015, 7.872531862147633, 6.290677515091544, 5.475203017613468, 5.183761834321638, 3.920428711152875, 4.023875076567922, 3.355728023978446, 3.0176614838007136, 2.6179228632969562, 2.2058765973787455, 1.614107295895485, 1.3394620796224803, 1.4759246992911161, 0.9703594368738941, 0.4869350119258079, 0.3945199889923991, 0.20704944812730855, 0.31517522685561367, 0.2996037566998952, 0.11880208987769707, 0.002426247967194658, 0.00046010463652533957, 2.6022439980320673e-05, 2.282672740311337e-05, 1.6362953063851323e-05, 1.0010917050984859e-05, 9.355195857135497e-07, 4.161944427678628e-11]\n"
     ]
    }
   ],
   "source": [
    "stan_tX, _, _ = standardise(tx)\n",
    "eigen_values, eigen_vectors = np.linalg.eig(np.cov(stan_tX.T))\n",
    "\n",
    "# Calculating the explained variance on each of components\n",
    "variance_explained = []\n",
    "for i in eigen_values:\n",
    "     variance_explained.append((i/sum(eigen_values))*100)\n",
    "        \n",
    "print(variance_explained)"
   ]
  },
  {
   "cell_type": "code",
   "execution_count": 90,
   "metadata": {},
   "outputs": [
    {
     "data": {
      "text/plain": [
       "[40.88936287627325,\n",
       " 7.9220685930127015,\n",
       " 7.872531862147633,\n",
       " 6.290677515091544,\n",
       " 5.475203017613468,\n",
       " 5.183761834321638,\n",
       " 3.920428711152875,\n",
       " 4.023875076567922,\n",
       " 3.355728023978446,\n",
       " 3.0176614838007136,\n",
       " 2.6179228632969562,\n",
       " 2.2058765973787455,\n",
       " 1.614107295895485,\n",
       " 1.3394620796224803,\n",
       " 1.4759246992911161,\n",
       " 0.9703594368738941,\n",
       " 0.4869350119258079,\n",
       " 0.3945199889923991,\n",
       " 0.20704944812730855,\n",
       " 0.31517522685561367,\n",
       " 0.2996037566998952,\n",
       " 0.11880208987769707,\n",
       " 0.002426247967194658,\n",
       " 0.00046010463652533957,\n",
       " 2.6022439980320673e-05,\n",
       " 2.282672740311337e-05,\n",
       " 1.6362953063851323e-05,\n",
       " 1.0010917050984859e-05,\n",
       " 9.355195857135497e-07,\n",
       " 4.161944427678628e-11]"
      ]
     },
     "execution_count": 90,
     "metadata": {},
     "output_type": "execute_result"
    }
   ],
   "source": [
    "variance_explained"
   ]
  },
  {
   "cell_type": "code",
   "execution_count": 91,
   "metadata": {},
   "outputs": [
    {
     "data": {
      "text/plain": [
       "Text(0.5, 1.0, 'Explained variance vs Number of components')"
      ]
     },
     "execution_count": 91,
     "metadata": {},
     "output_type": "execute_result"
    },
    {
     "data": {
      "image/png": "[encoded data removed]",
      "text/plain": [
       "<Figure size 432x288 with 1 Axes>"
      ]
     },
     "metadata": {
      "needs_background": "light"
     },
     "output_type": "display_data"
    }
   ],
   "source": [
    "# Identifying components that explain at least 95%\n",
    "cumulative_variance_explained = np.cumsum(variance_explained)\n",
    "\n",
    "# Visualizing the eigenvalues and finding the \"elbow\" in the graphic\n",
    "sns.lineplot(x = [i+1 for i in range(30)], y=cumulative_variance_explained)\n",
    "plt.xlabel(\"Number of components\")\n",
    "plt.ylabel(\"Cumulative explained variance\")\n",
    "plt.title(\"Explained variance vs Number of components\")"
   ]
  },
  {
   "cell_type": "code",
   "execution_count": 92,
   "metadata": {},
   "outputs": [
    {
     "data": {
      "text/plain": [
       "array([[ 3.82184037, -1.11580795, -1.66247266, ..., -0.06117227,\n",
       "         0.03045851,  0.24684064],\n",
       "       [-0.98876299, -0.40338897,  1.75524591, ...,  0.13465072,\n",
       "         0.18388308,  0.16660242],\n",
       "       [-0.47370223,  4.51729734,  0.47677636, ..., -0.15876378,\n",
       "        -0.28654566,  0.65096854],\n",
       "       ...,\n",
       "       [-0.88682813, -0.23909028,  1.69505526, ..., -0.04683935,\n",
       "         0.0686812 ,  0.09917478],\n",
       "       [-3.07915695, -1.67341419, -0.03171262, ...,  0.06367414,\n",
       "         0.14795286,  0.11646187],\n",
       "       [-3.30836546,  0.53896289, -1.05908229, ...,  0.14830973,\n",
       "         0.0998994 ,  0.16296513]])"
      ]
     },
     "execution_count": 92,
     "metadata": {},
     "output_type": "execute_result"
    }
   ],
   "source": [
    "projection_matrix = (eigen_vectors.T[:][:20]).T\n",
    "# Getting the product of original standardized X and the eigenvectors \n",
    "tX_pca = stan_tX.dot(projection_matrix)\n",
    "tX_pca"
   ]
  },
  {
   "cell_type": "code",
   "execution_count": 99,
   "metadata": {},
   "outputs": [
    {
     "name": "stdout",
     "output_type": "stream",
     "text": [
      "Mean training loss: 0.32132145787301447\n",
      "Mean testing loss: 6883979025290.133\n",
      "Mean training accuracy: 0.7661586666666667\n",
      "Mean testing accuracy: 0.7656639999999999\n"
     ]
    }
   ],
   "source": [
    "kwargs = {}\n",
    "kwargs['lambda_'] = best_lambda\n",
    "\n",
    "loss_tr, loss_te, acc_tr, acc_te = cross_validation(y, tX_pca, compute_accuracy, 'ridge_regression', k_fold=4, degree=8, add_offset=True, **kwargs)\n",
    "display_cv_results(loss_tr, loss_te, acc_tr, acc_te)"
   ]
  },
  {
   "cell_type": "code",
   "execution_count": 100,
   "metadata": {},
   "outputs": [
    {
     "name": "stdout",
     "output_type": "stream",
     "text": [
      "Best degree: 10\n",
      "Best lambda: 1.9306977288832455e-05\n"
     ]
    },
    {
     "data": {
      "image/png": "[encoded data removed]",
      "text/plain": [
       "<Figure size 1080x720 with 9 Axes>"
      ]
     },
     "metadata": {
      "needs_background": "light"
     },
     "output_type": "display_data"
    }
   ],
   "source": [
    "max_degree = 11\n",
    "degree_space = range(3, max_degree + 1)\n",
    "lambda_space = np.logspace(-15, -3, 15)\n",
    "best_degree, best_lambda = cross_validation_degree_and_param_search(y, tX_pca, param_name='lambda_',\n",
    "                                                                    degree_space=degree_space,\n",
    "                                                                    param_space=lambda_space,\n",
    "                                                                    metric=compute_accuracy,\n",
    "                                                                    learning_model='ridge_regression',\n",
    "                                                                    add_offset=True,\n",
    "                                                                    k_fold=4)\n",
    "print('Best degree: {}'.format(best_degree))\n",
    "print('Best lambda: {}'.format(best_lambda))"
   ]
  },
  {
   "cell_type": "code",
   "execution_count": 96,
   "metadata": {},
   "outputs": [
    {
     "name": "stdout",
     "output_type": "stream",
     "text": [
      "Mean training loss: 0.2726104117835864\n",
      "Mean testing loss: 5.049157711020644e+21\n",
      "Mean training accuracy: 0.8161080000000001\n",
      "Mean testing accuracy: 0.815876\n"
     ]
    }
   ],
   "source": [
    "kwargs = {}\n",
    "kwargs['lambda_'] = best_lambda\n",
    "\n",
    "loss_tr, loss_te, acc_tr, acc_te = cross_validation(y, stan_tX, compute_accuracy, 'ridge_regression', k_fold=4, degree=best_degree, add_offset=True, **kwargs)\n",
    "display_cv_results(loss_tr, loss_te, acc_tr, acc_te)"
   ]
  },
  {
   "cell_type": "markdown",
   "metadata": {},
   "source": [
    "## Generate predictions and save ouput in csv format for submission:"
   ]
  },
  {
   "cell_type": "code",
   "execution_count": 119,
   "metadata": {
    "collapsed": false,
    "jupyter": {
     "outputs_hidden": false
    }
   },
   "outputs": [],
   "source": [
    "DATA_TEST_PATH = 'data/test.csv'\n",
    "\n",
    "# TODO standardise test data when required\n",
    "_, tX_test, ids_test = load_csv_data(DATA_TEST_PATH)"
   ]
  },
  {
   "cell_type": "code",
   "execution_count": 334,
   "metadata": {},
   "outputs": [
    {
     "data": {
      "text/plain": [
       "0.807824"
      ]
     },
     "execution_count": 334,
     "metadata": {},
     "output_type": "execute_result"
    }
   ],
   "source": [
    "tx = mass_abs(tX)\n",
    "tx, mean_tX, std_tX = standardise(tx)\n",
    "tx = np.c_[np.ones(len(tx[:,0])), tx]\n",
    "tx = build_poly(tx, degree=6)\n",
    "\n",
    "w, loss = least_squares(y, tx)\n",
    "compute_accuracy(w, y, tx)"
   ]
  },
  {
   "cell_type": "code",
   "execution_count": 336,
   "metadata": {},
   "outputs": [
    {
     "data": {
      "text/plain": [
       "4.649074522881124e+22"
      ]
     },
     "execution_count": 336,
     "metadata": {},
     "output_type": "execute_result"
    }
   ],
   "source": [
    "compute_loss_regression(w, y, tx)"
   ]
  },
  {
   "cell_type": "code",
   "execution_count": 222,
   "metadata": {},
   "outputs": [
    {
     "name": "stdout",
     "output_type": "stream",
     "text": [
      "(568238, 181)\n"
     ]
    }
   ],
   "source": [
    "tx_test = mass_abs(tX_test)\n",
    "tx_test, _, _ = standardise(tx_test, mean_tX, std_tX)\n",
    "tx_test_poly = np.c_[np.ones(len(tx_test[:,0])), tx_test]\n",
    "tx_test_poly = build_poly(tx_test_poly, 6)\n",
    "\n",
    "print(tx_test_poly.shape)"
   ]
  },
  {
   "cell_type": "code",
   "execution_count": 223,
   "metadata": {},
   "outputs": [
    {
     "data": {
      "text/plain": [
       "(181,)"
      ]
     },
     "execution_count": 223,
     "metadata": {},
     "output_type": "execute_result"
    }
   ],
   "source": [
    "w.shape"
   ]
  },
  {
   "cell_type": "code",
   "execution_count": 224,
   "metadata": {
    "collapsed": false,
    "jupyter": {
     "outputs_hidden": false
    }
   },
   "outputs": [],
   "source": [
    "OUTPUT_PATH = 'data/output.csv' # TODO: fill in desired name of output file for submission\n",
    "y_pred = predict_labels(w, tx_test_poly)\n",
    "create_csv_submission(ids_test, y_pred, OUTPUT_PATH)"
   ]
  },
  {
   "cell_type": "code",
   "execution_count": 225,
   "metadata": {},
   "outputs": [
    {
     "data": {
      "text/plain": [
       "174001"
      ]
     },
     "execution_count": 225,
     "metadata": {},
     "output_type": "execute_result"
    }
   ],
   "source": [
    "(y_pred == 1).sum()"
   ]
  },
  {
   "cell_type": "code",
   "execution_count": 164,
   "metadata": {},
   "outputs": [
    {
     "data": {
      "text/plain": [
       "array([-0.63102913, -0.15065374, -0.45099874, ..., -0.51406582,\n",
       "       -0.30788485, -0.35025265])"
      ]
     },
     "execution_count": 164,
     "metadata": {},
     "output_type": "execute_result"
    }
   ],
   "source": [
    "np.mean(tx_test, axis=1)"
   ]
  }
 ],
 "metadata": {
  "anaconda-cloud": {},
  "kernelspec": {
   "display_name": "Python 3",
   "language": "python",
   "name": "python3"
  },
  "language_info": {
   "codemirror_mode": {
    "name": "ipython",
    "version": 3
   },
   "file_extension": ".py",
   "mimetype": "text/x-python",
   "name": "python",
   "nbconvert_exporter": "python",
   "pygments_lexer": "ipython3",
   "version": "3.7.4"
  }
 },
 "nbformat": 4,
 "nbformat_minor": 4
}
