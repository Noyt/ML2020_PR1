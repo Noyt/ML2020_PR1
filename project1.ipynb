{
 "cells": [
  {
   "cell_type": "code",
   "execution_count": 30,
   "metadata": {},
   "outputs": [
    {
     "name": "stdout",
     "output_type": "stream",
     "text": [
      "The autoreload extension is already loaded. To reload it, use:\n",
      "  %reload_ext autoreload\n"
     ]
    }
   ],
   "source": [
    "# Useful starting lines\n",
    "%matplotlib inline\n",
    "import numpy as np\n",
    "import matplotlib.pyplot as plt\n",
    "%load_ext autoreload\n",
    "%autoreload 2"
   ]
  },
  {
   "cell_type": "markdown",
   "metadata": {},
   "source": [
    "# EPFL Machine Learning Higgs"
   ]
  },
  {
   "cell_type": "markdown",
   "metadata": {},
   "source": [
    "TODO description"
   ]
  },
  {
   "cell_type": "markdown",
   "metadata": {},
   "source": [
    "## 1. Load the training data into feature matrix, class labels, and event ids:"
   ]
  },
  {
   "cell_type": "code",
   "execution_count": 31,
   "metadata": {
    "collapsed": false,
    "jupyter": {
     "outputs_hidden": false
    }
   },
   "outputs": [],
   "source": [
    "from proj1_helpers import *\n",
    "from implementations import *\n",
    "from cross_validation import *\n",
    "from plots import *"
   ]
  },
  {
   "cell_type": "code",
   "execution_count": 3,
   "metadata": {},
   "outputs": [],
   "source": [
    "DATA_TRAIN_PATH = 'data/train.csv' \n",
    "y, tX, ids = load_csv_data(DATA_TRAIN_PATH)"
   ]
  },
  {
   "cell_type": "markdown",
   "metadata": {},
   "source": [
    "## 2. Data pre-processing\n",
    "\n",
    "Before any attempt to prediction, we perform some data cleaning (TODO) and preprocessing. We start by standardising our training dataset."
   ]
  },
  {
   "cell_type": "code",
   "execution_count": 4,
   "metadata": {},
   "outputs": [],
   "source": [
    "tx = standardise(tX)\n",
    "# TODO proof of success ?"
   ]
  },
  {
   "cell_type": "code",
   "execution_count": 60,
   "metadata": {},
   "outputs": [
    {
     "name": "stderr",
     "output_type": "stream",
     "text": [
      "/home/noyt/Desktop/MA1/ML_CS433/ML2020_PR1/implementations.py:212: RuntimeWarning: overflow encountered in exp\n",
      "  ret = 1 / (1 + np.exp(-t))\n"
     ]
    }
   ],
   "source": [
    "w, loss = reg_logistic_regression(y, tx, lambda_=1, initial_w=np.random.rand(30), max_iters=50, gamma=0.1)"
   ]
  },
  {
   "cell_type": "markdown",
   "metadata": {},
   "source": [
    "## 3. Classic ML methods\n",
    "\n",
    "The following predictions are made using the functions implemented during the course labs.\n",
    "\n",
    "### 3.1 Least Squares GD"
   ]
  },
  {
   "cell_type": "code",
   "execution_count": 70,
   "metadata": {},
   "outputs": [],
   "source": [
    "initial_w = np.random.rand(30)\n",
    "w, loss = least_squares_GD(y, tx, initial_w, 50, 0.01)"
   ]
  },
  {
   "cell_type": "code",
   "execution_count": null,
   "metadata": {},
   "outputs": [],
   "source": [
    "#### testing answer\n",
    "\n",
    "kwargs = {}\n",
    "kwargs['initial_w'] = np.random.rand(30)\n",
    "kwargs['max_iters'] = 50\n",
    "kwargs['gamma'] = 0.01\n",
    "kwargs['degree'] = 1\n",
    "\n",
    "cross_validation(y, tx, compute_accuracy, 'reg_logistic_regression', k_fold=4, **kwargs)"
   ]
  },
  {
   "cell_type": "markdown",
   "metadata": {},
   "source": [
    "### 3.2 Least Squares SGD"
   ]
  },
  {
   "cell_type": "markdown",
   "metadata": {},
   "source": [
    "### 3.3 Least Squares, normal equations"
   ]
  },
  {
   "cell_type": "markdown",
   "metadata": {},
   "source": [
    "### 3.4 Ridge Regression\n",
    "\n",
    "#### 3.4.2 Hyperparameter search: lambda\n",
    "\n",
    "In order to improve our performance, we run an hyperparameter search on the regularisation parameter lambda."
   ]
  },
  {
   "cell_type": "code",
   "execution_count": 73,
   "metadata": {},
   "outputs": [],
   "source": [
    "def cross_validation_lambda_search(y, x, metric, learning_model, k_fold, **kwargs):\n",
    "    \"\"\"\n",
    "    TODO\n",
    "    \n",
    "    y: targets\n",
    "    x: data samples\n",
    "    metric: (function) metric to compute (e.g. accuracy, recall)\n",
    "    learning_model: str, method to employ (e.g. 'least_squares', 'ridge_regression')\n",
    "    k_fold: number of folds to perform\n",
    "    **kwargs: additional arguments for learning method (e.g. lambda, degree)\n",
    "    returns: TODO\n",
    "    \"\"\"\n",
    "    seed = 1\n",
    "    lambdas = np.logspace(-4, 0, 30)\n",
    "    # split data in k fold\n",
    "    k_indices = build_k_indices(y, k_fold, seed)\n",
    "    # define lists to store the loss of training data and test data\n",
    "    mse_tr = []\n",
    "    mse_te = []\n",
    "    metric_tr = []\n",
    "    metric_te = []\n",
    "    \n",
    "    # map to retreive best performing lambda TODO is selecting by the loss the best idea ?\n",
    "    loss_to_lambda = {}\n",
    "    \n",
    "    # ***************************************************\n",
    "    # cross validation\n",
    "    # ***************************************************\n",
    "    for lambd in lambdas:\n",
    "        kwargs['lambda_'] = lambd\n",
    "        tmp_mse_tr = []\n",
    "        tmp_mse_te = []\n",
    "        tmp_metric_tr = []\n",
    "        tmp_metric_te = []\n",
    "        for k in range(len(k_indices)):\n",
    "            loss_tr, loss_te, met_tr, met_te = cross_validation_single_fold(y, x, k_indices, k, metric, learning_model, **kwargs)\n",
    "            tmp_mse_tr.append(loss_tr)\n",
    "            tmp_mse_te.append(loss_te)\n",
    "            tmp_metric_tr.append(met_tr)\n",
    "            tmp_metric_te.append(met_te)\n",
    "        # Appending mean measures over the folds\n",
    "        mse_tr.append(np.mean(tmp_mse_tr))\n",
    "        mse_te.append(np.mean(tmp_mse_te))\n",
    "        metric_tr.append(np.mean(tmp_metric_tr))\n",
    "        metric_te.append(np.mean(tmp_metric_te))\n",
    "        \n",
    "        loss_to_lambda[np.mean(tmp_mse_te)] = lambd\n",
    "        \n",
    "    # Plotting\n",
    "    fig, axes = plt.subplots(2, 1, figsize=(10,7), sharex=True, sharey=False)\n",
    "    cross_validation_visualization_loss(lambdas, mse_tr, mse_te, axes[0])\n",
    "    cross_validation_visualization_metric(lambdas, metric_tr, metric_te, 'accuracy', axes[1])\n",
    "    \n",
    "    return loss_to_lambda[np.min(list(loss_to_lambda.keys()))]\n",
    "\n",
    "\n",
    "def cross_validation_hyper_search(y, x, param_name, search_space, metric, learning_model, k_fold, **kwargs):\n",
    "    \"\"\"\n",
    "    TODO\n",
    "    \n",
    "    y: targets\n",
    "    x: data samples\n",
    "    param_name: str, parameter to search, must be the same as would be provided in kwargs\n",
    "    search_space: iterable, values from which the parameter will be searched\n",
    "    metric: (function) metric to compute (e.g. accuracy, recall)\n",
    "    learning_model: str, method to employ (e.g. 'least_squares', 'ridge_regression')\n",
    "    k_fold: number of folds to perform\n",
    "    **kwargs: additional arguments for learning method (e.g. lambda, degree)\n",
    "    returns: TODO\n",
    "    \"\"\"\n",
    "    seed = 1\n",
    "    # split data in k fold\n",
    "    k_indices = build_k_indices(y, k_fold, seed)\n",
    "    # define lists to store the loss of training data and test data\n",
    "    mse_tr = []\n",
    "    mse_te = []\n",
    "    metric_tr = []\n",
    "    metric_te = []\n",
    "    \n",
    "    # map to retreive best performing parameter TODO is selecting by the loss the best idea ?\n",
    "    loss_to_param = {}\n",
    "    \n",
    "    # ***************************************************\n",
    "    # cross validation\n",
    "    # ***************************************************\n",
    "    for param in search_space:\n",
    "        kwargs[param_name] = param\n",
    "        tmp_mse_tr = []\n",
    "        tmp_mse_te = []\n",
    "        tmp_metric_tr = []\n",
    "        tmp_metric_te = []\n",
    "        for k in range(len(k_indices)):\n",
    "            loss_tr, loss_te, met_tr, met_te = cross_validation_single_fold(y, x, k_indices, k, metric, learning_model, **kwargs)\n",
    "            tmp_mse_tr.append(loss_tr)\n",
    "            tmp_mse_te.append(loss_te)\n",
    "            tmp_metric_tr.append(met_tr)\n",
    "            tmp_metric_te.append(met_te)\n",
    "        # Appending mean measures over the folds\n",
    "        mse_tr.append(np.mean(tmp_mse_tr))\n",
    "        mse_te.append(np.mean(tmp_mse_te))\n",
    "        metric_tr.append(np.mean(tmp_metric_tr))\n",
    "        metric_te.append(np.mean(tmp_metric_te))\n",
    "        \n",
    "        loss_to_param[np.mean(tmp_mse_te)] = param\n",
    "        \n",
    "    # Plotting\n",
    "    fig, axes = plt.subplots(2, 1, figsize=(10,7), sharex=True, sharey=False)\n",
    "    cross_validation_visualization_loss(search_space, mse_tr, mse_te, axes[0])\n",
    "    # TODO accuracy make generic\n",
    "    cross_validation_visualization_metric(search_space, metric_tr, metric_te, 'accuracy', axes[1])\n",
    "    \n",
    "    return loss_to_param[np.min(list(loss_to_param.keys()))]"
   ]
  },
  {
   "cell_type": "code",
   "execution_count": 80,
   "metadata": {},
   "outputs": [
    {
     "data": {
      "text/plain": [
       "0.1"
      ]
     },
     "execution_count": 80,
     "metadata": {},
     "output_type": "execute_result"
    },
    {
     "data": {
      "image/png": "[encoded data removed]",
      "text/plain": [
       "<Figure size 720x504 with 2 Axes>"
      ]
     },
     "metadata": {
      "needs_background": "light"
     },
     "output_type": "display_data"
    }
   ],
   "source": [
    "kwargs['initial_w'] = np.random.rand(30)\n",
    "kwargs['max_iters'] = 50\n",
    "gamma_space = np.logspace(-3, 0, 10)\n",
    "best_gamma = cross_validation_hyper_search(y, tx, 'gamma', gamma_space , compute_accuracy, 'least_squares_GD', 8, **kwargs)\n",
    "best_gamma"
   ]
  },
  {
   "cell_type": "markdown",
   "metadata": {},
   "source": [
    "## Generate predictions and save ouput in csv format for submission:"
   ]
  },
  {
   "cell_type": "code",
   "execution_count": 8,
   "metadata": {
    "collapsed": false,
    "jupyter": {
     "outputs_hidden": false
    }
   },
   "outputs": [],
   "source": [
    "DATA_TEST_PATH = 'data/test.csv'\n",
    "\n",
    "# TODO standardise test data when required\n",
    "_, tX_test, ids_test = load_csv_data(DATA_TEST_PATH)"
   ]
  },
  {
   "cell_type": "code",
   "execution_count": 27,
   "metadata": {
    "collapsed": false,
    "jupyter": {
     "outputs_hidden": false
    }
   },
   "outputs": [],
   "source": [
    "OUTPUT_PATH = 'data/output.csv' # TODO: fill in desired name of output file for submission\n",
    "y_pred = predict_labels(w, tX_test)\n",
    "create_csv_submission(ids_test, y_pred, OUTPUT_PATH)"
   ]
  },
  {
   "cell_type": "code",
   "execution_count": 71,
   "metadata": {},
   "outputs": [
    {
     "data": {
      "text/plain": [
       "0.547484"
      ]
     },
     "execution_count": 71,
     "metadata": {},
     "output_type": "execute_result"
    }
   ],
   "source": [
    "compute_accuracy(w, y, tx)"
   ]
  },
  {
   "cell_type": "code",
   "execution_count": 77,
   "metadata": {},
   "outputs": [
    {
     "data": {
      "text/plain": [
       "array([1.00000000e-04, 1.37382380e-04, 1.88739182e-04, 2.59294380e-04,\n",
       "       3.56224789e-04, 4.89390092e-04, 6.72335754e-04, 9.23670857e-04,\n",
       "       1.26896100e-03, 1.74332882e-03, 2.39502662e-03, 3.29034456e-03,\n",
       "       4.52035366e-03, 6.21016942e-03, 8.53167852e-03, 1.17210230e-02,\n",
       "       1.61026203e-02, 2.21221629e-02, 3.03919538e-02, 4.17531894e-02,\n",
       "       5.73615251e-02, 7.88046282e-02, 1.08263673e-01, 1.48735211e-01,\n",
       "       2.04335972e-01, 2.80721620e-01, 3.85662042e-01, 5.29831691e-01,\n",
       "       7.27895384e-01, 1.00000000e+00])"
      ]
     },
     "execution_count": 77,
     "metadata": {},
     "output_type": "execute_result"
    }
   ],
   "source": [
    "np.logspace(-4, 0, 30)"
   ]
  }
 ],
 "metadata": {
  "anaconda-cloud": {},
  "kernelspec": {
   "display_name": "Python 3",
   "language": "python",
   "name": "python3"
  },
  "language_info": {
   "codemirror_mode": {
    "name": "ipython",
    "version": 3
   },
   "file_extension": ".py",
   "mimetype": "text/x-python",
   "name": "python",
   "nbconvert_exporter": "python",
   "pygments_lexer": "ipython3",
   "version": "3.7.4"
  }
 },
 "nbformat": 4,
 "nbformat_minor": 4
}
